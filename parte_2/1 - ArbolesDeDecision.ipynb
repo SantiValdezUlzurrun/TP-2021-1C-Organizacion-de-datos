{
 "cells": [
  {
   "cell_type": "markdown",
   "id": "ef395bd1",
   "metadata": {},
   "source": [
    "# Trabajo Práctico 2: Arboles de Decision\n",
    "\n",
    "## Configuraciones iniciales:"
   ]
  },
  {
   "cell_type": "code",
   "execution_count": 2,
   "id": "88c37e61",
   "metadata": {},
   "outputs": [],
   "source": [
    "import pandas as pd\n",
    "import numpy as np\n",
    "import graphviz\n",
    "import matplotlib.pyplot as plt\n",
    "import seaborn as sns\n",
    "\n",
    "from IPython.display import SVG, display\n",
    "\n",
    "from sklearn import tree\n",
    "from sklearn.tree import plot_tree\n",
    "\n",
    "from sklearn.decomposition import PCA\n",
    "from sklearn.preprocessing import MinMaxScaler\n",
    "from sklearn.model_selection import train_test_split\n",
    "\n",
    "\n",
    "from sklearn.metrics import accuracy_score\n",
    "from sklearn.metrics import roc_auc_score\n",
    "from sklearn.metrics import recall_score\n",
    "from sklearn.metrics import precision_score\n",
    "from sklearn.metrics import confusion_matrix\n",
    "from sklearn.metrics import classification_report\n",
    "\n",
    "from sklearn.model_selection import GridSearchCV\n",
    "\n",
    "RANDOM_STATE = 19 * 103785"
   ]
  },
  {
   "cell_type": "code",
   "execution_count": 3,
   "id": "2cb6296a",
   "metadata": {},
   "outputs": [],
   "source": [
    "from preprocesamiento import obtenerDFHoldout, obtenerDFTraining\n",
    "from preprocesamiento import preprocesar_data_frame\n",
    "from preprocesamiento import feature_engineering"
   ]
  },
  {
   "cell_type": "markdown",
   "id": "89154d3c",
   "metadata": {},
   "source": [
    "## Árboles de decisión:\n",
    "\n",
    "Los árboles de decisión de clasificación son modelos que buscan separar a todas las instancias utilizando la información que nos otorgan los feature, de modo que los nodos más profundos sean lo \"más puros\" posible. Es decir que en ellos quede una distribución homogénea de las clases que estamos tratando de predecir.\n",
    "\n",
    "Existen varios hiperparametros a la hora de entrenar un árbol: \n",
    "\n",
    "+ criterion : Es el criterio con el cual se selecciona la nueva \"regla de decisión\" que separará el nodo actual en dos nuevos nodos.\n",
    "\n",
    "+ max_depth : La profundidad máxima del árbol.\n",
    "\n",
    "+ min_samples_leaf : La mínima cantidad de instancias que puede tener un nodo.\n",
    "\n",
    "+ class_weight : Un peso que se le agrega para darle más importancia a la clase menos representativa.\n",
    "\n",
    "\n",
    "## Funciones auxiliares:"
   ]
  },
  {
   "cell_type": "code",
   "execution_count": 4,
   "id": "04990391",
   "metadata": {},
   "outputs": [],
   "source": [
    "# Imprime las metricas Recall, Precision, Accuracy, Roc-auc y muestra la matriz de confuncion.\n",
    "def metricas(y_real, y_pred, x_test, modelo):\n",
    "\n",
    "    data = {'y_real': y_real,\n",
    "            'y_pred': y_pred}\n",
    "\n",
    "    df_metricas = pd.DataFrame(data, columns=['y_real','y_pred'])\n",
    "    confusion_matrix = pd.crosstab(df_metricas['y_real'], df_metricas['y_pred'], rownames=['Real'], colnames=['Predicho'])\n",
    "    sns.heatmap(confusion_matrix, annot=True, fmt=\"d\")\n",
    "    plt.show()\n",
    "\n",
    "    print(\"Recall: {}\".format(recall_score(y_real, y_pred).round(2)))\n",
    "    print(\"Precision: {}\".format(precision_score(y_real, y_pred).round(2)))\n",
    "    print(\"Acc: {}\".format(accuracy_score(y_real, y_pred).round(2)))\n",
    "    print(\"Roc: {}\".format(roc_auc_score(y_real, modelo.predict_proba(x_test)[:, 1]).round(2)))\n",
    "\n",
    "def plot_tree(arbol,data):\n",
    "    dot_data = tree.export_graphviz(\n",
    "        arbol,\n",
    "        out_file=None,\n",
    "        feature_names=data.columns,\n",
    "        filled=True,\n",
    "        rounded=True,\n",
    "        special_characters=True,\n",
    "    )\n",
    "    graph = graphviz.Source(dot_data)\n",
    "    display(SVG(graph.pipe(format='svg')))"
   ]
  },
  {
   "cell_type": "markdown",
   "id": "95fd6ab3",
   "metadata": {},
   "source": [
    "## Preprocesamiento"
   ]
  },
  {
   "cell_type": "code",
   "execution_count": 5,
   "id": "afc01ace",
   "metadata": {},
   "outputs": [],
   "source": [
    "def prepros_dummies(data):\n",
    "    \n",
    "    data_prepos = pd.get_dummies(data[['ganancia_perdida_declarada_bolsa_argentina','trabajo',\n",
    "                                      'estado_marital','genero',\"anios_estudiados\"]])\n",
    "    \n",
    "    data_prepos['ganancia_perdida_declarada_bolsa_argentina'] = data_prepos['ganancia_perdida_declarada_bolsa_argentina'].apply(lambda x: np.tanh(x))\n",
    "    data_prepos = data_prepos.drop(['trabajo_No contesto'],axis = 1)\n",
    "    data_prepos = data_prepos.drop(['genero_mujer'],axis = 1)\n",
    "    data_prepos = data_prepos.drop(['estado_marital_divorciado'],axis = 1)\n",
    "\n",
    "    return data_prepos"
   ]
  },
  {
   "cell_type": "code",
   "execution_count": 7,
   "id": "a36a7ca9",
   "metadata": {},
   "outputs": [
    {
     "data": {
      "text/html": [
       "<div>\n",
       "<style scoped>\n",
       "    .dataframe tbody tr th:only-of-type {\n",
       "        vertical-align: middle;\n",
       "    }\n",
       "\n",
       "    .dataframe tbody tr th {\n",
       "        vertical-align: top;\n",
       "    }\n",
       "\n",
       "    .dataframe thead th {\n",
       "        text-align: right;\n",
       "    }\n",
       "</style>\n",
       "<table border=\"1\" class=\"dataframe\">\n",
       "  <thead>\n",
       "    <tr style=\"text-align: right;\">\n",
       "      <th></th>\n",
       "      <th>anios_estudiados</th>\n",
       "      <th>barrio</th>\n",
       "      <th>categoria_de_trabajo</th>\n",
       "      <th>edad</th>\n",
       "      <th>educacion_alcanzada</th>\n",
       "      <th>estado_marital</th>\n",
       "      <th>ganancia_perdida_declarada_bolsa_argentina</th>\n",
       "      <th>genero</th>\n",
       "      <th>horas_trabajo_registradas</th>\n",
       "      <th>religion</th>\n",
       "      <th>rol_familiar_registrado</th>\n",
       "      <th>tiene_alto_valor_adquisitivo</th>\n",
       "      <th>trabajo</th>\n",
       "    </tr>\n",
       "  </thead>\n",
       "  <tbody>\n",
       "    <tr>\n",
       "      <th>0</th>\n",
       "      <td>17</td>\n",
       "      <td>Palermo</td>\n",
       "      <td>empleado_provincial</td>\n",
       "      <td>39</td>\n",
       "      <td>universidad_3_anio</td>\n",
       "      <td>sin_matrimonio</td>\n",
       "      <td>2174</td>\n",
       "      <td>hombre</td>\n",
       "      <td>40</td>\n",
       "      <td>cristianismo</td>\n",
       "      <td>sin_familia</td>\n",
       "      <td>0</td>\n",
       "      <td>entretenimiento</td>\n",
       "    </tr>\n",
       "    <tr>\n",
       "      <th>1</th>\n",
       "      <td>17</td>\n",
       "      <td>Palermo</td>\n",
       "      <td>monotibutista</td>\n",
       "      <td>50</td>\n",
       "      <td>universidad_3_anio</td>\n",
       "      <td>matrimonio_civil</td>\n",
       "      <td>0</td>\n",
       "      <td>hombre</td>\n",
       "      <td>13</td>\n",
       "      <td>cristianismo</td>\n",
       "      <td>casado</td>\n",
       "      <td>0</td>\n",
       "      <td>directivo_gerente</td>\n",
       "    </tr>\n",
       "    <tr>\n",
       "      <th>2</th>\n",
       "      <td>13</td>\n",
       "      <td>Palermo</td>\n",
       "      <td>relacion_de_dependencia</td>\n",
       "      <td>38</td>\n",
       "      <td>4_anio</td>\n",
       "      <td>divorciado</td>\n",
       "      <td>0</td>\n",
       "      <td>hombre</td>\n",
       "      <td>40</td>\n",
       "      <td>cristianismo</td>\n",
       "      <td>sin_familia</td>\n",
       "      <td>0</td>\n",
       "      <td>limpiador</td>\n",
       "    </tr>\n",
       "    <tr>\n",
       "      <th>3</th>\n",
       "      <td>11</td>\n",
       "      <td>Palermo</td>\n",
       "      <td>relacion_de_dependencia</td>\n",
       "      <td>53</td>\n",
       "      <td>2_anio</td>\n",
       "      <td>matrimonio_civil</td>\n",
       "      <td>0</td>\n",
       "      <td>hombre</td>\n",
       "      <td>40</td>\n",
       "      <td>judaismo</td>\n",
       "      <td>casado</td>\n",
       "      <td>0</td>\n",
       "      <td>limpiador</td>\n",
       "    </tr>\n",
       "    <tr>\n",
       "      <th>4</th>\n",
       "      <td>17</td>\n",
       "      <td>Balvanera</td>\n",
       "      <td>relacion_de_dependencia</td>\n",
       "      <td>28</td>\n",
       "      <td>universidad_3_anio</td>\n",
       "      <td>matrimonio_civil</td>\n",
       "      <td>0</td>\n",
       "      <td>mujer</td>\n",
       "      <td>40</td>\n",
       "      <td>judaismo</td>\n",
       "      <td>casada</td>\n",
       "      <td>0</td>\n",
       "      <td>profesional_especializado</td>\n",
       "    </tr>\n",
       "    <tr>\n",
       "      <th>...</th>\n",
       "      <td>...</td>\n",
       "      <td>...</td>\n",
       "      <td>...</td>\n",
       "      <td>...</td>\n",
       "      <td>...</td>\n",
       "      <td>...</td>\n",
       "      <td>...</td>\n",
       "      <td>...</td>\n",
       "      <td>...</td>\n",
       "      <td>...</td>\n",
       "      <td>...</td>\n",
       "      <td>...</td>\n",
       "      <td>...</td>\n",
       "    </tr>\n",
       "    <tr>\n",
       "      <th>32556</th>\n",
       "      <td>16</td>\n",
       "      <td>Palermo</td>\n",
       "      <td>relacion_de_dependencia</td>\n",
       "      <td>27</td>\n",
       "      <td>universidad_2_anio</td>\n",
       "      <td>matrimonio_civil</td>\n",
       "      <td>0</td>\n",
       "      <td>mujer</td>\n",
       "      <td>38</td>\n",
       "      <td>cristianismo</td>\n",
       "      <td>casada</td>\n",
       "      <td>0</td>\n",
       "      <td>soporte_tecnico</td>\n",
       "    </tr>\n",
       "    <tr>\n",
       "      <th>32557</th>\n",
       "      <td>13</td>\n",
       "      <td>Palermo</td>\n",
       "      <td>relacion_de_dependencia</td>\n",
       "      <td>40</td>\n",
       "      <td>4_anio</td>\n",
       "      <td>matrimonio_civil</td>\n",
       "      <td>0</td>\n",
       "      <td>hombre</td>\n",
       "      <td>40</td>\n",
       "      <td>cristianismo</td>\n",
       "      <td>casado</td>\n",
       "      <td>1</td>\n",
       "      <td>inspector</td>\n",
       "    </tr>\n",
       "    <tr>\n",
       "      <th>32558</th>\n",
       "      <td>13</td>\n",
       "      <td>Palermo</td>\n",
       "      <td>relacion_de_dependencia</td>\n",
       "      <td>58</td>\n",
       "      <td>4_anio</td>\n",
       "      <td>viudo_a</td>\n",
       "      <td>0</td>\n",
       "      <td>mujer</td>\n",
       "      <td>40</td>\n",
       "      <td>cristianismo</td>\n",
       "      <td>soltero_a</td>\n",
       "      <td>0</td>\n",
       "      <td>entretenimiento</td>\n",
       "    </tr>\n",
       "    <tr>\n",
       "      <th>32559</th>\n",
       "      <td>13</td>\n",
       "      <td>Palermo</td>\n",
       "      <td>relacion_de_dependencia</td>\n",
       "      <td>22</td>\n",
       "      <td>4_anio</td>\n",
       "      <td>sin_matrimonio</td>\n",
       "      <td>0</td>\n",
       "      <td>hombre</td>\n",
       "      <td>20</td>\n",
       "      <td>cristianismo</td>\n",
       "      <td>con_hijos</td>\n",
       "      <td>0</td>\n",
       "      <td>entretenimiento</td>\n",
       "    </tr>\n",
       "    <tr>\n",
       "      <th>32560</th>\n",
       "      <td>13</td>\n",
       "      <td>Palermo</td>\n",
       "      <td>responsable_inscripto</td>\n",
       "      <td>52</td>\n",
       "      <td>4_anio</td>\n",
       "      <td>matrimonio_civil</td>\n",
       "      <td>15024</td>\n",
       "      <td>mujer</td>\n",
       "      <td>40</td>\n",
       "      <td>cristianismo</td>\n",
       "      <td>casada</td>\n",
       "      <td>1</td>\n",
       "      <td>directivo_gerente</td>\n",
       "    </tr>\n",
       "  </tbody>\n",
       "</table>\n",
       "<p>32534 rows × 13 columns</p>\n",
       "</div>"
      ],
      "text/plain": [
       "       anios_estudiados     barrio     categoria_de_trabajo  edad  \\\n",
       "0                    17    Palermo      empleado_provincial    39   \n",
       "1                    17    Palermo            monotibutista    50   \n",
       "2                    13    Palermo  relacion_de_dependencia    38   \n",
       "3                    11    Palermo  relacion_de_dependencia    53   \n",
       "4                    17  Balvanera  relacion_de_dependencia    28   \n",
       "...                 ...        ...                      ...   ...   \n",
       "32556                16    Palermo  relacion_de_dependencia    27   \n",
       "32557                13    Palermo  relacion_de_dependencia    40   \n",
       "32558                13    Palermo  relacion_de_dependencia    58   \n",
       "32559                13    Palermo  relacion_de_dependencia    22   \n",
       "32560                13    Palermo    responsable_inscripto    52   \n",
       "\n",
       "      educacion_alcanzada    estado_marital  \\\n",
       "0      universidad_3_anio    sin_matrimonio   \n",
       "1      universidad_3_anio  matrimonio_civil   \n",
       "2                  4_anio        divorciado   \n",
       "3                  2_anio  matrimonio_civil   \n",
       "4      universidad_3_anio  matrimonio_civil   \n",
       "...                   ...               ...   \n",
       "32556  universidad_2_anio  matrimonio_civil   \n",
       "32557              4_anio  matrimonio_civil   \n",
       "32558              4_anio           viudo_a   \n",
       "32559              4_anio    sin_matrimonio   \n",
       "32560              4_anio  matrimonio_civil   \n",
       "\n",
       "       ganancia_perdida_declarada_bolsa_argentina  genero  \\\n",
       "0                                            2174  hombre   \n",
       "1                                               0  hombre   \n",
       "2                                               0  hombre   \n",
       "3                                               0  hombre   \n",
       "4                                               0   mujer   \n",
       "...                                           ...     ...   \n",
       "32556                                           0   mujer   \n",
       "32557                                           0  hombre   \n",
       "32558                                           0   mujer   \n",
       "32559                                           0  hombre   \n",
       "32560                                       15024   mujer   \n",
       "\n",
       "       horas_trabajo_registradas      religion rol_familiar_registrado  \\\n",
       "0                             40  cristianismo             sin_familia   \n",
       "1                             13  cristianismo                  casado   \n",
       "2                             40  cristianismo             sin_familia   \n",
       "3                             40      judaismo                  casado   \n",
       "4                             40      judaismo                  casada   \n",
       "...                          ...           ...                     ...   \n",
       "32556                         38  cristianismo                  casada   \n",
       "32557                         40  cristianismo                  casado   \n",
       "32558                         40  cristianismo               soltero_a   \n",
       "32559                         20  cristianismo               con_hijos   \n",
       "32560                         40  cristianismo                  casada   \n",
       "\n",
       "       tiene_alto_valor_adquisitivo                    trabajo  \n",
       "0                                 0            entretenimiento  \n",
       "1                                 0          directivo_gerente  \n",
       "2                                 0                  limpiador  \n",
       "3                                 0                  limpiador  \n",
       "4                                 0  profesional_especializado  \n",
       "...                             ...                        ...  \n",
       "32556                             0            soporte_tecnico  \n",
       "32557                             1                  inspector  \n",
       "32558                             0            entretenimiento  \n",
       "32559                             0            entretenimiento  \n",
       "32560                             1          directivo_gerente  \n",
       "\n",
       "[32534 rows x 13 columns]"
      ]
     },
     "execution_count": 7,
     "metadata": {},
     "output_type": "execute_result"
    }
   ],
   "source": [
    "df = obtenerDFTraining()\n",
    "(X,y) = preprocesar_data_frame(df)\n",
    "X_prepos= prepros_dummies(X)\n",
    "\n",
    "X_train, X_test, y_train, y_test = train_test_split(X_prepos, y, test_size=0.25, random_state=RANDOM_STATE)\n",
    "df"
   ]
  },
  {
   "cell_type": "markdown",
   "id": "c6032e21",
   "metadata": {},
   "source": [
    "Inicialmente utilizaremos un GridSearch buscando los mejores hiperparametros: Probamos distintos criterios de selección, distintas alturas, mínimos elementos en nodos y distintos pesos para el alto y bajo poder adquisitivo."
   ]
  },
  {
   "cell_type": "code",
   "execution_count": 6,
   "id": "188e7295",
   "metadata": {},
   "outputs": [
    {
     "name": "stdout",
     "output_type": "stream",
     "text": [
      "              precision    recall  f1-score   support\n",
      "\n",
      "           0       0.91      0.82      0.86      6196\n",
      "           1       0.56      0.72      0.63      1936\n",
      "\n",
      "    accuracy                           0.80      8132\n",
      "   macro avg       0.73      0.77      0.75      8132\n",
      "weighted avg       0.82      0.80      0.81      8132\n",
      "\n"
     ]
    },
    {
     "data": {
      "text/plain": [
       "{'class_weight': {0: 1, 1: 2},\n",
       " 'criterion': 'gini',\n",
       " 'max_depth': 8,\n",
       " 'min_samples_leaf': 250,\n",
       " 'random_state': 1971915}"
      ]
     },
     "execution_count": 6,
     "metadata": {},
     "output_type": "execute_result"
    }
   ],
   "source": [
    "parametros = {'criterion' : ('gini','entropy') , 'max_depth':range(2,10), \n",
    "              'min_samples_leaf':(1,250,500,1000),\n",
    "              \"class_weight\" :  [{0: 1,1: 1},{0: 1,1: 1.25},{0: 1,1: 1.5},{0: 1,1: 2}],\n",
    "              'random_state':[RANDOM_STATE]} \n",
    "\n",
    "arbol = tree.DecisionTreeClassifier()\n",
    "clf = GridSearchCV(arbol, parametros, scoring = \"roc_auc\",n_jobs= -1, verbose = 0, cv= 10)\n",
    "\n",
    "clf.fit(X_train, y_train)\n",
    "print(classification_report(y_test,clf.predict(X_test)))\n",
    "clf.best_params_"
   ]
  },
  {
   "cell_type": "markdown",
   "id": "02bb96c7",
   "metadata": {},
   "source": [
    "Una vez tenemos el mejor modelo lo entrenamos individualmente y vemos sus métricas"
   ]
  },
  {
   "cell_type": "code",
   "execution_count": 17,
   "id": "52577b70",
   "metadata": {},
   "outputs": [
    {
     "data": {
      "image/png": "[encoded data removed]",
      "text/plain": [
       "<Figure size 432x288 with 2 Axes>"
      ]
     },
     "metadata": {
      "needs_background": "light"
     },
     "output_type": "display_data"
    },
    {
     "name": "stdout",
     "output_type": "stream",
     "text": [
      "Recall: 0.72\n",
      "Precision: 0.56\n",
      "Acc: 0.8\n",
      "Roc: 0.87\n"
     ]
    }
   ],
   "source": [
    "clf =tree.DecisionTreeClassifier(class_weight = {0: 1, 1: 2}, criterion = 'gini',min_samples_leaf = 250,\n",
    "                                 max_depth = 8, random_state = 1971915)\n",
    "\n",
    "clf.fit(X_train,y_train)\n",
    "\n",
    "metricas(y_test,clf.predict(X_test),X_test,clf)"
   ]
  },
  {
   "cell_type": "markdown",
   "id": "b7b2ed3c",
   "metadata": {},
   "source": [
    "## Otro Preprocesamiento: Reduccion de dimensionalidad "
   ]
  },
  {
   "cell_type": "markdown",
   "id": "deda60eb",
   "metadata": {},
   "source": [
    "En la primera parte hicimos un preprocesamiento manual, utilizando los que sabemos sobre el dataset gracias a la primera parte del trabajo práctico. Ahora buscamos utilizar otras herramientas para ver si podemos mejorar el preprocesamiento."
   ]
  },
  {
   "cell_type": "code",
   "execution_count": 28,
   "id": "71301777",
   "metadata": {},
   "outputs": [],
   "source": [
    "def preprocesar_df_min_max_scaler(X : pd.DataFrame):\n",
    "    X = pd.get_dummies(X)\n",
    "    scaler = MinMaxScaler()\n",
    "    scaler.fit(X)\n",
    "    return scaler.transform(X)\n",
    "\n",
    "def preprocesar_df_pca(df , dim):\n",
    "    Y = df['tiene_alto_valor_adquisitivo']\n",
    "    X = df.drop(columns=['tiene_alto_valor_adquisitivo'])\n",
    "    X = preprocesar_df_min_max_scaler(X)\n",
    "    \n",
    "    x_train, x_test, y_train, y_test = train_test_split(X, Y, test_size=0.25, random_state=RANDOM_STATE)\n",
    "    \n",
    "    pca = PCA(dim)\n",
    "    x_train_pca = pd.DataFrame(pca.fit_transform(x_train))\n",
    "    x_test_pca = pca.transform(x_test)\n",
    "    \n",
    "    return (x_train_pca,x_test_pca,y_train,y_test)\n",
    "\n",
    "df = obtenerDFTraining()\n",
    "\n",
    "\n",
    "x_train, x_test, y_train, y_test  = preprocesar_df_pca(df[['ganancia_perdida_declarada_bolsa_argentina','trabajo',\n",
    "                                      'estado_marital','genero',\"anios_estudiados\",\"tiene_alto_valor_adquisitivo\"]],18)"
   ]
  },
  {
   "cell_type": "code",
   "execution_count": 11,
   "id": "b502f48a",
   "metadata": {},
   "outputs": [
    {
     "name": "stdout",
     "output_type": "stream",
     "text": [
      "              precision    recall  f1-score   support\n",
      "\n",
      "           0       0.86      0.94      0.90      6196\n",
      "           1       0.73      0.52      0.61      1945\n",
      "\n",
      "    accuracy                           0.84      8141\n",
      "   macro avg       0.80      0.73      0.75      8141\n",
      "weighted avg       0.83      0.84      0.83      8141\n",
      "\n"
     ]
    },
    {
     "data": {
      "text/plain": [
       "{'class_weight': {0: 1, 1: 1},\n",
       " 'criterion': 'entropy',\n",
       " 'max_depth': 9,\n",
       " 'min_samples_leaf': 1,\n",
       " 'random_state': 1971915}"
      ]
     },
     "execution_count": 11,
     "metadata": {},
     "output_type": "execute_result"
    }
   ],
   "source": [
    "parametros = {'criterion' : ('gini','entropy') , 'max_depth':range(2,10), \n",
    "              'min_samples_leaf':(1,200,300,500,1000,1500,2000),\n",
    "              \"class_weight\" :  [{0: 1,1: 1},{0: 1,1: 1.25},{0: 1,1: 1.5},{0: 1,1: 2}],\n",
    "              'random_state':[RANDOM_STATE]} \n",
    "\n",
    "arbol = tree.DecisionTreeClassifier()\n",
    "clf = GridSearchCV(arbol, parametros, scoring = \"roc_auc\",n_jobs= -1, verbose = 0, cv= 10)\n",
    "\n",
    "clf.fit(x_train, y_train)\n",
    "\n",
    "\n",
    "print(classification_report(y_test,clf.predict(x_test)))\n",
    "clf.best_params_"
   ]
  },
  {
   "cell_type": "code",
   "execution_count": 30,
   "id": "cdc10d5e",
   "metadata": {},
   "outputs": [
    {
     "data": {
      "image/png": "[encoded data removed]",
      "text/plain": [
       "<Figure size 432x288 with 2 Axes>"
      ]
     },
     "metadata": {
      "needs_background": "light"
     },
     "output_type": "display_data"
    },
    {
     "name": "stdout",
     "output_type": "stream",
     "text": [
      "Recall: 0.52\n",
      "Precision: 0.73\n",
      "Acc: 0.84\n",
      "Roc: 0.87\n"
     ]
    }
   ],
   "source": [
    "clf =tree.DecisionTreeClassifier(class_weight = {0: 1, 1: 1}, criterion = 'entropy',min_samples_leaf = 1,\n",
    "                                 max_depth = 9, random_state = 1971915)\n",
    "\n",
    "clf.fit(x_train,y_train)\n",
    "\n",
    "metricas(y_test,clf.predict(x_test),x_test,clf)"
   ]
  },
  {
   "cell_type": "markdown",
   "id": "4554778c",
   "metadata": {},
   "source": [
    "Como podemos ver este ultimo modelo predice mejor que el anterior, de modo que decidimos quedarnos con el.\n",
    "\n",
    "\n",
    "Preprocesamiento: \n",
    "+ Seleccion de variables\n",
    "+ MinMaxEscaler\n",
    "+ PCA \n",
    "\n",
    "Hiperparametros: \n",
    "+ peso de clases --> {0:1, 1:1}\n",
    "+ criterio  --> entropy\n",
    "+ maxima profundidad --> 9\n",
    "+ minimo de instancias en nodos --> 1 (default)"
   ]
  }
 ],
 "metadata": {
  "kernelspec": {
   "display_name": "Python 3",
   "language": "python",
   "name": "python3"
  },
  "language_info": {
   "codemirror_mode": {
    "name": "ipython",
    "version": 3
   },
   "file_extension": ".py",
   "mimetype": "text/x-python",
   "name": "python",
   "nbconvert_exporter": "python",
   "pygments_lexer": "ipython3",
   "version": "3.8.10"
  }
 },
 "nbformat": 4,
 "nbformat_minor": 5
}
