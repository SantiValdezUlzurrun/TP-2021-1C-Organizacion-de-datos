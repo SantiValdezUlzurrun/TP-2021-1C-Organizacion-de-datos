{
 "cells": [
  {
   "cell_type": "markdown",
   "id": "f5822711",
   "metadata": {},
   "source": [
    "# Trabajo Práctico 2: Arboles de Decision\n",
    "\n",
    "## Configuraciones iniciales:"
   ]
  },
  {
   "cell_type": "code",
   "execution_count": 1,
   "id": "eee4b363",
   "metadata": {},
   "outputs": [],
   "source": [
    "import pandas as pd\n",
    "import numpy as np\n",
    "import graphviz\n",
    "import matplotlib.pyplot as plt\n",
    "import seaborn as sns\n",
    "\n",
    "from IPython.display import SVG, display\n",
    "\n",
    "from sklearn import tree\n",
    "from sklearn.tree import plot_tree\n",
    "\n",
    "from sklearn.decomposition import PCA\n",
    "from sklearn.preprocessing import MinMaxScaler\n",
    "from sklearn.model_selection import train_test_split\n",
    "\n",
    "from sklearn.metrics import accuracy_score\n",
    "from sklearn.metrics import roc_auc_score\n",
    "from sklearn.metrics import recall_score\n",
    "from sklearn.metrics import precision_score\n",
    "from sklearn.metrics import confusion_matrix\n",
    "from sklearn.metrics import classification_report\n",
    "\n",
    "from sklearn.model_selection import GridSearchCV\n",
    "\n",
    "RANDOM_STATE = 19 * 103785"
   ]
  },
  {
   "cell_type": "markdown",
   "id": "7dc5c3a2",
   "metadata": {},
   "source": [
    "## Árboles de decisión:\n",
    "\n",
    "Los árboles de decisión de clasificación son modelos que buscan separar a todas las instancias utilizando la información que nos otorgan los feature, de modo que los nodos más profundos sean lo \"más puros\" posible. Es decir que en ellos quede una distribución homogénea de las clases que estamos tratando de predecir.\n",
    "\n",
    "Existen varios hiperparametros a la hora de entrenar un árbol: \n",
    "\n",
    "+ criterion : Es el criterio con el cual se selecciona la nueva \"regla de decisión\" que separará el nodo actual en dos nuevos nodos.\n",
    "\n",
    "+ max_depth : La profundidad máxima del árbol.\n",
    "\n",
    "+ min_samples_leaf : La mínima cantidad de instancias que puede tener un nodo.\n",
    "\n",
    "+ class_weight : Un peso que se le agrega para darle más importancia a la clase menos representativa.\n",
    "\n",
    "\n",
    "## Funciones auxiliares:"
   ]
  },
  {
   "cell_type": "code",
   "execution_count": 2,
   "id": "b7394a06",
   "metadata": {},
   "outputs": [],
   "source": [
    "from preprocesamiento import escribir_predicciones_a_archivo\n",
    "\n",
    "def plot_tree(arbol,data):\n",
    "    dot_data = tree.export_graphviz(\n",
    "        arbol,\n",
    "        out_file=None,\n",
    "        feature_names=data.columns,\n",
    "        filled=True,\n",
    "        rounded=True,\n",
    "        special_characters=True,\n",
    "    )\n",
    "    graph = graphviz.Source(dot_data)\n",
    "    display(SVG(graph.pipe(format='svg')))"
   ]
  },
  {
   "cell_type": "markdown",
   "id": "cedf8c41",
   "metadata": {},
   "source": [
    "## Preprocesamiento"
   ]
  },
  {
   "cell_type": "code",
   "execution_count": 3,
   "id": "afec5f2e",
   "metadata": {},
   "outputs": [],
   "source": [
    "from preprocesamiento import obtenerDFHoldout, obtenerDFTraining\n",
    "from preprocesamiento import preprocesar_data_frame\n",
    "from preprocesamiento import feature_engineering\n",
    "from preprocesamiento import metricas\n",
    "from preprocesamiento import prepros_dummies\n",
    "from preprocesamiento import preprocesar_variables_numericas"
   ]
  },
  {
   "cell_type": "code",
   "execution_count": 4,
   "id": "33473a41",
   "metadata": {},
   "outputs": [],
   "source": [
    "df = obtenerDFTraining()\n",
    "(X,y) = preprocesar_data_frame(df)\n",
    "X_prepos = prepros_dummies(X[['ganancia_perdida_declarada_bolsa_argentina','trabajo',\n",
    "                              'estado_marital','genero',\"anios_estudiados\", \"edad\"]])\n",
    "X_prepos = preprocesar_variables_numericas(X_prepos)\n",
    "\n",
    "X_train, X_test, y_train, y_test = train_test_split(X_prepos, y, test_size=0.25, random_state=RANDOM_STATE)"
   ]
  },
  {
   "cell_type": "markdown",
   "id": "89760523",
   "metadata": {},
   "source": [
    "Inicialmente utilizaremos un GridSearch buscando los mejores hiperparametros: Probamos distintos criterios de selección, distintas alturas, mínimos elementos en nodos y distintos pesos para el alto y bajo poder adquisitivo."
   ]
  },
  {
   "cell_type": "code",
   "execution_count": 5,
   "id": "af621ff9",
   "metadata": {},
   "outputs": [
    {
     "name": "stdout",
     "output_type": "stream",
     "text": [
      "              precision    recall  f1-score   support\n",
      "\n",
      "           0       0.90      0.86      0.88      6196\n",
      "           1       0.60      0.68      0.64      1936\n",
      "\n",
      "    accuracy                           0.82      8132\n",
      "   macro avg       0.75      0.77      0.76      8132\n",
      "weighted avg       0.83      0.82      0.82      8132\n",
      "\n"
     ]
    },
    {
     "data": {
      "text/plain": [
       "{'class_weight': {0: 1, 1: 2},\n",
       " 'criterion': 'gini',\n",
       " 'max_depth': 9,\n",
       " 'min_samples_leaf': 250,\n",
       " 'random_state': 1971915}"
      ]
     },
     "execution_count": 5,
     "metadata": {},
     "output_type": "execute_result"
    }
   ],
   "source": [
    "parametros = {'criterion' : ('gini','entropy') , 'max_depth':range(2,10), \n",
    "              'min_samples_leaf':(1,250,500,1000),\n",
    "              \"class_weight\" :  [{0: 1,1: 1},{0: 1,1: 1.25},{0: 1,1: 1.5},{0: 1,1: 2}],\n",
    "              'random_state':[RANDOM_STATE]} \n",
    "\n",
    "arbol = tree.DecisionTreeClassifier()\n",
    "clf = GridSearchCV(arbol, parametros, scoring = \"roc_auc\",n_jobs= -1, verbose = 0, cv= 10)\n",
    "\n",
    "clf.fit(X_train, y_train)\n",
    "print(classification_report(y_test,clf.predict(X_test)))\n",
    "clf.best_params_"
   ]
  },
  {
   "cell_type": "markdown",
   "id": "1e5072d6",
   "metadata": {},
   "source": [
    "Una vez tenemos el mejor modelo lo entrenamos individualmente y vemos sus métricas"
   ]
  },
  {
   "cell_type": "code",
   "execution_count": 6,
   "id": "99131dea",
   "metadata": {},
   "outputs": [
    {
     "data": {
      "image/png": "[encoded data removed]",
      "text/plain": [
       "<Figure size 432x288 with 2 Axes>"
      ]
     },
     "metadata": {
      "needs_background": "light"
     },
     "output_type": "display_data"
    },
    {
     "name": "stdout",
     "output_type": "stream",
     "text": [
      "Recall: 0.68\n",
      "Precision: 0.6\n",
      "Acc: 0.82\n",
      "Roc: 0.88\n"
     ]
    }
   ],
   "source": [
    "arbol_seleccion_de_variables = tree.DecisionTreeClassifier(class_weight = {0: 1, 1: 2}, criterion = 'gini',min_samples_leaf = 250,\n",
    "                                 max_depth = 9, random_state = 1971915)\n",
    "\n",
    "arbol_seleccion_de_variables.fit(X_train,y_train)\n",
    "\n",
    "metricas(y_test,arbol_seleccion_de_variables.predict(X_test),X_test,arbol_seleccion_de_variables)"
   ]
  },
  {
   "cell_type": "markdown",
   "id": "8bedf18a",
   "metadata": {},
   "source": [
    "## Otro Preprocesamiento: Reduccion de dimensionalidad "
   ]
  },
  {
   "cell_type": "markdown",
   "id": "fd51e6eb",
   "metadata": {},
   "source": [
    "En la primera parte hicimos un preprocesamiento manual, utilizando los que sabemos sobre el dataset gracias a la primera parte del trabajo práctico. Ahora buscamos utilizar otras herramientas para ver si podemos mejorar el preprocesamiento."
   ]
  },
  {
   "cell_type": "code",
   "execution_count": 7,
   "id": "ce8400df",
   "metadata": {},
   "outputs": [],
   "source": [
    "from preprocesamiento import preprocesar_df_min_max_scaler\n",
    "from preprocesamiento import preprocesar_df_pca\n",
    "\n",
    "df = obtenerDFTraining()\n",
    "X, y = preprocesar_data_frame(df)\n",
    "X = preprocesar_df_min_max_scaler(X[['ganancia_perdida_declarada_bolsa_argentina','trabajo',\n",
    "                                      'estado_marital','genero',\"anios_estudiados\"]])\n",
    "X = preprocesar_df_pca(X,18)\n",
    "\n",
    "x_train, x_test, y_train, y_test = train_test_split(X, y, test_size=0.25, random_state=RANDOM_STATE)"
   ]
  },
  {
   "cell_type": "code",
   "execution_count": 8,
   "id": "ea636eee",
   "metadata": {},
   "outputs": [
    {
     "name": "stdout",
     "output_type": "stream",
     "text": [
      "              precision    recall  f1-score   support\n",
      "\n",
      "           0       0.88      0.89      0.89      6196\n",
      "           1       0.64      0.62      0.63      1936\n",
      "\n",
      "    accuracy                           0.83      8132\n",
      "   macro avg       0.76      0.76      0.76      8132\n",
      "weighted avg       0.82      0.83      0.83      8132\n",
      "\n"
     ]
    },
    {
     "data": {
      "text/plain": [
       "{'class_weight': {0: 1, 1: 1.25},\n",
       " 'criterion': 'entropy',\n",
       " 'max_depth': 9,\n",
       " 'min_samples_leaf': 1,\n",
       " 'random_state': 1971915}"
      ]
     },
     "execution_count": 8,
     "metadata": {},
     "output_type": "execute_result"
    }
   ],
   "source": [
    "parametros = {'criterion' : ('gini','entropy') , 'max_depth':range(2,10), \n",
    "              'min_samples_leaf':(1,200,300,500,1000,1500,2000),\n",
    "              \"class_weight\" :  [{0: 1,1: 1},{0: 1,1: 1.25},{0: 1,1: 1.5},{0: 1,1: 2}],\n",
    "              'random_state':[RANDOM_STATE]} \n",
    "\n",
    "arbol = tree.DecisionTreeClassifier()\n",
    "arbol_pca = GridSearchCV(arbol, parametros, scoring = \"roc_auc\",n_jobs= -1, verbose = 0, cv= 10)\n",
    "\n",
    "arbol_pca.fit(x_train, y_train)\n",
    "\n",
    "\n",
    "print(classification_report(y_test,arbol_pca.predict(x_test)))\n",
    "arbol_pca.best_params_"
   ]
  },
  {
   "cell_type": "code",
   "execution_count": 9,
   "id": "a7e90c23",
   "metadata": {},
   "outputs": [
    {
     "data": {
      "image/png": "[encoded data removed]",
      "text/plain": [
       "<Figure size 432x288 with 2 Axes>"
      ]
     },
     "metadata": {
      "needs_background": "light"
     },
     "output_type": "display_data"
    },
    {
     "name": "stdout",
     "output_type": "stream",
     "text": [
      "Recall: 0.62\n",
      "Precision: 0.64\n",
      "Acc: 0.83\n",
      "Roc: 0.87\n"
     ]
    }
   ],
   "source": [
    "arbol_pca =tree.DecisionTreeClassifier(class_weight = {0: 1, 1: 1.25}, criterion = 'entropy',min_samples_leaf = 1,\n",
    "                                 max_depth = 9, random_state = 1971915)\n",
    "\n",
    "arbol_pca.fit(x_train,y_train)\n",
    "\n",
    "metricas(y_test,arbol_pca.predict(x_test),x_test,arbol_pca)"
   ]
  },
  {
   "cell_type": "markdown",
   "id": "aee13b9c",
   "metadata": {},
   "source": [
    "Como podemos ver este ultimo modelo predice mejor que el anterior, de modo que decidimos quedarnos con el.\n",
    "\n",
    "Preprocesamiento:\n",
    "+ Seleccion de variables\n",
    "+ MinMaxEscaler\n",
    "+ PCA\n",
    "\n",
    "Hiperparametros:\n",
    "+ peso de clases --> {0: 1, 1: 1.25}\n",
    "+ criterio  --> entropy\n",
    "+ maxima profundidad --> 9\n",
    "+ minimo de instancias en nodos --> 1"
   ]
  },
  {
   "cell_type": "markdown",
   "id": "583035a1",
   "metadata": {},
   "source": [
    "### Prediccion sobre el Holdout"
   ]
  },
  {
   "cell_type": "code",
   "execution_count": 11,
   "id": "8b3e55aa",
   "metadata": {},
   "outputs": [],
   "source": [
    "holdout = obtenerDFHoldout()\n",
    "\n",
    "ids = np.array(holdout['id'])\n",
    "\n",
    "holdout = preprocesar_df_min_max_scaler(holdout[['ganancia_perdida_declarada_bolsa_argentina','trabajo',\n",
    "                                      'estado_marital','genero',\"anios_estudiados\"]])\n",
    "holdout = preprocesar_df_pca(holdout,18)\n",
    "predicciones_holdout = arbol_pca.predict(holdout)\n",
    "escribir_predicciones_a_archivo(predicciones_holdout,\"Arbol de Decision\",ids)"
   ]
  }
 ],
 "metadata": {
  "kernelspec": {
   "display_name": "Python 3",
   "language": "python",
   "name": "python3"
  },
  "language_info": {
   "codemirror_mode": {
    "name": "ipython",
    "version": 3
   },
   "file_extension": ".py",
   "mimetype": "text/x-python",
   "name": "python",
   "nbconvert_exporter": "python",
   "pygments_lexer": "ipython3",
   "version": "3.8.10"
  }
 },
 "nbformat": 4,
 "nbformat_minor": 5
}
