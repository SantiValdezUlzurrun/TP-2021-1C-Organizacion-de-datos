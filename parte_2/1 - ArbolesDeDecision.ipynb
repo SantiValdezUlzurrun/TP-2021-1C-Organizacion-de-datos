{
 "cells": [
  {
   "cell_type": "markdown",
   "id": "179f7174",
   "metadata": {},
   "source": [
    "# Trabajo Práctico 2: Arboles de Decision\n",
    "\n",
    "## Configuraciones iniciales:"
   ]
  },
  {
   "cell_type": "code",
   "execution_count": 1,
   "id": "bc62d282",
   "metadata": {},
   "outputs": [],
   "source": [
    "import pandas as pd\n",
    "import numpy as np\n",
    "import graphviz\n",
    "import matplotlib.pyplot as plt\n",
    "import seaborn as sns\n",
    "\n",
    "from IPython.display import SVG, display\n",
    "\n",
    "from sklearn import tree\n",
    "from sklearn.tree import plot_tree\n",
    "\n",
    "from sklearn.decomposition import PCA\n",
    "from sklearn.preprocessing import MinMaxScaler\n",
    "from sklearn.model_selection import train_test_split\n",
    "\n",
    "from sklearn.decomposition import PCA\n",
    "from sklearn.preprocessing import MinMaxScaler\n",
    "\n",
    "from sklearn.metrics import accuracy_score\n",
    "from sklearn.metrics import roc_auc_score\n",
    "from sklearn.metrics import recall_score\n",
    "from sklearn.metrics import precision_score\n",
    "from sklearn.metrics import confusion_matrix\n",
    "from sklearn.metrics import classification_report\n",
    "\n",
    "from sklearn.model_selection import GridSearchCV\n",
    "\n",
    "RANDOM_STATE = 19 * 103785"
   ]
  },
  {
   "cell_type": "code",
   "execution_count": 2,
   "id": "65c59f5b",
   "metadata": {},
   "outputs": [],
   "source": [
    "from preprocesamiento import obtenerDFHoldout, obtenerDFTraining\n",
    "from preprocesamiento import preprocesar_data_frame\n",
    "from preprocesamiento import feature_engineering"
   ]
  },
  {
   "cell_type": "markdown",
   "id": "093d7039",
   "metadata": {},
   "source": [
    "## Árboles de decisión:\n",
    "\n",
    "Los árboles de decisión de clasificación son modelos que buscan separar a todas las instancias utilizando la información que nos otorgan los feature, de modo que los nodos más profundos sean lo \"más puros\" posible. Es decir que en ellos quede una distribución homogénea de las clases que estamos tratando de predecir.\n",
    "\n",
    "Existen varios hiperparametros a la hora de entrenar un árbol: \n",
    "\n",
    "+ criterion : Es el criterio con el cual se selecciona la nueva \"regla de decisión\" que separará el nodo actual en dos nuevos nodos.\n",
    "\n",
    "+ max_depth : La profundidad máxima del árbol.\n",
    "\n",
    "+ min_samples_leaf : La mínima cantidad de instancias que puede tener un nodo.\n",
    "\n",
    "+ class_weight : Un peso que se le agrega para darle más importancia a la clase menos representativa.\n",
    "\n",
    "\n",
    "## Funciones auxiliares:"
   ]
  },
  {
   "cell_type": "code",
   "execution_count": 3,
   "id": "1b584b61",
   "metadata": {},
   "outputs": [],
   "source": [
    "# Imprime las metricas Recall, Precision, Accuracy, Roc-auc y muestra la matriz de confuncion.\n",
    "def metricas(y_real, y_pred, x_test, modelo):\n",
    "\n",
    "    data = {'y_real': y_real,\n",
    "            'y_pred': y_pred}\n",
    "\n",
    "    df_metricas = pd.DataFrame(data, columns=['y_real','y_pred'])\n",
    "    confusion_matrix = pd.crosstab(df_metricas['y_real'], df_metricas['y_pred'], rownames=['Real'], colnames=['Predicho'])\n",
    "    sns.heatmap(confusion_matrix, annot=True)\n",
    "    plt.show()\n",
    "\n",
    "    print(\"Recall: {}\".format(recall_score(y_real, y_pred).round(2)))\n",
    "    print(\"Precision: {}\".format(precision_score(y_real, y_pred).round(2)))\n",
    "    print(\"Acc: {}\".format(accuracy_score(y_real, y_pred).round(2)))\n",
    "    print(\"Roc: {}\".format(roc_auc_score(y_real, modelo.predict_proba(x_test)[:, 1]).round(2)))\n",
    "\n",
    "def plot_tree(arbol,data):\n",
    "    dot_data = tree.export_graphviz(\n",
    "        arbol,\n",
    "        out_file=None,\n",
    "        feature_names=data.columns,\n",
    "        filled=True,\n",
    "        rounded=True,\n",
    "        special_characters=True,\n",
    "    )\n",
    "    graph = graphviz.Source(dot_data)\n",
    "    display(SVG(graph.pipe(format='svg')))"
   ]
  },
  {
   "cell_type": "markdown",
   "id": "f499c2c3",
   "metadata": {},
   "source": [
    "## Preprocesamiento"
   ]
  },
  {
   "cell_type": "code",
   "execution_count": 4,
   "id": "ce429fb1",
   "metadata": {},
   "outputs": [],
   "source": [
    "def prepros_dummies(data):\n",
    "    \n",
    "    data_prepos = pd.get_dummies(data[['ganancia_perdida_declarada_bolsa_argentina','trabajo',\n",
    "                                      'estado_marital','genero',\"anios_estudiados\"]])\n",
    "    \n",
    "    data_prepos['ganancia_perdida_declarada_bolsa_argentina'] = data_prepos['ganancia_perdida_declarada_bolsa_argentina'].apply(lambda x: np.tanh(x))\n",
    "    data_prepos = data_prepos.drop(['trabajo_No contesto'],axis = 1)\n",
    "    data_prepos = data_prepos.drop(['genero_mujer'],axis = 1)\n",
    "    data_prepos = data_prepos.drop(['estado_marital_divorciado'],axis = 1)\n",
    "\n",
    "    return data_prepos"
   ]
  },
  {
   "cell_type": "code",
   "execution_count": 5,
   "id": "78d9b14a",
   "metadata": {},
   "outputs": [],
   "source": [
    "df = obtenerDFTraining()\n",
    "(X,y) = preprocesar_data_frame(df)\n",
    "X_prepos= prepros_dummies(X)\n",
    "\n",
    "X_train, X_test, y_train, y_test = train_test_split(X_prepos, y, test_size=0.25, random_state=RANDOM_STATE)"
   ]
  },
  {
   "cell_type": "markdown",
   "id": "cef1acb3",
   "metadata": {},
   "source": [
    "Inicialmente utilizaremos un GridSearch buscando los mejores hiperparametros: Probamos distintos criterios de selección, distintas alturas, mínimos elementos en nodos y distintos pesos para el alto y bajo poder adquisitivo."
   ]
  },
  {
   "cell_type": "code",
   "execution_count": 6,
   "id": "958fdc7e",
   "metadata": {},
   "outputs": [
    {
     "name": "stdout",
     "output_type": "stream",
     "text": [
      "              precision    recall  f1-score   support\n",
      "\n",
      "           0       0.91      0.82      0.86      6196\n",
      "           1       0.56      0.72      0.63      1936\n",
      "\n",
      "    accuracy                           0.80      8132\n",
      "   macro avg       0.73      0.77      0.75      8132\n",
      "weighted avg       0.82      0.80      0.81      8132\n",
      "\n"
     ]
    },
    {
     "data": {
      "text/plain": [
       "{'class_weight': {0: 1, 1: 2},\n",
       " 'criterion': 'gini',\n",
       " 'max_depth': 8,\n",
       " 'min_samples_leaf': 250,\n",
       " 'random_state': 1971915}"
      ]
     },
     "execution_count": 6,
     "metadata": {},
     "output_type": "execute_result"
    }
   ],
   "source": [
    "parametros = {'criterion' : ('gini','entropy') , 'max_depth':range(2,10), \n",
    "              'min_samples_leaf':(1,250,500,1000),\n",
    "              \"class_weight\" :  [{0: 1,1: 1},{0: 1,1: 1.25},{0: 1,1: 1.5},{0: 1,1: 2}],\n",
    "              'random_state':[RANDOM_STATE]} \n",
    "\n",
    "arbol = tree.DecisionTreeClassifier()\n",
    "clf = GridSearchCV(arbol, parametros, scoring = \"roc_auc\",n_jobs= -1, verbose = 0, cv= 10)\n",
    "\n",
    "clf.fit(X_train, y_train)\n",
    "print(classification_report(y_test,clf.predict(X_test)))\n",
    "clf.best_params_"
   ]
  },
  {
   "cell_type": "markdown",
   "id": "2fbf0139",
   "metadata": {},
   "source": [
    "Una vez tenemos el mejor modelo lo entrenamos individualmente y vemos sus métricas"
   ]
  },
  {
   "cell_type": "code",
   "execution_count": 7,
   "id": "b8270c86",
   "metadata": {},
   "outputs": [
    {
     "data": {
      "image/png": "[encoded data removed]",
      "text/plain": [
       "<Figure size 432x288 with 2 Axes>"
      ]
     },
     "metadata": {
      "needs_background": "light"
     },
     "output_type": "display_data"
    },
    {
     "name": "stdout",
     "output_type": "stream",
     "text": [
      "Recall: 0.61\n",
      "Precision: 0.63\n",
      "Acc: 0.82\n",
      "Roc: 0.87\n"
     ]
    }
   ],
   "source": [
    "clf =tree.DecisionTreeClassifier(class_weight = {0: 1, 1: 2}, criterion = 'gini',min_samples_leaf = 250,\n",
    "                                 max_depth = 8, random_state = 1971915)\n",
    "\n",
    "clf.fit(X_train,y_train)\n",
    "\n",
    "metricas(y_test,clf.predict(X_test),X_test,clf)"
   ]
  },
  {
   "cell_type": "markdown",
   "id": "f1020b40",
   "metadata": {},
   "source": [
    "## Otro Preprocesamiento: Reduccion de dimensionalidad "
   ]
  },
  {
   "cell_type": "markdown",
   "id": "f230f3d0",
   "metadata": {},
   "source": [
    "En la primera parte hicimos un preprocesamiento manual, utilizando los que sabemos sobre el dataset gracias a la primera parte del trabajo práctico. Ahora buscamos utilizar otras herramientas para ver si podemos mejorar el preprocesamiento."
   ]
  },
  {
   "cell_type": "code",
   "execution_count": 8,
   "id": "4d2c2428",
   "metadata": {},
   "outputs": [],
   "source": [
    "def preprocesar_df_min_max_scaler(X : pd.DataFrame):\n",
    "    X = pd.get_dummies(X)\n",
    "    scaler = MinMaxScaler()\n",
    "    scaler.fit(X)\n",
    "    return scaler.transform(X)\n",
    "\n",
    "def preprocesar_df_pca(df , dim):\n",
    "    Y = df['tiene_alto_valor_adquisitivo']\n",
    "    X = df.drop(columns=['tiene_alto_valor_adquisitivo'])\n",
    "    X = preprocesar_df_min_max_scaler(X)\n",
    "    \n",
    "    x_train, x_test, y_train, y_test = train_test_split(X, Y, test_size=0.25, random_state=RANDOM_STATE)\n",
    "    \n",
    "    pca = PCA(dim)\n",
    "    x_train_pca = pd.DataFrame(pca.fit_transform(x_train))\n",
    "    x_test_pca = pca.transform(x_test)\n",
    "    \n",
    "    return (x_train_pca,x_test_pca,y_train,y_test)\n",
    "\n",
    "df = obtenerDFTraining()\n",
    "\n",
    "\n",
    "x_train, x_test, y_train, y_test  = preprocesar_df_pca(df[['ganancia_perdida_declarada_bolsa_argentina','trabajo',\n",
    "                                      'estado_marital','genero',\"anios_estudiados\",\"tiene_alto_valor_adquisitivo\"]],18)"
   ]
  },
  {
   "cell_type": "code",
   "execution_count": 11,
   "id": "1b97e8e3",
   "metadata": {},
   "outputs": [
    {
     "name": "stdout",
     "output_type": "stream",
     "text": [
      "              precision    recall  f1-score   support\n",
      "\n",
      "           0       0.86      0.94      0.90      6196\n",
      "           1       0.73      0.52      0.61      1945\n",
      "\n",
      "    accuracy                           0.84      8141\n",
      "   macro avg       0.80      0.73      0.75      8141\n",
      "weighted avg       0.83      0.84      0.83      8141\n",
      "\n"
     ]
    },
    {
     "data": {
      "text/plain": [
       "{'class_weight': {0: 1, 1: 1},\n",
       " 'criterion': 'entropy',\n",
       " 'max_depth': 9,\n",
       " 'min_samples_leaf': 1,\n",
       " 'random_state': 1971915}"
      ]
     },
     "execution_count": 11,
     "metadata": {},
     "output_type": "execute_result"
    }
   ],
   "source": [
    "parametros = {'criterion' : ('gini','entropy') , 'max_depth':range(2,10), \n",
    "              'min_samples_leaf':(1,200,300,500,1000,1500,2000),\n",
    "              \"class_weight\" :  [{0: 1,1: 1},{0: 1,1: 1.25},{0: 1,1: 1.5},{0: 1,1: 2}],\n",
    "              'random_state':[RANDOM_STATE]} \n",
    "\n",
    "arbol = tree.DecisionTreeClassifier()\n",
    "clf = GridSearchCV(arbol, parametros, scoring = \"roc_auc\",n_jobs= -1, verbose = 0, cv= 10)\n",
    "\n",
    "clf.fit(x_train, y_train)\n",
    "\n",
    "\n",
    "print(classification_report(y_test,clf.predict(x_test)))\n",
    "clf.best_params_"
   ]
  },
  {
   "cell_type": "code",
   "execution_count": 12,
   "id": "5f99c55d",
   "metadata": {},
   "outputs": [
    {
     "data": {
      "image/png": "[encoded data removed]",
      "text/plain": [
       "<Figure size 432x288 with 2 Axes>"
      ]
     },
     "metadata": {
      "needs_background": "light"
     },
     "output_type": "display_data"
    },
    {
     "name": "stdout",
     "output_type": "stream",
     "text": [
      "Recall: 0.52\n",
      "Precision: 0.73\n",
      "Acc: 0.84\n",
      "Roc: 0.87\n"
     ]
    }
   ],
   "source": [
    "metricas(y_test,clf.predict(x_test),x_test,clf)"
   ]
  },
  {
   "cell_type": "markdown",
   "id": "973bd522",
   "metadata": {},
   "source": [
    "Como podemos ver este ultimo modelo predice mejor que el anterior, de modo que decidimos quedarnos con el.\n",
    "\n",
    "\n",
    "Preprocesamiento: \n",
    "+ Seleccion de variables\n",
    "+ MinMaxEscaler\n",
    "+ PCA \n",
    "\n",
    "Hiperparametros: \n",
    "+ criterio  --> entropy\n",
    "+ maxima profundidad --> 9\n",
    "+ minimo de instancias en nodos --> 1 (default)"
   ]
  }
 ],
 "metadata": {
  "kernelspec": {
   "display_name": "Python 3",
   "language": "python",
   "name": "python3"
  },
  "language_info": {
   "codemirror_mode": {
    "name": "ipython",
    "version": 3
   },
   "file_extension": ".py",
   "mimetype": "text/x-python",
   "name": "python",
   "nbconvert_exporter": "python",
   "pygments_lexer": "ipython3",
   "version": "3.8.10"
  }
 },
 "nbformat": 4,
 "nbformat_minor": 5
}
