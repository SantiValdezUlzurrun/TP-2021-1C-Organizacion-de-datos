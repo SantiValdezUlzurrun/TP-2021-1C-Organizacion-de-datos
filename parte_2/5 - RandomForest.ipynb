{
 "cells": [
  {
   "cell_type": "markdown",
   "id": "d36f7e32",
   "metadata": {},
   "source": [
    "# Trabajo Práctico 2: RandomForest\n",
    "\n",
    "Este modelo funciona similar a bagging, utilizar varios a modelos con diferentes sub-set del dataset de entrenamiendo. Pero con el agregado de que para evitar que mucho de estos modelos terminen pareciendoce mucho (debido a algunos features mas significativos que otros) se elije features de manera aleatoria.\n",
    "\n",
    "Para este modelo se buscaran los siguientes hiperparametros:\n",
    "\n",
    "+ criterion --> El criterio para medir el gain de generar una nueva particion de un nodo.\n",
    "+ max_depth --> Maxima profundidad del arbol.\n",
    "+ min_samples_split --> El número mínimo de muestras necesarias para dividir un nodo.\n",
    "+ max_features --> La cantidad de características a considerar al buscar la mejor división.\n",
    "+ class_weight --> Importancia de alto y bajo poder adquisitivo."
   ]
  },
  {
   "cell_type": "code",
   "execution_count": 2,
   "id": "3507f495",
   "metadata": {},
   "outputs": [],
   "source": [
    "import pandas as pd\n",
    "import numpy as np\n",
    "import seaborn as sns\n",
    "import matplotlib.pyplot as plt\n",
    "\n",
    "from sklearn import tree\n",
    "from sklearn.metrics import confusion_matrix\n",
    "from sklearn.model_selection import train_test_split\n",
    "from sklearn.tree import plot_tree\n",
    "from sklearn.metrics import roc_auc_score\n",
    "from sklearn.metrics import recall_score\n",
    "from sklearn.metrics import precision_score\n",
    "from sklearn.metrics import accuracy_score\n",
    "from sklearn.metrics import confusion_matrix\n",
    "from sklearn.metrics import classification_report\n",
    "\n",
    "from sklearn.model_selection import GridSearchCV\n",
    "from sklearn.decomposition import PCA\n",
    "from sklearn.preprocessing import MinMaxScaler\n",
    "\n",
    "from sklearn.ensemble import RandomForestClassifier\n",
    "from sklearn.datasets import make_classification\n",
    "\n",
    "from preprocesamiento import feature_engineering\n",
    "from preprocesamiento import obtenerDFTraining\n",
    "from preprocesamiento import preprocesar_data_frame\n",
    "\n",
    "RANDOM_STATE = 19 * 103785"
   ]
  },
  {
   "cell_type": "code",
   "execution_count": 12,
   "id": "1ac1aead",
   "metadata": {},
   "outputs": [],
   "source": [
    "# Imprime las metricas Recall, Precision, Accuracy, Roc-auc y muestra la matriz de confuncion.\n",
    "def metricas(y_real, y_pred, x_test, modelo):\n",
    "\n",
    "    data = {'y_real': y_real,\n",
    "            'y_pred': y_pred}\n",
    "\n",
    "    df_metricas = pd.DataFrame(data, columns=['y_real','y_pred'])\n",
    "    confusion_matrix = pd.crosstab(df_metricas['y_real'], df_metricas['y_pred'], rownames=['Real'], colnames=['Predicho'])\n",
    "    sns.heatmap(confusion_matrix, annot=True, fmt=\"d\")\n",
    "    plt.show()\n",
    "\n",
    "    print(\"Recall: {}\".format(recall_score(y_real, y_pred).round(2)))\n",
    "    print(\"Precision: {}\".format(precision_score(y_real, y_pred).round(2)))\n",
    "    print(\"Acc: {}\".format(accuracy_score(y_real, y_pred).round(2)))\n",
    "    print(\"Roc: {}\".format(roc_auc_score(y_real, modelo.predict_proba(x_test)[:, 1]).round(2)))"
   ]
  },
  {
   "cell_type": "markdown",
   "id": "220f720d",
   "metadata": {},
   "source": [
    "Inicialmente seleccionaremos las variables mas relevantes para las categoricas hacemos un one hot encoding y las numericas las escalaremos con MinMaxScaler."
   ]
  },
  {
   "cell_type": "code",
   "execution_count": 3,
   "id": "eabf3140",
   "metadata": {},
   "outputs": [],
   "source": [
    "def preprocesar_df_min_max_scaler(X : pd.DataFrame):\n",
    "    scaler = MinMaxScaler()\n",
    "    scaler.fit(X)\n",
    "    return scaler.transform(X)\n",
    "\n",
    "def prepros_RF(X):\n",
    "    X_prepos = pd.get_dummies(X[['ganancia_perdida_declarada_bolsa_argentina','trabajo',\n",
    "                       'estado_marital','genero',\"edad\",\"anios_estudiados\"]],drop_first= True)\n",
    "\n",
    "    X_prepos = preprocesar_df_min_max_scaler(X_prepos)\n",
    "\n",
    "    return train_test_split(X_prepos, y, test_size=0.25, random_state=RANDOM_STATE)"
   ]
  },
  {
   "cell_type": "code",
   "execution_count": 8,
   "id": "afb3cff4",
   "metadata": {},
   "outputs": [
    {
     "name": "stdout",
     "output_type": "stream",
     "text": [
      "Fitting 5 folds for each of 384 candidates, totalling 1920 fits\n"
     ]
    },
    {
     "name": "stderr",
     "output_type": "stream",
     "text": [
      "[Parallel(n_jobs=-1)]: Using backend LokyBackend with 4 concurrent workers.\n",
      "[Parallel(n_jobs=-1)]: Done  17 tasks      | elapsed:  1.4min\n",
      "[Parallel(n_jobs=-1)]: Done  90 tasks      | elapsed:  5.3min\n",
      "[Parallel(n_jobs=-1)]: Done 213 tasks      | elapsed: 12.7min\n",
      "[Parallel(n_jobs=-1)]: Done 384 tasks      | elapsed: 22.1min\n",
      "[Parallel(n_jobs=-1)]: Done 605 tasks      | elapsed: 35.1min\n",
      "[Parallel(n_jobs=-1)]: Done 874 tasks      | elapsed: 50.5min\n",
      "[Parallel(n_jobs=-1)]: Done 1193 tasks      | elapsed: 68.6min\n",
      "[Parallel(n_jobs=-1)]: Done 1560 tasks      | elapsed: 88.7min\n",
      "[Parallel(n_jobs=-1)]: Done 1920 out of 1920 | elapsed: 109.1min finished\n"
     ]
    },
    {
     "name": "stdout",
     "output_type": "stream",
     "text": [
      "              precision    recall  f1-score   support\n",
      "\n",
      "           0       0.87      0.95      0.91      6196\n",
      "           1       0.77      0.55      0.64      1936\n",
      "\n",
      "    accuracy                           0.85      8132\n",
      "   macro avg       0.82      0.75      0.77      8132\n",
      "weighted avg       0.85      0.85      0.84      8132\n",
      "\n"
     ]
    },
    {
     "data": {
      "text/plain": [
       "{'class_weight': {0: 1, 1: 1},\n",
       " 'criterion': 'gini',\n",
       " 'max_depth': 10,\n",
       " 'max_features': 'auto',\n",
       " 'min_samples_split': 10,\n",
       " 'n_estimators': 1000,\n",
       " 'random_state': 1971915}"
      ]
     },
     "execution_count": 8,
     "metadata": {},
     "output_type": "execute_result"
    }
   ],
   "source": [
    "parametros = {'n_estimators': [1000], 'criterion' : ['gini','entropy'], 'max_depth':range(5,11), \n",
    "              \"min_samples_split\" : [10,100,500,1000],\"max_features\": [\"auto\",\"log2\"],\n",
    "              'class_weight' :  [{0: 1,1: 1},{0: 1,1: 1.25},{0: 1,1: 1.5},{0: 1,1: 2}],\n",
    "              'random_state':[RANDOM_STATE]} \n",
    "\n",
    "random_forest = RandomForestClassifier()\n",
    "clf = GridSearchCV(random_forest, parametros, n_jobs = -1, verbose = 4, scoring = \"roc_auc\")\n",
    "\n",
    "df = obtenerDFTraining()\n",
    "(X, y) = preprocesar_data_frame(df)\n",
    "x_train, x_test, y_train, y_test = prepros_RF(X)\n",
    "\n",
    "clf.fit(x_train, y_train)\n",
    "print(classification_report(y_test,clf.predict(x_test)))\n",
    "clf.best_params_"
   ]
  },
  {
   "cell_type": "markdown",
   "id": "7c54ebf1",
   "metadata": {},
   "source": [
    "Una vez realizada la busqueda, entrenamos individualmente el mejor modelo y vemos sus metricas."
   ]
  },
  {
   "cell_type": "code",
   "execution_count": 17,
   "id": "106c4771",
   "metadata": {},
   "outputs": [
    {
     "data": {
      "image/png": "[encoded data removed]",
      "text/plain": [
       "<Figure size 432x288 with 2 Axes>"
      ]
     },
     "metadata": {
      "needs_background": "light"
     },
     "output_type": "display_data"
    },
    {
     "name": "stdout",
     "output_type": "stream",
     "text": [
      "Recall: 0.55\n",
      "Precision: 0.77\n",
      "Acc: 0.85\n",
      "Roc: 0.91\n"
     ]
    }
   ],
   "source": [
    "df = obtenerDFTraining()\n",
    "(X, y) = preprocesar_data_frame(df)\n",
    "x_train, x_test, y_train, y_test = prepros_RF(X)\n",
    "\n",
    "\n",
    "clf_rf = RandomForestClassifier( class_weight = {0: 1, 1: 1}, criterion = 'gini', max_depth = 10,\n",
    "                                max_features = 'auto',min_samples_split = 10,n_estimators = 1000,\n",
    "                                random_state = RANDOM_STATE)\n",
    "\n",
    "clf_rf.fit(x_train, y_train)\n",
    "\n",
    "metricas(y_test,clf_rf.predict(x_test),x_test,clf_rf)"
   ]
  },
  {
   "cell_type": "markdown",
   "id": "21c32b26",
   "metadata": {},
   "source": [
    "## Otro preprocesamiento: PCA"
   ]
  },
  {
   "cell_type": "code",
   "execution_count": 18,
   "id": "eeb4bf4c",
   "metadata": {},
   "outputs": [],
   "source": [
    "def preprocesar_df_min_max_scaler(X : pd.DataFrame):\n",
    "    X = pd.get_dummies(X)\n",
    "    \n",
    "    X = X.drop(['trabajo_No contesto'],axis = 1)\n",
    "    X = X.drop(['genero_mujer'],axis = 1)\n",
    "    X = X.drop(['estado_marital_divorciado'],axis = 1)\n",
    "    \n",
    "    scaler = MinMaxScaler()\n",
    "    scaler.fit(X)\n",
    "    return scaler.transform(X)\n",
    "\n",
    "def preprocesar_df_pca(df , dim):\n",
    "    (X, Y) = preprocesar_data_frame(df)\n",
    "    X = preprocesar_df_min_max_scaler(X[['ganancia_perdida_declarada_bolsa_argentina','trabajo',\n",
    "                                      'estado_marital','genero',\"anios_estudiados\"]])\n",
    "    x_train, x_test, y_train, y_test = train_test_split(X, Y, test_size=0.25, random_state=RANDOM_STATE)\n",
    "    \n",
    "    pca = PCA(dim)\n",
    "    x_train_pca = pd.DataFrame(pca.fit_transform(x_train))\n",
    "    x_test_pca = pca.transform(x_test)\n",
    "    \n",
    "    return (x_train_pca,x_test_pca,y_train,y_test)"
   ]
  },
  {
   "cell_type": "code",
   "execution_count": 20,
   "id": "df05d7fa",
   "metadata": {},
   "outputs": [
    {
     "name": "stdout",
     "output_type": "stream",
     "text": [
      "Fitting 5 folds for each of 384 candidates, totalling 1920 fits\n"
     ]
    },
    {
     "name": "stderr",
     "output_type": "stream",
     "text": [
      "[Parallel(n_jobs=-1)]: Using backend LokyBackend with 4 concurrent workers.\n",
      "[Parallel(n_jobs=-1)]: Done  17 tasks      | elapsed:  1.8min\n",
      "[Parallel(n_jobs=-1)]: Done  90 tasks      | elapsed:  9.1min\n",
      "[Parallel(n_jobs=-1)]: Done 213 tasks      | elapsed: 24.0min\n",
      "[Parallel(n_jobs=-1)]: Done 384 tasks      | elapsed: 48.6min\n",
      "[Parallel(n_jobs=-1)]: Done 605 tasks      | elapsed: 91.1min\n",
      "[Parallel(n_jobs=-1)]: Done 874 tasks      | elapsed: 124.2min\n",
      "[Parallel(n_jobs=-1)]: Done 1193 tasks      | elapsed: 162.7min\n",
      "[Parallel(n_jobs=-1)]: Done 1560 tasks      | elapsed: 206.0min\n",
      "[Parallel(n_jobs=-1)]: Done 1920 out of 1920 | elapsed: 255.5min finished\n"
     ]
    },
    {
     "name": "stdout",
     "output_type": "stream",
     "text": [
      "              precision    recall  f1-score   support\n",
      "\n",
      "           0       0.87      0.92      0.89      6196\n",
      "           1       0.69      0.55      0.61      1936\n",
      "\n",
      "    accuracy                           0.83      8132\n",
      "   macro avg       0.78      0.73      0.75      8132\n",
      "weighted avg       0.83      0.83      0.83      8132\n",
      "\n"
     ]
    },
    {
     "data": {
      "text/plain": [
       "{'class_weight': {0: 1, 1: 1},\n",
       " 'criterion': 'gini',\n",
       " 'max_depth': 10,\n",
       " 'max_features': 'auto',\n",
       " 'min_samples_split': 10,\n",
       " 'n_estimators': 1000,\n",
       " 'random_state': 1971915}"
      ]
     },
     "execution_count": 20,
     "metadata": {},
     "output_type": "execute_result"
    }
   ],
   "source": [
    "parametros = {'n_estimators': [1000], 'criterion' : ['gini','entropy'], 'max_depth':range(5,11), \n",
    "              \"min_samples_split\" : [10,100,500,1000],\"max_features\": [\"auto\",\"log2\"],\n",
    "              'class_weight' :  [{0: 1,1: 1},{0: 1,1: 1.25},{0: 1,1: 1.5},{0: 1,1: 2}],\n",
    "              'random_state':[RANDOM_STATE]} \n",
    "\n",
    "random_forest = RandomForestClassifier()\n",
    "clf = GridSearchCV(random_forest, parametros, n_jobs = -1, verbose = 4,scoring = 'roc_auc')\n",
    "\n",
    "df = obtenerDFTraining()\n",
    "x_train, x_test, y_train, y_test  = preprocesar_df_pca(df,18)\n",
    "\n",
    "clf.fit(x_train, y_train)\n",
    "print(classification_report(y_test,clf.predict(x_test)))\n",
    "clf.best_params_"
   ]
  },
  {
   "cell_type": "code",
   "execution_count": 21,
   "id": "67631119",
   "metadata": {},
   "outputs": [
    {
     "data": {
      "image/png": "[encoded data removed]",
      "text/plain": [
       "<Figure size 432x288 with 2 Axes>"
      ]
     },
     "metadata": {
      "needs_background": "light"
     },
     "output_type": "display_data"
    },
    {
     "name": "stdout",
     "output_type": "stream",
     "text": [
      "Recall: 0.55\n",
      "Precision: 0.69\n",
      "Acc: 0.83\n",
      "Roc: 0.89\n"
     ]
    }
   ],
   "source": [
    "df = obtenerDFTraining()\n",
    "x_train, x_test, y_train, y_test  = preprocesar_df_pca(df,18)\n",
    "\n",
    "\n",
    "clf_rf = RandomForestClassifier( class_weight = {0: 1, 1: 1}, criterion = 'gini', max_depth = 10,\n",
    "                                max_features = 'auto',min_samples_split = 10,n_estimators = 1000,\n",
    "                                random_state = RANDOM_STATE)\n",
    "\n",
    "clf_rf.fit(x_train, y_train)\n",
    "\n",
    "metricas(y_test,clf_rf.predict(x_test),x_test,clf_rf)"
   ]
  },
  {
   "cell_type": "markdown",
   "id": "a3159ca0",
   "metadata": {},
   "source": [
    "Es interesante destacar que para ambos preprocesamiento, se encontro la misma configuraciones pero se puede notar una diferencia significativa en las metricas para ambos."
   ]
  }
 ],
 "metadata": {
  "kernelspec": {
   "display_name": "Python 3",
   "language": "python",
   "name": "python3"
  },
  "language_info": {
   "codemirror_mode": {
    "name": "ipython",
    "version": 3
   },
   "file_extension": ".py",
   "mimetype": "text/x-python",
   "name": "python",
   "nbconvert_exporter": "python",
   "pygments_lexer": "ipython3",
   "version": "3.8.10"
  }
 },
 "nbformat": 4,
 "nbformat_minor": 5
}
