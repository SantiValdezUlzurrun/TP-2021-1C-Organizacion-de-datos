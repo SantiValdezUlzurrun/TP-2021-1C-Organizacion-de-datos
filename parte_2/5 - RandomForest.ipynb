{
 "cells": [
  {
   "cell_type": "markdown",
   "id": "000958a8",
   "metadata": {},
   "source": [
    "# Trabajo Práctico 2: RandomForest\n",
    "\n",
    "## Imports iniciales"
   ]
  },
  {
   "cell_type": "code",
   "execution_count": 1,
   "id": "a4d6e3fd",
   "metadata": {},
   "outputs": [],
   "source": [
    "import pandas as pd\n",
    "import numpy as np\n",
    "import seaborn as sns\n",
    "import matplotlib.pyplot as plt\n",
    "\n",
    "from sklearn import tree\n",
    "from sklearn.metrics import confusion_matrix\n",
    "from sklearn.model_selection import train_test_split\n",
    "from sklearn.tree import plot_tree\n",
    "from sklearn.metrics import roc_auc_score\n",
    "from sklearn.metrics import recall_score\n",
    "from sklearn.metrics import precision_score\n",
    "from sklearn.metrics import accuracy_score\n",
    "from sklearn.metrics import confusion_matrix\n",
    "from sklearn.metrics import classification_report\n",
    "\n",
    "from sklearn.model_selection import GridSearchCV\n",
    "from sklearn.decomposition import PCA\n",
    "from sklearn.preprocessing import MinMaxScaler\n",
    "\n",
    "from sklearn.ensemble import RandomForestClassifier\n",
    "from sklearn.datasets import make_classification\n",
    "\n",
    "from preprocesamiento import feature_engineering\n",
    "from preprocesamiento import obtenerDFTraining\n",
    "from preprocesamiento import preprocesar_data_frame\n",
    "\n",
    "RANDOM_STATE = 19 * 103785"
   ]
  },
  {
   "cell_type": "markdown",
   "id": "b0b108d1",
   "metadata": {},
   "source": [
    "## Random Forests\n",
    "\n",
    "Este modelo funciona similar a bagging, utilizar varios a modelos con diferentes sub-set del dataset de entrenamiendo. Pero con el agregado de que para evitar que mucho de estos modelos terminen pareciendoce mucho (debido a algunos features mas significativos que otros) se elije features de manera aleatoria.\n",
    "\n",
    "Para este modelo se buscaran los siguientes hiperparametros:\n",
    "\n",
    "+ criterion --> El criterio para medir el gain de generar una nueva particion de un nodo.\n",
    "+ max_depth --> Maxima profundidad del arbol.\n",
    "+ min_samples_split --> El número mínimo de muestras necesarias para dividir un nodo.\n",
    "+ max_features --> La cantidad de características a considerar al buscar la mejor división.\n",
    "+ class_weight --> Importancia de alto y bajo poder adquisitivo."
   ]
  },
  {
   "cell_type": "code",
   "execution_count": 2,
   "id": "209e8c32",
   "metadata": {},
   "outputs": [],
   "source": [
    "from preprocesamiento import metricas\n",
    "from preprocesamiento import prepros_dummies\n",
    "from preprocesamiento import preprocesar_df_min_max_scaler"
   ]
  },
  {
   "cell_type": "markdown",
   "id": "67d41b1d",
   "metadata": {},
   "source": [
    "Inicialmente seleccionaremos las variables mas relevantes para las categoricas hacemos un one hot encoding y las numericas las escalaremos con MinMaxScaler."
   ]
  },
  {
   "cell_type": "code",
   "execution_count": 3,
   "id": "7a40cac0",
   "metadata": {},
   "outputs": [],
   "source": [
    "df = obtenerDFTraining()\n",
    "(X, y) = preprocesar_data_frame(df)\n",
    "X = prepros_dummies(X[['ganancia_perdida_declarada_bolsa_argentina','trabajo',\n",
    "                       'estado_marital','genero',\"edad\",\"anios_estudiados\"]])\n",
    "X_prepros = preprocesar_df_min_max_scaler(X)\n",
    "x_train, x_test, y_train, y_test = train_test_split(X_prepros, y, test_size=0.25, random_state=RANDOM_STATE)"
   ]
  },
  {
   "cell_type": "code",
   "execution_count": 4,
   "id": "ee672903",
   "metadata": {},
   "outputs": [
    {
     "name": "stdout",
     "output_type": "stream",
     "text": [
      "Fitting 5 folds for each of 384 candidates, totalling 1920 fits\n"
     ]
    },
    {
     "name": "stderr",
     "output_type": "stream",
     "text": [
      "[Parallel(n_jobs=-1)]: Using backend LokyBackend with 6 concurrent workers.\n",
      "[Parallel(n_jobs=-1)]: Done  13 tasks      | elapsed:   27.1s\n",
      "[Parallel(n_jobs=-1)]: Done  86 tasks      | elapsed:  2.3min\n",
      "[Parallel(n_jobs=-1)]: Done 209 tasks      | elapsed:  5.9min\n",
      "[Parallel(n_jobs=-1)]: Done 380 tasks      | elapsed: 10.6min\n",
      "[Parallel(n_jobs=-1)]: Done 601 tasks      | elapsed: 16.7min\n",
      "[Parallel(n_jobs=-1)]: Done 870 tasks      | elapsed: 24.2min\n",
      "[Parallel(n_jobs=-1)]: Done 1189 tasks      | elapsed: 33.2min\n",
      "[Parallel(n_jobs=-1)]: Done 1556 tasks      | elapsed: 43.1min\n",
      "[Parallel(n_jobs=-1)]: Done 1920 out of 1920 | elapsed: 53.4min finished\n"
     ]
    },
    {
     "name": "stdout",
     "output_type": "stream",
     "text": [
      "              precision    recall  f1-score   support\n",
      "\n",
      "           0       0.88      0.93      0.91      6196\n",
      "           1       0.73      0.61      0.66      1936\n",
      "\n",
      "    accuracy                           0.85      8132\n",
      "   macro avg       0.81      0.77      0.78      8132\n",
      "weighted avg       0.85      0.85      0.85      8132\n",
      "\n"
     ]
    },
    {
     "data": {
      "text/plain": [
       "{'class_weight': {0: 1, 1: 1.25},\n",
       " 'criterion': 'gini',\n",
       " 'max_depth': 10,\n",
       " 'max_features': 'auto',\n",
       " 'min_samples_split': 10,\n",
       " 'n_estimators': 1000,\n",
       " 'random_state': 1971915}"
      ]
     },
     "execution_count": 4,
     "metadata": {},
     "output_type": "execute_result"
    }
   ],
   "source": [
    "parametros = {'n_estimators': [1000], 'criterion' : ['gini','entropy'], 'max_depth':range(5,11), \n",
    "              \"min_samples_split\" : [10,100,500,1000],\"max_features\": [\"auto\",\"log2\"],\n",
    "              'class_weight' :  [{0: 1,1: 1},{0: 1,1: 1.25},{0: 1,1: 1.5},{0: 1,1: 2}],\n",
    "              'random_state':[RANDOM_STATE]} \n",
    "\n",
    "random_forest = RandomForestClassifier()\n",
    "clf = GridSearchCV(random_forest, parametros, n_jobs = -1, verbose = 4, scoring = \"roc_auc\")\n",
    "\n",
    "clf.fit(x_train, y_train)\n",
    "print(classification_report(y_test,clf.predict(x_test)))\n",
    "clf.best_params_"
   ]
  },
  {
   "cell_type": "markdown",
   "id": "737bfa0e",
   "metadata": {},
   "source": [
    "Una vez realizada la busqueda, entrenamos individualmente el mejor modelo y vemos sus metricas."
   ]
  },
  {
   "cell_type": "code",
   "execution_count": 13,
   "id": "b677e30b",
   "metadata": {},
   "outputs": [
    {
     "data": {
      "image/png": "[encoded data removed]",
      "text/plain": [
       "<Figure size 432x288 with 2 Axes>"
      ]
     },
     "metadata": {
      "needs_background": "light"
     },
     "output_type": "display_data"
    },
    {
     "name": "stdout",
     "output_type": "stream",
     "text": [
      "Recall: 0.61\n",
      "Precision: 0.73\n",
      "Acc: 0.85\n",
      "Roc: 0.91\n"
     ]
    }
   ],
   "source": [
    "df = obtenerDFTraining()\n",
    "(X, y) = preprocesar_data_frame(df)\n",
    "X = prepros_dummies(X[['ganancia_perdida_declarada_bolsa_argentina','trabajo',\n",
    "                       'estado_marital','genero',\"edad\",\"anios_estudiados\"]])\n",
    "X_prepros = preprocesar_df_min_max_scaler(X)\n",
    "x_train, x_test, y_train, y_test = train_test_split(X_prepros, y, test_size=0.25, random_state=RANDOM_STATE)\n",
    "\n",
    "\n",
    "random_forest_dummies = RandomForestClassifier( class_weight = {0: 1, 1: 1.25}, criterion = 'gini', max_depth = 10,\n",
    "                                max_features = 'auto',min_samples_split = 10,n_estimators = 1000,\n",
    "                                random_state = RANDOM_STATE)\n",
    "\n",
    "random_forest_dummies.fit(x_train, y_train)\n",
    "\n",
    "metricas(y_test,random_forest_dummies.predict(x_test),x_test,random_forest_dummies)"
   ]
  },
  {
   "cell_type": "markdown",
   "id": "9da25a64",
   "metadata": {},
   "source": [
    "## Otro preprocesamiento: PCA"
   ]
  },
  {
   "cell_type": "code",
   "execution_count": 6,
   "id": "52c5cc51",
   "metadata": {},
   "outputs": [],
   "source": [
    "from preprocesamiento import preprocesar_df_pca\n",
    "\n",
    "df = obtenerDFTraining()\n",
    "X, y = preprocesar_data_frame(df)\n",
    "X = preprocesar_df_min_max_scaler(X[['ganancia_perdida_declarada_bolsa_argentina','trabajo',\n",
    "                                      'estado_marital','genero',\"anios_estudiados\"]])\n",
    "X = preprocesar_df_pca(X,18)\n",
    "\n",
    "x_train, x_test, y_train, y_test = train_test_split(X, y, test_size=0.25, random_state=RANDOM_STATE)"
   ]
  },
  {
   "cell_type": "code",
   "execution_count": 8,
   "id": "fca95d77",
   "metadata": {},
   "outputs": [
    {
     "name": "stdout",
     "output_type": "stream",
     "text": [
      "Fitting 5 folds for each of 256 candidates, totalling 1280 fits\n"
     ]
    },
    {
     "name": "stderr",
     "output_type": "stream",
     "text": [
      "[Parallel(n_jobs=-1)]: Using backend LokyBackend with 6 concurrent workers.\n",
      "[Parallel(n_jobs=-1)]: Done  13 tasks      | elapsed:   59.7s\n",
      "[Parallel(n_jobs=-1)]: Done  86 tasks      | elapsed:  5.0min\n",
      "[Parallel(n_jobs=-1)]: Done 209 tasks      | elapsed: 11.2min\n",
      "[Parallel(n_jobs=-1)]: Done 380 tasks      | elapsed: 19.6min\n",
      "[Parallel(n_jobs=-1)]: Done 601 tasks      | elapsed: 30.8min\n",
      "[Parallel(n_jobs=-1)]: Done 870 tasks      | elapsed: 44.2min\n",
      "[Parallel(n_jobs=-1)]: Done 1189 tasks      | elapsed: 60.2min\n",
      "[Parallel(n_jobs=-1)]: Done 1280 out of 1280 | elapsed: 64.9min finished\n"
     ]
    },
    {
     "name": "stdout",
     "output_type": "stream",
     "text": [
      "              precision    recall  f1-score   support\n",
      "\n",
      "           0       0.87      0.93      0.90      6196\n",
      "           1       0.70      0.54      0.61      1936\n",
      "\n",
      "    accuracy                           0.84      8132\n",
      "   macro avg       0.78      0.73      0.75      8132\n",
      "weighted avg       0.83      0.84      0.83      8132\n",
      "\n"
     ]
    },
    {
     "data": {
      "text/plain": [
       "{'class_weight': {0: 1, 1: 1},\n",
       " 'criterion': 'gini',\n",
       " 'max_depth': 10,\n",
       " 'max_features': 'auto',\n",
       " 'min_samples_split': 10,\n",
       " 'n_estimators': 1000,\n",
       " 'random_state': 1971915}"
      ]
     },
     "execution_count": 8,
     "metadata": {},
     "output_type": "execute_result"
    }
   ],
   "source": [
    "parametros = {'n_estimators': [1000], 'criterion' : ['gini','entropy'], 'max_depth':range(7,11), \n",
    "              \"min_samples_split\" : [10,100,500,1000],\"max_features\": [\"auto\",\"log2\"],\n",
    "              'class_weight' :  [{0: 1,1: 1},{0: 1,1: 1.25},{0: 1,1: 1.5},{0: 1,1: 2}],\n",
    "              'random_state':[RANDOM_STATE]} \n",
    "\n",
    "random_forest = RandomForestClassifier()\n",
    "clf = GridSearchCV(random_forest, parametros, n_jobs = -1, verbose = 4,scoring = 'roc_auc')\n",
    "\n",
    "clf.fit(x_train, y_train)\n",
    "print(classification_report(y_test,clf.predict(x_test)))\n",
    "clf.best_params_"
   ]
  },
  {
   "cell_type": "code",
   "execution_count": 9,
   "id": "9623d22d",
   "metadata": {},
   "outputs": [
    {
     "data": {
      "image/png": "[encoded data removed]",
      "text/plain": [
       "<Figure size 432x288 with 2 Axes>"
      ]
     },
     "metadata": {
      "needs_background": "light"
     },
     "output_type": "display_data"
    },
    {
     "name": "stdout",
     "output_type": "stream",
     "text": [
      "Recall: 0.54\n",
      "Precision: 0.7\n",
      "Acc: 0.84\n",
      "Roc: 0.89\n"
     ]
    }
   ],
   "source": [
    "df = obtenerDFTraining()\n",
    "X, y = preprocesar_data_frame(df)\n",
    "X = preprocesar_df_min_max_scaler(X[['ganancia_perdida_declarada_bolsa_argentina','trabajo',\n",
    "                                      'estado_marital','genero',\"anios_estudiados\"]])\n",
    "X = preprocesar_df_pca(X,18)\n",
    "\n",
    "x_train, x_test, y_train, y_test = train_test_split(X, y, test_size=0.25, random_state=RANDOM_STATE)\n",
    "\n",
    "\n",
    "clf_rf = RandomForestClassifier( class_weight = {0: 1, 1: 1}, criterion = 'gini', max_depth = 10,\n",
    "                                max_features = 'auto',min_samples_split = 10,n_estimators = 1000,\n",
    "                                random_state = RANDOM_STATE)\n",
    "\n",
    "clf_rf.fit(x_train, y_train)\n",
    "\n",
    "metricas(y_test,clf_rf.predict(x_test),x_test,clf_rf)"
   ]
  },
  {
   "cell_type": "markdown",
   "id": "e29f0545",
   "metadata": {},
   "source": [
    "Es interesante destacar que para ambos preprocesamiento, se encontro la misma configuraciones pero se puede notar una diferencia significativa en las metricas para ambos."
   ]
  },
  {
   "cell_type": "markdown",
   "id": "8e429433",
   "metadata": {},
   "source": [
    "### Prediccion sobre el Holdout"
   ]
  },
  {
   "cell_type": "code",
   "execution_count": 14,
   "id": "91915a11",
   "metadata": {},
   "outputs": [],
   "source": [
    "from preprocesamiento import obtenerDFHoldout\n",
    "from preprocesamiento import escribir_predicciones_a_archivo\n",
    "\n",
    "holdout = obtenerDFHoldout()\n",
    "\n",
    "ids = np.array(holdout['id'])\n",
    "holdout = prepros_dummies(holdout[['ganancia_perdida_declarada_bolsa_argentina','trabajo',\n",
    "                       'estado_marital','genero',\"edad\",\"anios_estudiados\"]])\n",
    "holdout = preprocesar_df_min_max_scaler(holdout)\n",
    "\n",
    "predicciones_holdout = random_forest_dummies.predict(holdout)\n",
    "escribir_predicciones_a_archivo(predicciones_holdout,\"Random Forest\",ids)"
   ]
  }
 ],
 "metadata": {
  "kernelspec": {
   "display_name": "Python 3",
   "language": "python",
   "name": "python3"
  },
  "language_info": {
   "codemirror_mode": {
    "name": "ipython",
    "version": 3
   },
   "file_extension": ".py",
   "mimetype": "text/x-python",
   "name": "python",
   "nbconvert_exporter": "python",
   "pygments_lexer": "ipython3",
   "version": "3.8.10"
  }
 },
 "nbformat": 4,
 "nbformat_minor": 5
}
