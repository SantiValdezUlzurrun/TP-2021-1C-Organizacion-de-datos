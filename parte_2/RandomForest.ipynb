{
 "cells": [
  {
   "cell_type": "code",
   "execution_count": 1,
   "id": "a3471c54",
   "metadata": {},
   "outputs": [],
   "source": [
    "import pandas as pd\n",
    "import numpy as np\n",
    "\n",
    "from sklearn import tree\n",
    "from sklearn.metrics import confusion_matrix\n",
    "from sklearn.model_selection import train_test_split\n",
    "from sklearn.tree import plot_tree\n",
    "from sklearn.metrics import classification_report\n",
    "\n",
    "from sklearn.model_selection import GridSearchCV\n",
    "from sklearn.decomposition import PCA\n",
    "from sklearn.preprocessing import MinMaxScaler\n",
    "\n",
    "from sklearn.ensemble import RandomForestClassifier\n",
    "from sklearn.datasets import make_classification\n",
    "\n",
    "from preprocesamiento import feature_engineering\n",
    "from preprocesamiento import obtenerDFTraining\n",
    "from preprocesamiento import preprocesar_data_frame\n",
    "\n",
    "RANDOM_STATE = 19 * 103785"
   ]
  },
  {
   "cell_type": "code",
   "execution_count": 2,
   "id": "444e1f97",
   "metadata": {},
   "outputs": [
    {
     "name": "stdout",
     "output_type": "stream",
     "text": [
      "Fitting 5 folds for each of 3 candidates, totalling 15 fits\n"
     ]
    },
    {
     "name": "stderr",
     "output_type": "stream",
     "text": [
      "[Parallel(n_jobs=-1)]: Using backend LokyBackend with 4 concurrent workers.\n",
      "[Parallel(n_jobs=-1)]: Done  12 out of  15 | elapsed:  6.7min remaining:  1.7min\n",
      "[Parallel(n_jobs=-1)]: Done  15 out of  15 | elapsed:  9.2min finished\n"
     ]
    },
    {
     "name": "stdout",
     "output_type": "stream",
     "text": [
      "              precision    recall  f1-score   support\n",
      "\n",
      "           0       0.80      1.00      0.89      6196\n",
      "           1       0.99      0.22      0.37      1936\n",
      "\n",
      "    accuracy                           0.81      8132\n",
      "   macro avg       0.90      0.61      0.63      8132\n",
      "weighted avg       0.85      0.81      0.77      8132\n",
      "\n"
     ]
    },
    {
     "data": {
      "text/plain": [
       "{'criterion': 'entropy',\n",
       " 'max_depth': 4,\n",
       " 'max_features': 'auto',\n",
       " 'n_estimators': 10000,\n",
       " 'random_state': 1971915}"
      ]
     },
     "execution_count": 2,
     "metadata": {},
     "output_type": "execute_result"
    }
   ],
   "source": [
    "parametros = {'n_estimators': [10000], 'criterion' : ['entropy'], 'max_depth':range(2,5), \n",
    "              \"max_features\": [\"auto\"],\n",
    "              'random_state':[RANDOM_STATE]} \n",
    "\n",
    "random_forest = RandomForestClassifier()\n",
    "clf = GridSearchCV(random_forest, parametros, n_jobs = -1, verbose = 4, scoring = \"roc_auc\")\n",
    "\n",
    "df = obtenerDFTraining()\n",
    "(X, y) = preprocesar_data_frame(df)\n",
    "X1 = pd.get_dummies(X[['ganancia_perdida_declarada_bolsa_argentina','trabajo',\n",
    "                       'estado_marital','genero',\"edad\"]])\n",
    "\n",
    "X1['ganancia_perdida_declarada_bolsa_argentina'] = X['ganancia_perdida_declarada_bolsa_argentina'].apply(lambda x: np.tanh(x) )\n",
    "X1 = X1.drop(['trabajo_No contesto'],axis = 1)\n",
    "X1 = X1.drop(['genero_mujer'],axis = 1)\n",
    "X1 = X1.drop(['estado_marital_divorciado'],axis = 1)\n",
    "\n",
    "X_train, X_test, y_train, y_test = train_test_split(X1, y, test_size=0.25, random_state=RANDOM_STATE)\n",
    "\n",
    "clf.fit(X_train, y_train)\n",
    "print(classification_report(y_test,clf.predict(X_test)))\n",
    "clf.best_params_"
   ]
  },
  {
   "cell_type": "code",
   "execution_count": 7,
   "id": "3d37d0cc",
   "metadata": {},
   "outputs": [
    {
     "name": "stdout",
     "output_type": "stream",
     "text": [
      "Fitting 5 folds for each of 7 candidates, totalling 35 fits\n"
     ]
    },
    {
     "name": "stderr",
     "output_type": "stream",
     "text": [
      "[Parallel(n_jobs=-1)]: Using backend LokyBackend with 4 concurrent workers.\n",
      "[Parallel(n_jobs=-1)]: Done  17 tasks      | elapsed: 84.9min\n",
      "[Parallel(n_jobs=-1)]: Done  35 out of  35 | elapsed: 211.3min finished\n"
     ]
    },
    {
     "name": "stdout",
     "output_type": "stream",
     "text": [
      "              precision    recall  f1-score   support\n",
      "\n",
      "           0       0.86      0.95      0.90      6196\n",
      "           1       0.75      0.52      0.61      1936\n",
      "\n",
      "    accuracy                           0.84      8132\n",
      "   macro avg       0.81      0.73      0.76      8132\n",
      "weighted avg       0.84      0.84      0.83      8132\n",
      "\n"
     ]
    },
    {
     "data": {
      "text/plain": [
       "{'criterion': 'entropy',\n",
       " 'max_depth': 9,\n",
       " 'max_features': 'auto',\n",
       " 'n_estimators': 10000,\n",
       " 'random_state': 1971915}"
      ]
     },
     "execution_count": 7,
     "metadata": {},
     "output_type": "execute_result"
    }
   ],
   "source": [
    "def preprocesar_df_min_max_scaler(X : pd.DataFrame):\n",
    "    X = pd.get_dummies(X)\n",
    "    scaler = MinMaxScaler()\n",
    "    scaler.fit(X)\n",
    "    return scaler.transform(X)\n",
    "\n",
    "def preprocesar_df_pca(df , dim):\n",
    "    #df = feature_engineering(df)\n",
    "    (X, Y) = preprocesar_data_frame(df)\n",
    "    X = preprocesar_df_min_max_scaler(X)\n",
    "    x_train, x_test, y_train, y_test = train_test_split(X, Y, test_size=0.25, random_state=RANDOM_STATE)\n",
    "    \n",
    "    pca = PCA(dim)\n",
    "    x_train_pca = pd.DataFrame(pca.fit_transform(x_train))\n",
    "    x_test_pca = pca.transform(x_test)\n",
    "    \n",
    "    return (x_train_pca,x_test_pca,y_train,y_test)\n",
    "\n",
    "\n",
    "\n",
    "parametros = {'n_estimators': [10000], 'criterion' : ['entropy'], 'max_depth':range(3,10), \n",
    "              \"max_features\": [\"auto\"],\n",
    "              'random_state':[RANDOM_STATE]} \n",
    "\n",
    "random_forest = RandomForestClassifier()\n",
    "clf = GridSearchCV(random_forest, parametros, n_jobs = -1, verbose = 4,scoring = 'recall')\n",
    "\n",
    "df = obtenerDFTraining()\n",
    "x_train, x_test, y_train, y_test  = preprocesar_df_pca(df,48)\n",
    "\n",
    "clf.fit(x_train, y_train)\n",
    "print(classification_report(y_test,clf.predict(x_test)))\n",
    "clf.best_params_"
   ]
  },
  {
   "cell_type": "code",
   "execution_count": 8,
   "id": "be5cfb16",
   "metadata": {},
   "outputs": [
    {
     "name": "stdout",
     "output_type": "stream",
     "text": [
      "Fitting 5 folds for each of 3 candidates, totalling 15 fits\n"
     ]
    },
    {
     "name": "stderr",
     "output_type": "stream",
     "text": [
      "[Parallel(n_jobs=-1)]: Using backend LokyBackend with 4 concurrent workers.\n",
      "[Parallel(n_jobs=-1)]: Done  12 out of  15 | elapsed: 95.7min remaining: 23.9min\n",
      "[Parallel(n_jobs=-1)]: Done  15 out of  15 | elapsed: 122.9min finished\n"
     ]
    },
    {
     "name": "stdout",
     "output_type": "stream",
     "text": [
      "              precision    recall  f1-score   support\n",
      "\n",
      "           0       0.88      0.92      0.90      6196\n",
      "           1       0.70      0.58      0.64      1936\n",
      "\n",
      "    accuracy                           0.84      8132\n",
      "   macro avg       0.79      0.75      0.77      8132\n",
      "weighted avg       0.83      0.84      0.84      8132\n",
      "\n"
     ]
    },
    {
     "data": {
      "text/plain": [
       "{'criterion': 'entropy',\n",
       " 'max_depth': 9,\n",
       " 'max_features': 'auto',\n",
       " 'n_estimators': 10000,\n",
       " 'random_state': 1971915}"
      ]
     },
     "execution_count": 8,
     "metadata": {},
     "output_type": "execute_result"
    }
   ],
   "source": [
    "parametros = {'n_estimators': [10000], 'criterion' : ['entropy'], 'max_depth':range(13,16), \n",
    "              \"max_features\": [\"auto\"],\n",
    "              'random_state':[RANDOM_STATE]} \n",
    "\n",
    "random_forest = RandomForestClassifier()\n",
    "clf_1 = GridSearchCV(random_forest, parametros, n_jobs = -1, verbose = 4,scoring = 'recall')\n",
    "\n",
    "\n",
    "clf_1.fit(x_train, y_train)\n",
    "print(classification_report(y_test,clf_1.predict(x_test)))\n",
    "clf_1.best_params_"
   ]
  },
  {
   "cell_type": "code",
   "execution_count": 20,
   "id": "0e81d65d",
   "metadata": {},
   "outputs": [
    {
     "name": "stderr",
     "output_type": "stream",
     "text": [
      "[Parallel(n_jobs=-1)]: Using backend ThreadingBackend with 4 concurrent workers.\n",
      "[Parallel(n_jobs=-1)]: Done  42 tasks      | elapsed:    2.4s\n",
      "[Parallel(n_jobs=-1)]: Done 192 tasks      | elapsed:   10.9s\n",
      "[Parallel(n_jobs=-1)]: Done 442 tasks      | elapsed:   26.5s\n",
      "[Parallel(n_jobs=-1)]: Done 792 tasks      | elapsed:   50.9s\n",
      "[Parallel(n_jobs=-1)]: Done 1000 out of 1000 | elapsed:  1.1min finished\n",
      "[Parallel(n_jobs=4)]: Using backend ThreadingBackend with 4 concurrent workers.\n",
      "[Parallel(n_jobs=4)]: Done  42 tasks      | elapsed:    0.0s\n",
      "[Parallel(n_jobs=4)]: Done 192 tasks      | elapsed:    0.1s\n",
      "[Parallel(n_jobs=4)]: Done 442 tasks      | elapsed:    0.2s\n",
      "[Parallel(n_jobs=4)]: Done 792 tasks      | elapsed:    0.4s\n"
     ]
    },
    {
     "name": "stdout",
     "output_type": "stream",
     "text": [
      "              precision    recall  f1-score   support\n",
      "\n",
      "           0       0.88      0.92      0.90      6196\n",
      "           1       0.70      0.58      0.63      1936\n",
      "\n",
      "    accuracy                           0.84      8132\n",
      "   macro avg       0.79      0.75      0.77      8132\n",
      "weighted avg       0.83      0.84      0.83      8132\n",
      "\n"
     ]
    },
    {
     "name": "stderr",
     "output_type": "stream",
     "text": [
      "[Parallel(n_jobs=4)]: Done 1000 out of 1000 | elapsed:    0.5s finished\n"
     ]
    }
   ],
   "source": [
    "clf_1.best_params_\n",
    "\n",
    "\n",
    "df = obtenerDFTraining()\n",
    "x_train, x_test, y_train, y_test  = preprocesar_df_pca(df,48)\n",
    "\n",
    "rf = RandomForestClassifier(n_estimators = 1000,criterion = \"entropy\", max_depth = 16, n_jobs = -1, verbose = 1 ,random_state = RANDOM_STATE)\n",
    "rf.fit(x_train, y_train)\n",
    "print(classification_report(y_test,rf.predict(x_test)))"
   ]
  }
 ],
 "metadata": {
  "kernelspec": {
   "display_name": "Python 3",
   "language": "python",
   "name": "python3"
  },
  "language_info": {
   "codemirror_mode": {
    "name": "ipython",
    "version": 3
   },
   "file_extension": ".py",
   "mimetype": "text/x-python",
   "name": "python",
   "nbconvert_exporter": "python",
   "pygments_lexer": "ipython3",
   "version": "3.8.10"
  }
 },
 "nbformat": 4,
 "nbformat_minor": 5
}
