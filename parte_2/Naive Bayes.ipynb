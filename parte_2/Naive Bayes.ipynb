{
 "cells": [
  {
   "cell_type": "code",
   "execution_count": 9,
   "id": "79009e64",
   "metadata": {},
   "outputs": [],
   "source": [
    "import pandas as pd\n",
    "import numpy as np\n",
    "import seaborn as sns\n",
    "\n",
    "from sklearn.model_selection import train_test_split\n",
    "from sklearn.model_selection import GridSearchCV\n",
    "\n",
    "from sklearn.decomposition import PCA\n",
    "from sklearn.preprocessing import MinMaxScaler\n",
    "from sklearn import preprocessing\n",
    "from preprocesamiento import feature_engineering\n",
    "from preprocesamiento import obtenerDFTraining\n",
    "from preprocesamiento import preprocesar_data_frame\n",
    "from sklearn.model_selection import KFold\n",
    "from sklearn.metrics import classification_report\n",
    "\n",
    "from sklearn.naive_bayes import MultinomialNB\n",
    "from sklearn.naive_bayes import GaussianNB\n",
    "from sklearn.naive_bayes import CategoricalNB\n",
    "from sklearn.naive_bayes import ComplementNB\n",
    "\n",
    "\n",
    "RANDOM_STATE = 19 * 103785"
   ]
  },
  {
   "cell_type": "code",
   "execution_count": 32,
   "id": "4bb3d042",
   "metadata": {},
   "outputs": [],
   "source": [
    "def sigmoid(x):\n",
    "    return (1 / (1 + np.exp(-x)))\n",
    "\n",
    "def preprocesar_df_min_max_scaler(X : pd.DataFrame):\n",
    "    X = pd.get_dummies(X)\n",
    "    scaler = MinMaxScaler()\n",
    "    scaler.fit(X)\n",
    "    return scaler.transform(X)\n",
    "\n",
    "def preprocesar_df_pca(df , dim):\n",
    "    #df = feature_engineering(df)\n",
    "    (X, Y) = preprocesar_data_frame(df)\n",
    "    X = preprocesar_df_min_max_scaler(X)\n",
    "    \n",
    "    x_train, x_test, y_train, y_test = train_test_split(X, Y, test_size=0.25, random_state=RANDOM_STATE)\n",
    "    \n",
    "    pca = PCA(dim)\n",
    "    x_train_pca = pd.DataFrame(pca.fit_transform(x_train))\n",
    "    x_test_pca = pca.transform(x_test)\n",
    "    \n",
    "    return (x_train_pca,x_test_pca,y_train,y_test)\n",
    "\n",
    "df = obtenerDFTraining()"
   ]
  },
  {
   "cell_type": "code",
   "execution_count": 46,
   "id": "bceaca91",
   "metadata": {},
   "outputs": [
    {
     "name": "stdout",
     "output_type": "stream",
     "text": [
      "Fitting 2 folds for each of 6 candidates, totalling 12 fits\n"
     ]
    },
    {
     "name": "stderr",
     "output_type": "stream",
     "text": [
      "[Parallel(n_jobs=-1)]: Using backend LokyBackend with 4 concurrent workers.\n",
      "[Parallel(n_jobs=-1)]: Done   9 out of  12 | elapsed:    0.2s remaining:    0.1s\n",
      "[Parallel(n_jobs=-1)]: Done  12 out of  12 | elapsed:    0.3s finished\n"
     ]
    },
    {
     "name": "stdout",
     "output_type": "stream",
     "text": [
      "              precision    recall  f1-score   support\n",
      "\n",
      "           0       0.76      1.00      0.86      6196\n",
      "           1       0.00      0.00      0.00      1936\n",
      "\n",
      "    accuracy                           0.76      8132\n",
      "   macro avg       0.38      0.50      0.43      8132\n",
      "weighted avg       0.58      0.76      0.66      8132\n",
      "\n"
     ]
    },
    {
     "name": "stderr",
     "output_type": "stream",
     "text": [
      "/home/mauricio/.local/lib/python3.8/site-packages/sklearn/metrics/_classification.py:1221: UndefinedMetricWarning: Precision and F-score are ill-defined and being set to 0.0 in labels with no predicted samples. Use `zero_division` parameter to control this behavior.\n",
      "  _warn_prf(average, modifier, msg_start, len(result))\n"
     ]
    },
    {
     "data": {
      "text/plain": [
       "{'alpha': 1e-10}"
      ]
     },
     "execution_count": 46,
     "metadata": {},
     "output_type": "execute_result"
    }
   ],
   "source": [
    "x_train, x_test, y_train, y_test  = preprocesar_df_pca(df,48)\n",
    "\n",
    "x_train = x_train.apply(sigmoid)\n",
    "x_test = np.array([sigmoid(xi) for xi in x_test])\n",
    "\n",
    "\n",
    "cnb = MultinomialNB()\n",
    "clf = GridSearchCV(cnb, parametros,n_jobs =-1,verbose = 4, cv = 2,scoring = 'f1')\n",
    "\n",
    "clf.fit(x_train, y_train)\n",
    "print(classification_report(y_test,clf.predict(x_test)))\n",
    "clf.best_params_"
   ]
  },
  {
   "cell_type": "code",
   "execution_count": 27,
   "id": "3a4f6e59",
   "metadata": {},
   "outputs": [
    {
     "name": "stdout",
     "output_type": "stream",
     "text": [
      "Fitting 2 folds for each of 6 candidates, totalling 12 fits\n"
     ]
    },
    {
     "name": "stderr",
     "output_type": "stream",
     "text": [
      "[Parallel(n_jobs=-1)]: Using backend LokyBackend with 4 concurrent workers.\n"
     ]
    },
    {
     "name": "stdout",
     "output_type": "stream",
     "text": [
      "              precision    recall  f1-score   support\n",
      "\n",
      "           0       0.85      0.91      0.88      6196\n",
      "           1       0.63      0.48      0.54      1936\n",
      "\n",
      "    accuracy                           0.81      8132\n",
      "   macro avg       0.74      0.69      0.71      8132\n",
      "weighted avg       0.79      0.81      0.80      8132\n",
      "\n"
     ]
    },
    {
     "name": "stderr",
     "output_type": "stream",
     "text": [
      "[Parallel(n_jobs=-1)]: Done   9 out of  12 | elapsed:    1.2s remaining:    0.4s\n",
      "[Parallel(n_jobs=-1)]: Done  12 out of  12 | elapsed:    1.3s finished\n"
     ]
    },
    {
     "data": {
      "text/plain": [
       "{'alpha': 1e-10}"
      ]
     },
     "execution_count": 27,
     "metadata": {},
     "output_type": "execute_result"
    }
   ],
   "source": [
    "\n",
    "\n",
    "parametros = {'alpha':[1.0e-10,0.0001,0.0005,0.001,0.005,0.01,]}\n",
    "\n",
    "cnb = MultinomialNB()\n",
    "clf = GridSearchCV(cnb, parametros,n_jobs =-1,verbose = 4, cv = 2,scoring = 'f1')\n",
    "\n",
    "df = obtenerDFTraining()\n",
    "(X, Y) = preprocesar_data_frame(df)\n",
    "\n",
    "X['ganancia_perdida_declarada_bolsa_argentina'] = X['ganancia_perdida_declarada_bolsa_argentina'].apply(lambda x: sigmoid(x))\n",
    "X = X[['estado_marital',\"trabajo\",\"edad\",\"ganancia_perdida_declarada_bolsa_argentina\"]]\n",
    "\n",
    "X = pd.get_dummies(X)\n",
    "x_train, x_test, y_train, y_test = train_test_split(X, Y, test_size=0.25, random_state=RANDOM_STATE)\n",
    "\n",
    "clf.fit(x_train, y_train)\n",
    "print(classification_report(y_test,clf.predict(x_test)))\n",
    "clf.best_params_"
   ]
  },
  {
   "cell_type": "code",
   "execution_count": null,
   "id": "ce16b1e5",
   "metadata": {},
   "outputs": [],
   "source": []
  },
  {
   "cell_type": "code",
   "execution_count": null,
   "id": "65d8d93e",
   "metadata": {},
   "outputs": [],
   "source": []
  }
 ],
 "metadata": {
  "kernelspec": {
   "display_name": "Python 3",
   "language": "python",
   "name": "python3"
  },
  "language_info": {
   "codemirror_mode": {
    "name": "ipython",
    "version": 3
   },
   "file_extension": ".py",
   "mimetype": "text/x-python",
   "name": "python",
   "nbconvert_exporter": "python",
   "pygments_lexer": "ipython3",
   "version": "3.8.10"
  }
 },
 "nbformat": 4,
 "nbformat_minor": 5
}
