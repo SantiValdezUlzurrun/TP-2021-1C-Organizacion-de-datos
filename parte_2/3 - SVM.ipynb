{
 "cells": [
  {
   "cell_type": "markdown",
   "id": "f459b5da",
   "metadata": {},
   "source": [
    "# Trabajo Práctico 2: SVM\n",
    "\n",
    "El objetivo del algoritmo SVM es encontrar un hiperplano que separe de la mejor forma posible dos clases diferentes de puntos de datos. “De la mejor forma posible” implica el hiperplano con el margen más amplio entre las dos clases. Para encontrar el mejor modelo se buscaran los siguientes hiperparametros.\n",
    "\n",
    "+ C --> Parámetro de regularización. La fuerza de la regularización es inversamente proporcional a C.\n",
    "+ kernel --> Define el producto con el que se busca el mejor hiperplano. Gracias a esto el modelo simula estar en una dimension superior, en caso de no ser linealmente separables en la dimension original.\n",
    "+ degree --> Grado de la función del kernel polinomial ('poli'). Ignorado por todos los demás kernels.\n",
    "+ gamma --> Parametro utilizando para el kernel RBF.\n",
    "+ class_weight --> El importancia que tiene los ceros o unos."
   ]
  },
  {
   "cell_type": "code",
   "execution_count": 2,
   "id": "0af57dec",
   "metadata": {},
   "outputs": [],
   "source": [
    "import pandas as pd\n",
    "import numpy as np\n",
    "import matplotlib.pyplot as plt\n",
    "import seaborn as sns\n",
    "\n",
    "from sklearn.model_selection import train_test_split\n",
    "from sklearn.model_selection import GridSearchCV\n",
    "\n",
    "from sklearn.decomposition import PCA\n",
    "from sklearn.preprocessing import MinMaxScaler\n",
    "\n",
    "from sklearn.svm import SVC\n",
    "from sklearn import svm\n",
    "\n",
    "from preprocesamiento import feature_engineering\n",
    "from preprocesamiento import obtenerDFHoldout, obtenerDFTraining\n",
    "from preprocesamiento import preprocesar_data_frame\n",
    "\n",
    "from sklearn.metrics import roc_auc_score\n",
    "from sklearn.metrics import recall_score\n",
    "from sklearn.metrics import precision_score\n",
    "from sklearn.metrics import accuracy_score\n",
    "from sklearn.metrics import confusion_matrix\n",
    "from sklearn.metrics import classification_report\n",
    "\n",
    "RANDOM_STATE = 19 * 103785"
   ]
  },
  {
   "cell_type": "markdown",
   "id": "e9090910",
   "metadata": {},
   "source": [
    "## Funciones de Preprocesamiento"
   ]
  },
  {
   "cell_type": "code",
   "execution_count": 3,
   "id": "03716d34",
   "metadata": {},
   "outputs": [],
   "source": [
    "from preprocesamiento import metricas\n",
    "from preprocesamiento import prepros_dummies\n",
    "from preprocesamiento import preprocesar_variables_numericas"
   ]
  },
  {
   "cell_type": "markdown",
   "id": "5214dca7",
   "metadata": {},
   "source": [
    "### Busqueda de hiperparametros: Kernel POLY\n",
    "\n",
    "Para la busqueda de hiperparametros decidimos separarlo por los distintos kernels incialmente buscaremos con el kernel polinomial"
   ]
  },
  {
   "cell_type": "code",
   "execution_count": 3,
   "id": "089e2947",
   "metadata": {},
   "outputs": [],
   "source": [
    "df = obtenerDFTraining()\n",
    "(X,y) = preprocesar_data_frame(df)\n",
    "X_prepos = prepros_dummies(X[['ganancia_perdida_declarada_bolsa_argentina','trabajo',\n",
    "                                      'estado_marital','genero',\"anios_estudiados\"]])\n",
    "X_prepos = preprocesar_variables_numericas(X_prepos)\n",
    "\n",
    "x_train, x_test, y_train, y_test = train_test_split(X_prepos, y, test_size=0.25, random_state=RANDOM_STATE)"
   ]
  },
  {
   "cell_type": "markdown",
   "id": "ca14e017",
   "metadata": {},
   "source": [
    "Inicialemte probaremos con el kernel Poly y con un preprocesamiento donde selecionamos las variables mas importante (por lo visto en el parte 1) y aplicamos la funcion tanh a el feature ganancia para reducir su varianza."
   ]
  },
  {
   "cell_type": "code",
   "execution_count": 4,
   "id": "b52222b3",
   "metadata": {},
   "outputs": [
    {
     "name": "stdout",
     "output_type": "stream",
     "text": [
      "Fitting 5 folds for each of 80 candidates, totalling 400 fits\n"
     ]
    },
    {
     "name": "stderr",
     "output_type": "stream",
     "text": [
      "[Parallel(n_jobs=-1)]: Using backend LokyBackend with 4 concurrent workers.\n",
      "[Parallel(n_jobs=-1)]: Done  17 tasks      | elapsed:    1.2s\n",
      "[Parallel(n_jobs=-1)]: Done 206 tasks      | elapsed: 49.5min\n",
      "[Parallel(n_jobs=-1)]: Done 329 tasks      | elapsed: 140.7min\n",
      "[Parallel(n_jobs=-1)]: Done 400 out of 400 | elapsed: 240.2min finished\n"
     ]
    },
    {
     "name": "stdout",
     "output_type": "stream",
     "text": [
      "              precision    recall  f1-score   support\n",
      "\n",
      "           0       0.88      0.89      0.88      6196\n",
      "           1       0.63      0.61      0.62      1936\n",
      "\n",
      "    accuracy                           0.82      8132\n",
      "   macro avg       0.76      0.75      0.75      8132\n",
      "weighted avg       0.82      0.82      0.82      8132\n",
      "\n"
     ]
    },
    {
     "data": {
      "text/plain": [
       "{'C': 200,\n",
       " 'class_weight': {0: 1, 1: 1.25},\n",
       " 'degree': 2,\n",
       " 'kernel': 'poly',\n",
       " 'random_state': 1971915}"
      ]
     },
     "execution_count": 4,
     "metadata": {},
     "output_type": "execute_result"
    }
   ],
   "source": [
    "parametros_poly = {'kernel' : ['poly'],'C':range(0,250,50),'degree':range(2,6),\n",
    "                   'class_weight' :  [{0: 1,1: 1},{0: 1,1: 1.25},{0: 1,1: 1.5},{0: 1,1: 2}],\n",
    "                   'random_state':[RANDOM_STATE]}\n",
    "\n",
    "svc = svm.SVC()\n",
    "clf_kernel_poly = GridSearchCV(svc, parametros_poly,n_jobs =-1,verbose = 4, scoring = 'roc_auc')\n",
    "\n",
    "clf_kernel_poly.fit(x_train, y_train)\n",
    "\n",
    "print(classification_report(y_test,clf_kernel_poly.predict(x_test)))\n",
    "clf_kernel_poly.best_params_"
   ]
  },
  {
   "cell_type": "markdown",
   "id": "53ea8871",
   "metadata": {},
   "source": [
    "Probamos el mejor modelo por separado y corremos las metricas."
   ]
  },
  {
   "cell_type": "code",
   "execution_count": 4,
   "id": "398b78ea",
   "metadata": {},
   "outputs": [
    {
     "data": {
      "image/png": "[encoded data removed]",
      "text/plain": [
       "<Figure size 432x288 with 2 Axes>"
      ]
     },
     "metadata": {
      "needs_background": "light"
     },
     "output_type": "display_data"
    },
    {
     "name": "stdout",
     "output_type": "stream",
     "text": [
      "Recall: 0.61\n",
      "Precision: 0.63\n",
      "Acc: 0.82\n",
      "Roc: 0.88\n"
     ]
    }
   ],
   "source": [
    "df = obtenerDFTraining()\n",
    "(X,y) = preprocesar_data_frame(df)\n",
    "X_prepos = prepros_dummies(X[['ganancia_perdida_declarada_bolsa_argentina','trabajo',\n",
    "                              'estado_marital','genero',\"anios_estudiados\"]])\n",
    "X_prepos = preprocesar_variables_numericas(X_prepos)\n",
    "\n",
    "x_train, x_test, y_train, y_test = train_test_split(X_prepos, y, test_size=0.25, random_state=RANDOM_STATE)\n",
    "\n",
    "svm_poly = svm.SVC(C = 200,class_weight= {0: 1, 1: 1.25},degree = 2,kernel= 'poly',probability=True,random_state =RANDOM_STATE)\n",
    "\n",
    "svm_poly.fit(x_train, y_train)\n",
    "\n",
    "metricas(y_test,svm_poly.predict(x_test),x_test,svm_poly)"
   ]
  },
  {
   "cell_type": "markdown",
   "id": "d4682c80",
   "metadata": {},
   "source": [
    "### Busqueda de hiperparametros: Kernel RBF\n",
    "\n",
    "Ahora probaremos con otro kernel. En este caso utilizaremos el Kernel radial, ademas de utilizar un preprocesamiento disntinto utilizando PCA"
   ]
  },
  {
   "cell_type": "code",
   "execution_count": 6,
   "id": "7767beb8",
   "metadata": {},
   "outputs": [],
   "source": [
    "from preprocesamiento import preprocesar_df_min_max_scaler\n",
    "from preprocesamiento import preprocesar_df_pca\n",
    "\n",
    "df = obtenerDFTraining()\n",
    "X, y = preprocesar_data_frame(df)\n",
    "X = preprocesar_df_min_max_scaler(X[['ganancia_perdida_declarada_bolsa_argentina','trabajo',\n",
    "                                      'estado_marital','genero',\"anios_estudiados\"]])\n",
    "X = preprocesar_df_pca(X,18)\n",
    "x_train, x_test, y_train, y_test = train_test_split(X, y, test_size=0.25, random_state=RANDOM_STATE)"
   ]
  },
  {
   "cell_type": "code",
   "execution_count": 7,
   "id": "a5bb4bef",
   "metadata": {},
   "outputs": [
    {
     "name": "stdout",
     "output_type": "stream",
     "text": [
      "Fitting 5 folds for each of 72 candidates, totalling 360 fits\n"
     ]
    },
    {
     "name": "stderr",
     "output_type": "stream",
     "text": [
      "[Parallel(n_jobs=-1)]: Using backend LokyBackend with 4 concurrent workers.\n",
      "[Parallel(n_jobs=-1)]: Done  17 tasks      | elapsed:  3.7min\n",
      "[Parallel(n_jobs=-1)]: Done  90 tasks      | elapsed: 21.1min\n",
      "[Parallel(n_jobs=-1)]: Done 213 tasks      | elapsed: 67.9min\n",
      "[Parallel(n_jobs=-1)]: Done 360 out of 360 | elapsed: 125.8min finished\n"
     ]
    },
    {
     "name": "stdout",
     "output_type": "stream",
     "text": [
      "              precision    recall  f1-score   support\n",
      "\n",
      "           0       0.89      0.84      0.87      6196\n",
      "           1       0.57      0.68      0.62      1936\n",
      "\n",
      "    accuracy                           0.80      8132\n",
      "   macro avg       0.73      0.76      0.74      8132\n",
      "weighted avg       0.82      0.80      0.81      8132\n",
      "\n"
     ]
    },
    {
     "data": {
      "text/plain": [
       "{'C': 500,\n",
       " 'class_weight': {0: 1, 1: 2},\n",
       " 'gamma': 'auto',\n",
       " 'kernel': 'rbf',\n",
       " 'random_state': 1971915}"
      ]
     },
     "execution_count": 7,
     "metadata": {},
     "output_type": "execute_result"
    }
   ],
   "source": [
    "parametros_rbf = {'kernel' : ['rbf'],'C':range(100,501,50),\n",
    "                  'class_weight' :  [{0: 1,1: 1},{0: 1,1: 1.25},{0: 1,1: 1.5},{0: 1,1: 2}],\n",
    "                  'gamma' :['scale','auto'], 'random_state':[RANDOM_STATE]}\n",
    "\n",
    "svc = svm.SVC()\n",
    "clf_kernel_rbf = GridSearchCV(svc, parametros_rbf,n_jobs =-1,verbose = 4,scoring = 'roc_auc')\n",
    "\n",
    "clf_kernel_rbf.fit(x_train, y_train)\n",
    "\n",
    "print(classification_report(y_test,clf_kernel_rbf.predict(x_test)))\n",
    "clf_kernel_rbf.best_params_"
   ]
  },
  {
   "cell_type": "code",
   "execution_count": 10,
   "id": "7ca25569",
   "metadata": {},
   "outputs": [
    {
     "data": {
      "image/png": "[encoded data removed]",
      "text/plain": [
       "<Figure size 432x288 with 2 Axes>"
      ]
     },
     "metadata": {
      "needs_background": "light"
     },
     "output_type": "display_data"
    },
    {
     "name": "stdout",
     "output_type": "stream",
     "text": [
      "Recall: 0.68\n",
      "Precision: 0.57\n",
      "Acc: 0.8\n",
      "Roc: 0.85\n"
     ]
    }
   ],
   "source": [
    "df = obtenerDFTraining()\n",
    "X, y = preprocesar_data_frame(df)\n",
    "X = preprocesar_df_min_max_scaler(X[['ganancia_perdida_declarada_bolsa_argentina','trabajo',\n",
    "                                      'estado_marital','genero',\"anios_estudiados\"]])\n",
    "X = preprocesar_df_pca(X,18)\n",
    "x_train, x_test, y_train, y_test = train_test_split(X, y, test_size=0.25, random_state=RANDOM_STATE)\n",
    "\n",
    "\n",
    "svm = SVC(kernel='rbf', C=500,gamma = 'auto',probability=True,class_weight= {0: 1, 1: 2}, random_state=1971915)\n",
    "\n",
    "svm.fit(x_train, y_train)\n",
    "\n",
    "metricas(y_test,svm.predict(x_test),x_test,svm)"
   ]
  },
  {
   "cell_type": "markdown",
   "id": "45b3b668",
   "metadata": {},
   "source": [
    "Luego de todo este analisis decidimos quedarnos con el primero ya que en general tiene mejores metricas\n",
    "\n",
    "Preprocesamiento:\n",
    "\n",
    "+ Seleccion de variables \n",
    "+ One hot encoding\n",
    "+ tanh para gananciaen bolsa\n",
    "\n",
    "\n",
    "Hiperparametros:\n",
    "\n",
    "+ C --> 200\n",
    "+ class_weight --> {0: 1, 1: 1.25}\n",
    "+ degree--> 2\n",
    "+ kernel --> 'poly'"
   ]
  },
  {
   "cell_type": "markdown",
   "id": "a5ec0529",
   "metadata": {},
   "source": [
    "### Prediccion sobre el Holdout"
   ]
  },
  {
   "cell_type": "code",
   "execution_count": 6,
   "id": "026c97b8",
   "metadata": {},
   "outputs": [],
   "source": [
    "from preprocesamiento import escribir_predicciones_a_archivo\n",
    "\n",
    "holdout = obtenerDFHoldout()\n",
    "\n",
    "ids = np.array(holdout['id'])\n",
    "\n",
    "holdout = prepros_dummies(holdout[['ganancia_perdida_declarada_bolsa_argentina','trabajo',\n",
    "                                      'estado_marital','genero',\"anios_estudiados\"]])\n",
    "holdout = preprocesar_variables_numericas(holdout)\n",
    "\n",
    "predicciones_holdout = svm_poly.predict(holdout)\n",
    "escribir_predicciones_a_archivo(predicciones_holdout,\"SVM\",ids)"
   ]
  }
 ],
 "metadata": {
  "kernelspec": {
   "display_name": "Python 3",
   "language": "python",
   "name": "python3"
  },
  "language_info": {
   "codemirror_mode": {
    "name": "ipython",
    "version": 3
   },
   "file_extension": ".py",
   "mimetype": "text/x-python",
   "name": "python",
   "nbconvert_exporter": "python",
   "pygments_lexer": "ipython3",
   "version": "3.8.10"
  }
 },
 "nbformat": 4,
 "nbformat_minor": 5
}
