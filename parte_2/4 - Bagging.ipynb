{
 "cells": [
  {
   "cell_type": "markdown",
   "id": "a9dd2509",
   "metadata": {},
   "source": [
    "# Trabajo Practico: Bagging\n",
    "\n",
    "Bagging es un ensamble que se basa en dividir un datset en varios subset's y luego construir un unico modelo predictivo a partir  de los anteriores, con votaciones. De esta forma disminuimos la varianza en nuestro modelo final y el overfitting."
   ]
  },
  {
   "cell_type": "code",
   "execution_count": 5,
   "id": "9a2e79b7",
   "metadata": {},
   "outputs": [],
   "source": [
    "import pandas as pd\n",
    "import numpy as np\n",
    "import seaborn as sns\n",
    "import matplotlib.pyplot as plt\n",
    "\n",
    "from sklearn import tree\n",
    "from sklearn.ensemble import BaggingClassifier\n",
    "from sklearn.neighbors import KNeighborsClassifier\n",
    "\n",
    "from sklearn.model_selection import GridSearchCV\n",
    "from sklearn.model_selection import train_test_split\n",
    "from sklearn.decomposition import PCA\n",
    "from sklearn.preprocessing import MinMaxScaler\n",
    "\n",
    "from preprocesamiento import feature_engineering\n",
    "from preprocesamiento import obtenerDFTraining\n",
    "from preprocesamiento import preprocesar_data_frame\n",
    "\n",
    "from sklearn.metrics import accuracy_score\n",
    "from sklearn.metrics import roc_auc_score\n",
    "from sklearn.metrics import recall_score\n",
    "from sklearn.metrics import precision_score\n",
    "from sklearn.metrics import confusion_matrix\n",
    "from sklearn.metrics import classification_report\n",
    "RANDOM_STATE = 19 * 103785"
   ]
  },
  {
   "cell_type": "code",
   "execution_count": 6,
   "id": "5db9b328",
   "metadata": {},
   "outputs": [],
   "source": [
    "from preprocesamiento import metricas\n",
    "from preprocesamiento import preprocesar_df_pca\n",
    "from preprocesamiento import preprocesar_normalize_scaler\n",
    "from sklearn.preprocessing import Normalizer"
   ]
  },
  {
   "cell_type": "code",
   "execution_count": 42,
   "id": "6870894f",
   "metadata": {},
   "outputs": [],
   "source": [
    "df = obtenerDFTraining()\n",
    "X, y = preprocesar_data_frame(df)\n",
    "X = preprocesar_normalize_scaler(X)\n",
    "X = preprocesar_df_pca(X, 30)\n",
    "\n",
    "x_train, x_test, y_train, y_test = train_test_split(X, y, test_size=0.25, random_state=RANDOM_STATE)"
   ]
  },
  {
   "cell_type": "markdown",
   "id": "47fed3ef",
   "metadata": {},
   "source": [
    "Para este modelo decidimos utilizar PCA y normalize scaler para el preprocesamiento y arboles profundos como estimador."
   ]
  },
  {
   "cell_type": "code",
   "execution_count": 43,
   "id": "91ba9ac9",
   "metadata": {},
   "outputs": [
    {
     "name": "stdout",
     "output_type": "stream",
     "text": [
      "              precision    recall  f1-score   support\n",
      "\n",
      "           0       0.88      0.93      0.90      6196\n",
      "           1       0.72      0.58      0.64      1936\n",
      "\n",
      "    accuracy                           0.85      8132\n",
      "   macro avg       0.80      0.75      0.77      8132\n",
      "weighted avg       0.84      0.85      0.84      8132\n",
      "\n"
     ]
    },
    {
     "data": {
      "image/png": "[encoded data removed]",
      "text/plain": [
       "<Figure size 432x288 with 2 Axes>"
      ]
     },
     "metadata": {
      "needs_background": "light"
     },
     "output_type": "display_data"
    },
    {
     "name": "stdout",
     "output_type": "stream",
     "text": [
      "Recall: 0.58\n",
      "Precision: 0.72\n",
      "Acc: 0.85\n",
      "Roc: 0.9\n"
     ]
    }
   ],
   "source": [
    "clf = BaggingClassifier(base_estimator=tree.DecisionTreeClassifier(criterion='entropy', max_depth = 12),\n",
    "                        n_estimators=100, verbose=0, n_jobs=-1,random_state=RANDOM_STATE) \n",
    "\n",
    "clf.fit(x_train,y_train)\n",
    "print(classification_report(y_test,clf.predict(x_test)))\n",
    "metricas(y_test,clf.predict(x_test),x_test,clf)"
   ]
  },
  {
   "cell_type": "code",
   "execution_count": null,
   "id": "ebfcccd4",
   "metadata": {},
   "outputs": [],
   "source": [
    "holdout = obtenerDFHoldout()\n",
    "\n",
    "ids = np.array(holdout['id'])\n",
    "holdout = preprocesar_normalize_scaler(holdout)\n",
    "holdout = preprocesar_df_pca(holdout,30)\n",
    "\n",
    "predicciones_holdout = svm_poly.predict(holdout)\n",
    "escribir_predicciones_a_archivo(predicciones_holdout,\"Bagging\",ids)"
   ]
  }
 ],
 "metadata": {
  "kernelspec": {
   "display_name": "Python 3",
   "language": "python",
   "name": "python3"
  },
  "language_info": {
   "codemirror_mode": {
    "name": "ipython",
    "version": 3
   },
   "file_extension": ".py",
   "mimetype": "text/x-python",
   "name": "python",
   "nbconvert_exporter": "python",
   "pygments_lexer": "ipython3",
   "version": "3.8.10"
  }
 },
 "nbformat": 4,
 "nbformat_minor": 5
}
