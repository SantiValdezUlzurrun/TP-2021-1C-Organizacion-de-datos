{
 "cells": [
  {
   "cell_type": "markdown",
   "id": "4a0d8fec",
   "metadata": {},
   "source": [
    "## Metricas Baseline TP parte 1"
   ]
  },
  {
   "cell_type": "code",
   "execution_count": 8,
   "id": "52d93780",
   "metadata": {},
   "outputs": [],
   "source": [
    "import pandas as pd\n",
    "import numpy as np\n",
    "import seaborn as sns\n",
    "\n",
    "from sklearn.metrics import classification_report"
   ]
  },
  {
   "cell_type": "code",
   "execution_count": 29,
   "id": "fe7fc2fb",
   "metadata": {},
   "outputs": [],
   "source": [
    "GSPREADHSEET_DOWNLOAD_URL = (\"https://docs.google.com/spreadsheets/d/{gid}/export?format=csv&id={gid}\".format)\n",
    "DF_TRAIN_GID = '1-DWTP8uwVS-dZY402-dm0F9ICw_6PNqDGLmH0u8Eqa0'\n",
    "def obtenerDF(GID):\n",
    "    return pd.read_csv(GSPREADHSEET_DOWNLOAD_URL(gid=GID), skiprows=0)\n",
    "\n",
    "def obtenerDFTraining():\n",
    "    return obtenerDF(DF_TRAIN_GID)\n",
    "\n",
    "\n",
    "def tiene_n_missings(x, n):\n",
    "    acum = 0\n",
    "    for i in range(len(x)):\n",
    "        if x[i]:\n",
    "            acum += 1\n",
    "    return n <= acum\n",
    "\n",
    "\n",
    "def feature_engineering(df):\n",
    "    lista_de_missings = [tiene_n_missings(x, 3) for x in df.isna().to_numpy()]\n",
    "    df_3_missings = df.reset_index()[lista_de_missings].set_index('index')\n",
    "    df.drop(df_3_missings.index, inplace = True)\n",
    "    df = df.replace({'trabajo': np.nan, 'categoria_de_trabajo': np.nan},'No contesto')\n",
    "    df = df.replace({'barrio': np.nan},'Palermo')\n",
    "    mapa = {'Palermo' : 'C14','Belgrano' : 'C13','San Isidro' : 'S.I','Villa Urquiza' : 'C12','Recoleta' : 'C2','La Boca' : 'C4','Agronomia' : 'C15','Almagro' : 'C5','Balvanera' : 'C3','Puerto Madero' : 'C1','Caballito' : 'C6','Boedo' : 'C5','Barracas' : 'C4','Chacarita' : 'C15','Coghland' : 'C12','Floresta' : 'C10','Constitucion' : 'C1','Colegiales' : 'C13','Flores' : 'C7','Liniers' : 'C9','Monte Castro' : 'C10','Mataderos' : 'C9','Nueva Pompeya' : 'C4','Monserrat' : 'C1','nuñez' : 'C13','Parque Chacabuco' : 'C7','Parque Avellaneda' : 'C9','Villa Luro' : 'C10','Parque Chas' : 'C15','La Paternal' : 'C15','Retiro' : 'C1','Villa Devoto' : 'C11','Villa Soldati' : 'C8','San Telmo' : 'C1','Villa Real' : 'C10','Santa Rita' : 'C11','Villa General Mitre' : 'C11','Versalles' : 'C10','Velez Sarsfield' : 'C10','Villa Pueyrredon' : 'C12','Cilla Riachuelo' : 'C8'}\n",
    "    df['comuna'] = df['barrio'].apply(lambda x: mapa.get(x))\n",
    "    df_gente_sin_trabajo_con_horas_registradas = df[(df['categoria_de_trabajo'] == 'sin_trabajo') & (df['horas_trabajo_registradas'] > 0)]\n",
    "    df.drop(df_gente_sin_trabajo_con_horas_registradas.index, inplace = True)\n",
    "    df['rol_familiar_registrado'] = df['rol_familiar_registrado'].apply(lambda x: 'casado' if x == 'casada' else x)\n",
    "    df['estado_marital'] = df['estado_marital'].apply(lambda x: 'matrimonio' if x == 'matrimonio_civil' or x == 'matrimonio_militar' else x)\n",
    "    df = df.drop(['educacion_alcanzada'],axis=1)\n",
    "    return df\n",
    "\n",
    "def preprocesar_data_frame(df : pd.DataFrame):\n",
    "    df = feature_engineering(df)\n",
    "    y = df['tiene_alto_valor_adquisitivo']\n",
    "    X = df.drop(columns=['tiene_alto_valor_adquisitivo'])\n",
    "    return (X, y)\n",
    "\n",
    "def baseline(X: pd.DataFrame):\n",
    "    df = X.reset_index()\n",
    "    # Inicializamos el vector de prediccion inicialmente con 0 y\n",
    "    #vamos agregando las condiciones que creemos fundamentales\n",
    "    pred = pd.Series(np.zeros(len(df)))\n",
    "    \n",
    "    #Primera condicion importante de nuestro baseline\n",
    "    sos_casado = df['estado_marital'] == 'matrimonio'\n",
    "    \n",
    "    # Segunda condicion, anexada al Si de la condicion anterior\n",
    "    trabajas_en_puestos_importantes = (df['trabajo'] == 'directivo_gerente') | (df['trabajo'] == 'profesional_especializado') | (df['trabajo'] == 'ventas')\n",
    "    \n",
    "    # Tercera condicion que nos permite recuperar gente de la rama del no anterior\n",
    "    estudiaste_15_o_mas_anios = df['anios_estudiados'] >= 14.5\n",
    "    \n",
    "    # Armando las ramas\n",
    "    sos_casado_y_ocupas_un_puesto_importante = sos_casado & trabajas_en_puestos_importantes\n",
    "    sos_casado_y_no_ocupas_un_puesto_importante_y_si_estudiaste__mas_14_anios = sos_casado & (~trabajas_en_puestos_importantes) & estudiaste_15_o_mas_anios\n",
    "    \n",
    "    #Finalemente seteando en el vector de prediccion las condiciones \n",
    "    # que cosnideramos que cumple una persona con alto poder adquisitivo\n",
    "    pred[sos_casado_y_ocupas_un_puesto_importante | sos_casado_y_no_ocupas_un_puesto_importante_y_si_estudiaste__mas_14_anios] = 1\n",
    "    return pred.tolist()"
   ]
  },
  {
   "cell_type": "code",
   "execution_count": 30,
   "id": "55fe48d5",
   "metadata": {},
   "outputs": [],
   "source": [
    "df = obtenerDFTraining()\n",
    "X,y = preprocesar_data_frame(df)"
   ]
  },
  {
   "cell_type": "code",
   "execution_count": 31,
   "id": "7846aac2",
   "metadata": {},
   "outputs": [
    {
     "name": "stdout",
     "output_type": "stream",
     "text": [
      "              precision    recall  f1-score   support\n",
      "\n",
      "           0       0.88      0.87      0.88     24690\n",
      "           1       0.61      0.62      0.61      7837\n",
      "\n",
      "    accuracy                           0.81     32527\n",
      "   macro avg       0.74      0.75      0.74     32527\n",
      "weighted avg       0.81      0.81      0.81     32527\n",
      "\n"
     ]
    }
   ],
   "source": [
    "print(classification_report(y,baseline(X)))"
   ]
  }
 ],
 "metadata": {
  "kernelspec": {
   "display_name": "Python 3",
   "language": "python",
   "name": "python3"
  },
  "language_info": {
   "codemirror_mode": {
    "name": "ipython",
    "version": 3
   },
   "file_extension": ".py",
   "mimetype": "text/x-python",
   "name": "python",
   "nbconvert_exporter": "python",
   "pygments_lexer": "ipython3",
   "version": "3.8.10"
  }
 },
 "nbformat": 4,
 "nbformat_minor": 5
}
