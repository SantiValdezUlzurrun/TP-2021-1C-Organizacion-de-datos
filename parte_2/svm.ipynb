{
 "cells": [
  {
   "cell_type": "markdown",
   "id": "2ba5b07c",
   "metadata": {},
   "source": [
    "# SVM"
   ]
  },
  {
   "cell_type": "code",
   "execution_count": 1,
   "id": "ee58f5ab",
   "metadata": {},
   "outputs": [],
   "source": [
    "import pandas as pd\n",
    "import numpy as np\n",
    "import matplotlib.pyplot as plt\n",
    "import seaborn as sns\n",
    "\n",
    "from sklearn.model_selection import train_test_split\n",
    "from sklearn.model_selection import GridSearchCV\n",
    "\n",
    "from sklearn.decomposition import PCA\n",
    "from sklearn.preprocessing import MinMaxScaler\n",
    "\n",
    "from sklearn.svm import SVC\n",
    "from sklearn import svm\n",
    "\n",
    "from preprocesamiento import feature_engineering\n",
    "from preprocesamiento import obtenerDFHoldout, obtenerDFTraining\n",
    "from preprocesamiento import preprocesar_data_frame\n",
    "\n",
    "from sklearn.metrics import roc_auc_score\n",
    "from sklearn.metrics import recall_score\n",
    "from sklearn.metrics import precision_score\n",
    "from sklearn.metrics import accuracy_score\n",
    "from sklearn.metrics import confusion_matrix\n",
    "from sklearn.metrics import classification_report\n",
    "\n",
    "RANDOM_STATE = 19 * 103785"
   ]
  },
  {
   "cell_type": "markdown",
   "id": "9ce8e235",
   "metadata": {},
   "source": [
    "## Funciones de Preprocesamiento"
   ]
  },
  {
   "cell_type": "code",
   "execution_count": 2,
   "id": "956b1966",
   "metadata": {},
   "outputs": [],
   "source": [
    "def preprocesar_df_min_max_scaler(X : pd.DataFrame):\n",
    "    X = pd.get_dummies(X)\n",
    "    scaler = MinMaxScaler()\n",
    "    scaler.fit(X)\n",
    "    return scaler.transform(X)\n",
    "\n",
    "def preprocesar_df_pca(df , dim):\n",
    "    #df = feature_engineering(df)\n",
    "    (X, Y) = preprocesar_data_frame(df)\n",
    "    X = preprocesar_df_min_max_scaler(X)\n",
    "    x_train, x_test, y_train, y_test = train_test_split(X, Y, test_size=0.25, random_state=RANDOM_STATE)\n",
    "    \n",
    "    pca = PCA(dim)\n",
    "    x_train_pca = pd.DataFrame(pca.fit_transform(x_train))\n",
    "    x_test_pca = pca.transform(x_test)\n",
    "    \n",
    "    return (x_train_pca,x_test_pca,y_train,y_test)\n"
   ]
  },
  {
   "cell_type": "code",
   "execution_count": 3,
   "id": "64a50dce",
   "metadata": {},
   "outputs": [],
   "source": [
    "df = obtenerDFTraining()\n",
    "feature_engineering(df)\n",
    "(X, Y) = preprocesar_data_frame(df)\n",
    "\n",
    "#Prepos\n",
    "X = pd.get_dummies(X[['estado_marital','genero','edad','anios_estudiados',\n",
    "                       'ganancia_perdida_declarada_bolsa_argentina']])\n",
    "\n",
    "X['ganancia_perdida_declarada_bolsa_argentina'] = X['ganancia_perdida_declarada_bolsa_argentina'].apply(lambda x: np.tanh(x) )\n",
    "X = X.drop(['genero_mujer'],axis = 1)\n",
    "X = X.drop(['estado_marital_divorciado'],axis = 1)\n",
    "#Prepros\n",
    "x_train, x_test, y_train, y_test = train_test_split(X, Y, test_size=0.25, random_state=RANDOM_STATE)"
   ]
  },
  {
   "cell_type": "markdown",
   "id": "64ebbcb5",
   "metadata": {},
   "source": [
    "## Kernel POLY"
   ]
  },
  {
   "cell_type": "code",
   "execution_count": 4,
   "id": "9ed24b6d",
   "metadata": {},
   "outputs": [
    {
     "name": "stdout",
     "output_type": "stream",
     "text": [
      "Fitting 2 folds for each of 189 candidates, totalling 378 fits\n"
     ]
    },
    {
     "name": "stderr",
     "output_type": "stream",
     "text": [
      "[Parallel(n_jobs=-1)]: Using backend LokyBackend with 4 concurrent workers.\n",
      "[Parallel(n_jobs=-1)]: Done  17 tasks      | elapsed:  2.8min\n",
      "[Parallel(n_jobs=-1)]: Done  90 tasks      | elapsed: 14.6min\n",
      "[Parallel(n_jobs=-1)]: Done 213 tasks      | elapsed: 36.6min\n",
      "[Parallel(n_jobs=-1)]: Done 378 out of 378 | elapsed: 71.1min finished\n"
     ]
    },
    {
     "name": "stdout",
     "output_type": "stream",
     "text": [
      "              precision    recall  f1-score   support\n",
      "\n",
      "           0       0.87      0.91      0.89      6196\n",
      "           1       0.66      0.57      0.61      1936\n",
      "\n",
      "    accuracy                           0.83      8132\n",
      "   macro avg       0.77      0.74      0.75      8132\n",
      "weighted avg       0.82      0.83      0.82      8132\n",
      "\n"
     ]
    },
    {
     "data": {
      "text/plain": [
       "{'C': 140, 'degree': 3, 'kernel': 'poly', 'random_state': 1971915}"
      ]
     },
     "execution_count": 4,
     "metadata": {},
     "output_type": "execute_result"
    }
   ],
   "source": [
    "parametros_poly = {'kernel' : ['poly'],'C':range(100,501,20),'degree':range(2,11), 'random_state':[RANDOM_STATE]}\n",
    "\n",
    "svc = svm.SVC()\n",
    "clf_kernel_poly = GridSearchCV(svc, parametros_poly,n_jobs =-1,verbose = 4, cv = 2,scoring = 'f1')\n",
    "\n",
    "df = obtenerDFTraining()\n",
    "x_train, x_test, y_train, y_test  = preprocesar_df_pca(df,48)\n",
    "\n",
    "clf_kernel_poly.fit(x_train, y_train)\n",
    "\n",
    "print(classification_report(y_test,clf_kernel_poly.predict(x_test)))\n",
    "clf_kernel_poly.best_params_"
   ]
  },
  {
   "cell_type": "markdown",
   "id": "2d034853",
   "metadata": {},
   "source": [
    "## Kernel RBF"
   ]
  },
  {
   "cell_type": "code",
   "execution_count": 5,
   "id": "f8069145",
   "metadata": {},
   "outputs": [
    {
     "name": "stdout",
     "output_type": "stream",
     "text": [
      "Fitting 2 folds for each of 82 candidates, totalling 164 fits\n"
     ]
    },
    {
     "name": "stderr",
     "output_type": "stream",
     "text": [
      "[Parallel(n_jobs=-1)]: Using backend LokyBackend with 4 concurrent workers.\n",
      "[Parallel(n_jobs=-1)]: Done  17 tasks      | elapsed:  2.4min\n",
      "[Parallel(n_jobs=-1)]: Done  90 tasks      | elapsed: 11.7min\n",
      "[Parallel(n_jobs=-1)]: Done 164 out of 164 | elapsed: 21.9min finished\n"
     ]
    },
    {
     "name": "stdout",
     "output_type": "stream",
     "text": [
      "              precision    recall  f1-score   support\n",
      "\n",
      "           0       0.87      0.92      0.90      6196\n",
      "           1       0.70      0.55      0.62      1936\n",
      "\n",
      "    accuracy                           0.84      8132\n",
      "   macro avg       0.78      0.74      0.76      8132\n",
      "weighted avg       0.83      0.84      0.83      8132\n",
      "\n"
     ]
    },
    {
     "data": {
      "text/plain": [
       "{'C': 350, 'gamma': 'auto', 'kernel': 'rbf', 'random_state': 1971915}"
      ]
     },
     "execution_count": 5,
     "metadata": {},
     "output_type": "execute_result"
    }
   ],
   "source": [
    "parametros_rbf = {'kernel' : ['rbf'],'C':range(100,501,10), 'gamma' :['scale','auto'], 'random_state':[RANDOM_STATE]}\n",
    "\n",
    "svc = svm.SVC()\n",
    "clf_kernel_rbf = GridSearchCV(svc, parametros_rbf,n_jobs =-1,verbose = 4, cv = 2,scoring = 'f1')\n",
    "\n",
    "df = obtenerDFTraining()\n",
    "x_train, x_test, y_train, y_test  = preprocesar_df_pca(df,48)\n",
    "\n",
    "clf_kernel_rbf.fit(x_train, y_train)\n",
    "\n",
    "print(classification_report(y_test,clf_kernel_rbf.predict(x_test)))\n",
    "clf_kernel_rbf.best_params_"
   ]
  },
  {
   "cell_type": "code",
   "execution_count": 6,
   "id": "2b2c984b",
   "metadata": {},
   "outputs": [
    {
     "name": "stdout",
     "output_type": "stream",
     "text": [
      "              precision    recall  f1-score   support\n",
      "\n",
      "           0       0.87      0.93      0.90      6196\n",
      "           1       0.70      0.56      0.62      1936\n",
      "\n",
      "    accuracy                           0.84      8132\n",
      "   macro avg       0.78      0.74      0.76      8132\n",
      "weighted avg       0.83      0.84      0.83      8132\n",
      "\n"
     ]
    }
   ],
   "source": [
    "df = obtenerDFTraining()\n",
    "x_train, x_test, y_train, y_test  = preprocesar_df_pca(df,48)\n",
    "\n",
    "\n",
    "a = SVC(kernel='rbf', C=270,gamma = 'auto', random_state=1971915)\n",
    "\n",
    "a.fit(x_train,y_train)\n",
    "print(classification_report(y_test,a.predict(x_test)))"
   ]
  }
 ],
 "metadata": {
  "kernelspec": {
   "display_name": "Python 3",
   "language": "python",
   "name": "python3"
  },
  "language_info": {
   "codemirror_mode": {
    "name": "ipython",
    "version": 3
   },
   "file_extension": ".py",
   "mimetype": "text/x-python",
   "name": "python",
   "nbconvert_exporter": "python",
   "pygments_lexer": "ipython3",
   "version": "3.8.5"
  }
 },
 "nbformat": 4,
 "nbformat_minor": 5
}
