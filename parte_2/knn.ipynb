{
 "cells": [
  {
   "cell_type": "markdown",
   "id": "d0996069",
   "metadata": {},
   "source": [
    "# KNN"
   ]
  },
  {
   "cell_type": "code",
   "execution_count": 1,
   "id": "dfa1e965",
   "metadata": {},
   "outputs": [],
   "source": [
    "from sklearn.datasets import load_iris\n",
    "from sklearn.model_selection import train_test_split\n",
    "from sklearn import preprocessing\n",
    "import pandas as pd\n",
    "import numpy as np\n",
    "import seaborn as sns\n",
    "import matplotlib.pyplot as plt\n",
    "\n",
    "RANDOM_STATE = 19 * 103785"
   ]
  },
  {
   "cell_type": "code",
   "execution_count": 13,
   "id": "1e6d7d93",
   "metadata": {},
   "outputs": [],
   "source": [
    "from preprocesamiento import feature_engineering\n",
    "from preprocesamiento import obtenerDFHoldout, obtenerDFTraining\n",
    "from preprocesamiento import preprocesar_data_frame\n",
    "from sklearn.model_selection import KFold\n",
    "from sklearn import svm\n",
    "from sklearn.metrics import roc_auc_score\n",
    "from sklearn.metrics import recall_score\n",
    "from sklearn.metrics import precision_score\n",
    "from sklearn.metrics import accuracy_score\n",
    "from sklearn.metrics import classification_report"
   ]
  },
  {
   "cell_type": "markdown",
   "id": "847bcb77",
   "metadata": {},
   "source": [
    "## Prepocesamiento"
   ]
  },
  {
   "cell_type": "code",
   "execution_count": 3,
   "id": "9967308c",
   "metadata": {},
   "outputs": [],
   "source": [
    "from sklearn.neighbors import KNeighborsClassifier\n",
    "df = obtenerDFTraining()\n",
    "feature_engineering(df)\n",
    "(X, Y) = preprocesar_data_frame(df)\n",
    "\n",
    "\n",
    "X1 = pd.get_dummies(X[['ganancia_perdida_declarada_bolsa_argentina','trabajo',\n",
    "                       'estado_marital','genero',\"anios_estudiados\"]])\n",
    "\n",
    "X1 = X1.drop(['trabajo_No contesto'],axis = 1)\n",
    "X1 = X1.drop(['genero_mujer'],axis = 1)\n",
    "X1 = X1.drop(['estado_marital_divorciado'],axis = 1)\n",
    "\n",
    "x_train, x_test, y_train, y_test = train_test_split(X1, Y, test_size=0.25, random_state=RANDOM_STATE)"
   ]
  },
  {
   "cell_type": "markdown",
   "id": "98190067",
   "metadata": {},
   "source": [
    "## Entrenamiendo sin Kfold"
   ]
  },
  {
   "cell_type": "code",
   "execution_count": 16,
   "id": "1030b66d",
   "metadata": {},
   "outputs": [],
   "source": [
    "def metricas(y_real, y_pred, x_test, knn):\n",
    "\n",
    "    data = {'y_real': y_real,\n",
    "            'y_pred': y_pred}\n",
    "\n",
    "    df_metricas = pd.DataFrame(data, columns=['y_real','y_pred'])\n",
    "    confusion_matrix = pd.crosstab(df_metricas['y_real'], df_metricas['y_pred'], rownames=['Real'], colnames=['Predicho'])\n",
    "    sns.heatmap(confusion_matrix, annot=True)\n",
    "    plt.show()\n",
    "\n",
    "    print(\"Recall: {}\".format(recall_score(y_real, y_pred)))\n",
    "    print(\"Precision: {}\".format(precision_score(y_real, y_pred)))\n",
    "    print(\"Acc: {}\".format(accuracy_score(y_real, y_pred)))\n",
    "    print(\"Roc: {}\".format(roc_auc_score(y_real, knn.predict_proba(x_test)[:, 1])))\n",
    "    "
   ]
  },
  {
   "cell_type": "code",
   "execution_count": 5,
   "id": "f24aa0b6",
   "metadata": {},
   "outputs": [
    {
     "data": {
      "image/png": "[encoded data removed]",
      "text/plain": [
       "<Figure size 432x288 with 2 Axes>"
      ]
     },
     "metadata": {
      "needs_background": "light"
     },
     "output_type": "display_data"
    },
    {
     "name": "stdout",
     "output_type": "stream",
     "text": [
      "Recall: 0.565599173553719\n",
      "Precision: 0.7520604395604396\n",
      "Acc: 0.8521888834235121\n",
      "Roc: 0.9034439374376431\n"
     ]
    }
   ],
   "source": [
    "from sklearn.metrics import roc_auc_score\n",
    "from sklearn.metrics import recall_score\n",
    "from sklearn.metrics import precision_score\n",
    "from sklearn.metrics import accuracy_score\n",
    "\n",
    "knn = KNeighborsClassifier(algorithm = 'brute',n_neighbors=40)\n",
    "knn.fit(x_train, y_train)\n",
    "y_pred = knn.predict(x_test)\n",
    "\n",
    "\n",
    "metricas(y_test,y_pred,x_test)"
   ]
  },
  {
   "cell_type": "markdown",
   "id": "94ef48c0",
   "metadata": {},
   "source": [
    "## Entrenamiendo con Kfold (K=5)"
   ]
  },
  {
   "cell_type": "code",
   "execution_count": 6,
   "id": "b3d7fedc",
   "metadata": {},
   "outputs": [
    {
     "name": "stdout",
     "output_type": "stream",
     "text": [
      "TRAIN: [    0     2     3 ... 32524 32525 32526] TEST: [    1     4    10 ... 32482 32494 32506]\n",
      "TRAIN: [    0     1     3 ... 32523 32525 32526] TEST: [    2    13    15 ... 32517 32519 32524]\n",
      "TRAIN: [    1     2     4 ... 32523 32524 32525] TEST: [    0     3     7 ... 32510 32522 32526]\n",
      "TRAIN: [    0     1     2 ... 32524 32525 32526] TEST: [    5     9    18 ... 32516 32518 32523]\n",
      "TRAIN: [    0     1     2 ... 32523 32524 32526] TEST: [    6     8    26 ... 32520 32521 32525]\n",
      "Recall 0.5908176552687551\n",
      "Precision 0.7658990169272519\n",
      "Acc 0.8579029775152268\n",
      "Roc 0.9063955872717664\n"
     ]
    }
   ],
   "source": [
    "kfold = KFold(n_splits=5, shuffle=True, random_state=RANDOM_STATE)\n",
    "knn = KNeighborsClassifier(algorithm = 'brute',n_neighbors=40)\n",
    "recal = []\n",
    "precision = []\n",
    "acurracy = []\n",
    "roc = []\n",
    "\n",
    "for train_index, test_index in kfold.split(Y.ravel()):\n",
    "     print(\"TRAIN:\", train_index, \"TEST:\", test_index)\n",
    "     X_train, X_test = X1.iloc[train_index], X1.iloc[test_index]\n",
    "     y_train, y_test = Y.iloc[train_index], Y.iloc[test_index]\n",
    "        \n",
    "     knn.fit(X_train, y_train)\n",
    "     y_pred = knn.predict(X_test)\n",
    "     \n",
    "     recal.append(recall_score(y_test, y_pred))\n",
    "     precision.append(precision_score(y_test, y_pred))\n",
    "     acurracy.append(accuracy_score(y_test, y_pred))\n",
    "     roc.append(roc_auc_score(y_test, knn.predict_proba(X_test)[:, 1]))\n",
    "        \n",
    "        \n",
    "print(\"Recall {}\".format(np.mean(recal)))\n",
    "print(\"Precision {}\".format(np.mean(precision)))\n",
    "print(\"Acc {}\".format(np.mean(acurracy)))\n",
    "print(\"Roc {}\".format(np.mean(roc)))"
   ]
  },
  {
   "cell_type": "code",
   "execution_count": 11,
   "id": "83796cc2",
   "metadata": {},
   "outputs": [
    {
     "name": "stdout",
     "output_type": "stream",
     "text": [
      "Fitting 2 folds for each of 380 candidates, totalling 760 fits\n"
     ]
    },
    {
     "name": "stderr",
     "output_type": "stream",
     "text": [
      "[Parallel(n_jobs=-1)]: Using backend LokyBackend with 4 concurrent workers.\n",
      "[Parallel(n_jobs=-1)]: Done  17 tasks      | elapsed:   32.7s\n",
      "[Parallel(n_jobs=-1)]: Done  90 tasks      | elapsed:  4.1min\n",
      "[Parallel(n_jobs=-1)]: Done 213 tasks      | elapsed: 12.1min\n",
      "[Parallel(n_jobs=-1)]: Done 384 tasks      | elapsed: 31.2min\n",
      "[Parallel(n_jobs=-1)]: Done 605 tasks      | elapsed: 47.8min\n",
      "[Parallel(n_jobs=-1)]: Done 760 out of 760 | elapsed: 61.6min finished\n"
     ]
    },
    {
     "ename": "NameError",
     "evalue": "name 'classification_report' is not defined",
     "output_type": "error",
     "traceback": [
      "\u001b[0;31m---------------------------------------------------------------------------\u001b[0m",
      "\u001b[0;31mNameError\u001b[0m                                 Traceback (most recent call last)",
      "\u001b[0;32m<ipython-input-11-c549c10c59bf>\u001b[0m in \u001b[0;36m<module>\u001b[0;34m\u001b[0m\n\u001b[1;32m     34\u001b[0m \u001b[0mclf\u001b[0m\u001b[0;34m.\u001b[0m\u001b[0mfit\u001b[0m\u001b[0;34m(\u001b[0m\u001b[0mx_train\u001b[0m\u001b[0;34m,\u001b[0m \u001b[0my_train\u001b[0m\u001b[0;34m)\u001b[0m\u001b[0;34m\u001b[0m\u001b[0;34m\u001b[0m\u001b[0m\n\u001b[1;32m     35\u001b[0m \u001b[0;34m\u001b[0m\u001b[0m\n\u001b[0;32m---> 36\u001b[0;31m \u001b[0mprint\u001b[0m\u001b[0;34m(\u001b[0m\u001b[0mclassification_report\u001b[0m\u001b[0;34m(\u001b[0m\u001b[0my_test\u001b[0m\u001b[0;34m,\u001b[0m\u001b[0mclf\u001b[0m\u001b[0;34m.\u001b[0m\u001b[0mpredict\u001b[0m\u001b[0;34m(\u001b[0m\u001b[0mx_test\u001b[0m\u001b[0;34m)\u001b[0m\u001b[0;34m)\u001b[0m\u001b[0;34m)\u001b[0m\u001b[0;34m\u001b[0m\u001b[0;34m\u001b[0m\u001b[0m\n\u001b[0m\u001b[1;32m     37\u001b[0m \u001b[0mclf\u001b[0m\u001b[0;34m.\u001b[0m\u001b[0mbest_params_\u001b[0m\u001b[0;34m\u001b[0m\u001b[0;34m\u001b[0m\u001b[0m\n",
      "\u001b[0;31mNameError\u001b[0m: name 'classification_report' is not defined"
     ]
    }
   ],
   "source": [
    "from sklearn.model_selection import GridSearchCV\n",
    "from sklearn.decomposition import PCA\n",
    "from sklearn.preprocessing import MinMaxScaler\n",
    "\n",
    "def preprocesar_df_min_max_scaler(X : pd.DataFrame):\n",
    "    X = pd.get_dummies(X)\n",
    "    scaler = MinMaxScaler()\n",
    "    scaler.fit(X)\n",
    "    return scaler.transform(X)\n",
    "\n",
    "def preprocesar_df_pca(df , dim):\n",
    "    #df = feature_engineering(df)\n",
    "    (X, Y) = preprocesar_data_frame(df)\n",
    "    X = preprocesar_df_min_max_scaler(X)\n",
    "    x_train, x_test, y_train, y_test = train_test_split(X, Y, test_size=0.25, random_state=RANDOM_STATE)\n",
    "    \n",
    "    pca = PCA(dim)\n",
    "    x_train_pca = pd.DataFrame(pca.fit_transform(x_train))\n",
    "    x_test_pca = pca.transform(x_test)\n",
    "    \n",
    "    return (x_train_pca,x_test_pca,y_train,y_test)\n",
    "\n",
    "\n",
    "parametros = {'n_neighbors' : range(5,100),'weights':['distance'],\n",
    "              'algorithm':['auto','ball_tree','kd_tree','brute'],}\n",
    "#'p':[1,2,3]\n",
    "\n",
    "knn = KNeighborsClassifier()\n",
    "clf = GridSearchCV(knn, parametros,n_jobs =-1,verbose = 4, cv = 2,scoring = 'f1')\n",
    "\n",
    "df = obtenerDFTraining()\n",
    "x_train, x_test, y_train, y_test  = preprocesar_df_pca(df,48)\n",
    "\n",
    "clf.fit(x_train, y_train)\n",
    "\n",
    "print(classification_report(y_test,clf.predict(x_test)))\n",
    "clf.best_params_"
   ]
  },
  {
   "cell_type": "code",
   "execution_count": 19,
   "id": "531c771b",
   "metadata": {},
   "outputs": [
    {
     "data": {
      "image/png": "[encoded data removed]",
      "text/plain": [
       "<Figure size 432x288 with 2 Axes>"
      ]
     },
     "metadata": {
      "needs_background": "light"
     },
     "output_type": "display_data"
    },
    {
     "name": "stdout",
     "output_type": "stream",
     "text": [
      "Recall: 0.5485537190082644\n",
      "Precision: 0.6475609756097561\n",
      "Acc: 0.8214461387112642\n",
      "Roc: 0.8526228181738152\n"
     ]
    }
   ],
   "source": [
    "df = obtenerDFTraining()\n",
    "x_train, x_test, y_train, y_test  = preprocesar_df_pca(df,48)\n",
    "\n",
    "knn_best = KNeighborsClassifier(algorithm = 'brute',n_neighbors= 18,weights = 'distance')\n",
    "knn_best.fit(x_train, y_train)\n",
    "y_pred = knn_best.predict(x_test)\n",
    "\n",
    "\n",
    "metricas(y_test,y_pred,x_test, knn_best)"
   ]
  },
  {
   "cell_type": "code",
   "execution_count": null,
   "id": "8d800a5b",
   "metadata": {},
   "outputs": [],
   "source": [
    "\n"
   ]
  },
  {
   "cell_type": "code",
   "execution_count": null,
   "id": "f53a227a",
   "metadata": {},
   "outputs": [],
   "source": []
  }
 ],
 "metadata": {
  "kernelspec": {
   "display_name": "Python 3",
   "language": "python",
   "name": "python3"
  },
  "language_info": {
   "codemirror_mode": {
    "name": "ipython",
    "version": 3
   },
   "file_extension": ".py",
   "mimetype": "text/x-python",
   "name": "python",
   "nbconvert_exporter": "python",
   "pygments_lexer": "ipython3",
   "version": "3.8.10"
  }
 },
 "nbformat": 4,
 "nbformat_minor": 5
}
