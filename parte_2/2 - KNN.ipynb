{
 "cells": [
  {
   "cell_type": "markdown",
   "id": "57fde56f",
   "metadata": {},
   "source": [
    "# Trabajo Práctico 2: KNN\n",
    "\n",
    "La idea de este modelo es dado una nueva instancia devuelve la clase mayoritaria dada una cantidad de vecinos fijo(K). Para buscar los mejores hiperparametro utilizaremos GridSearch con un k-fold de 10.\n",
    "\n",
    "+ n_neighbors: La cantidad de vecinos mas cercanos que debe ser tomados en cuanta para predecir la nueva instancia.\n",
    "\n",
    "+ weights : La importancia que se le debe dar a cada vecino. Si es 'distance' su importancia es la inversa de su disancia a la instancia a predecir y si es 'uniform' todas valen lo mismo.\n",
    "\n",
    "+ algorithm : Utilizado para calcular los vecinos más cercanos\n",
    "\n",
    "+ p : Cuando p = 1, esto equivale a usar manhattan_distance (l1) y euclidean_distance (l2) para p = 2."
   ]
  },
  {
   "cell_type": "code",
   "execution_count": 1,
   "id": "efebf668",
   "metadata": {},
   "outputs": [],
   "source": [
    "from sklearn.model_selection import train_test_split\n",
    "from sklearn import preprocessing\n",
    "import pandas as pd\n",
    "import numpy as np\n",
    "import seaborn as sns\n",
    "import matplotlib.pyplot as plt\n",
    "\n",
    "from preprocesamiento import feature_engineering\n",
    "from preprocesamiento import obtenerDFHoldout, obtenerDFTraining\n",
    "from preprocesamiento import preprocesar_data_frame\n",
    "\n",
    "from sklearn.neighbors import KNeighborsClassifier\n",
    "from sklearn import svm\n",
    "from sklearn.metrics import roc_auc_score\n",
    "from sklearn.metrics import recall_score\n",
    "from sklearn.metrics import precision_score\n",
    "from sklearn.metrics import accuracy_score\n",
    "from sklearn.metrics import classification_report\n",
    "\n",
    "from sklearn.preprocessing import StandardScaler\n",
    "from sklearn.preprocessing import MinMaxScaler\n",
    "\n",
    "from sklearn.model_selection import GridSearchCV\n",
    "from sklearn.decomposition import PCA\n",
    "RANDOM_STATE = 19 * 103785"
   ]
  },
  {
   "cell_type": "code",
   "execution_count": 2,
   "id": "be46cd16",
   "metadata": {},
   "outputs": [],
   "source": [
    "from preprocesamiento import metricas\n",
    "from preprocesamiento import prepros_dummies\n",
    "from preprocesamiento import preprocesar_standar_scaler"
   ]
  },
  {
   "cell_type": "markdown",
   "id": "9cb254cb",
   "metadata": {},
   "source": [
    "Inicialmente preprocesamos el dataset seleccionamos las variables más relevantes y aplicamos a \"ganacia_declarada_en_bolsa\" una estandarización ya que es una variable con mucha varianza."
   ]
  },
  {
   "cell_type": "code",
   "execution_count": 3,
   "id": "683f8773",
   "metadata": {},
   "outputs": [],
   "source": [
    "df = obtenerDFTraining()\n",
    "(X,y) = preprocesar_data_frame(df)\n",
    "X_prepos = prepros_dummies(X[['ganancia_perdida_declarada_bolsa_argentina','trabajo',\n",
    "                              'estado_marital','genero',\"anios_estudiados\",\"edad\"]])\n",
    "X_prepos = preprocesar_standar_scaler(X_prepos)\n",
    "\n",
    "X_train, X_test, y_train, y_test = train_test_split(X_prepos, y, test_size=0.25, random_state=RANDOM_STATE)"
   ]
  },
  {
   "cell_type": "code",
   "execution_count": null,
   "id": "2f60f289",
   "metadata": {},
   "outputs": [
    {
     "name": "stdout",
     "output_type": "stream",
     "text": [
      "Fitting 10 folds for each of 228 candidates, totalling 2280 fits\n"
     ]
    },
    {
     "name": "stderr",
     "output_type": "stream",
     "text": [
      "[Parallel(n_jobs=-1)]: Using backend LokyBackend with 6 concurrent workers.\n",
      "[Parallel(n_jobs=-1)]: Done  13 tasks      | elapsed:   15.9s\n",
      "[Parallel(n_jobs=-1)]: Done  86 tasks      | elapsed:  1.3min\n",
      "[Parallel(n_jobs=-1)]: Done 209 tasks      | elapsed:  3.2min\n",
      "[Parallel(n_jobs=-1)]: Done 380 tasks      | elapsed:  5.8min\n",
      "[Parallel(n_jobs=-1)]: Done 601 tasks      | elapsed:  9.3min\n",
      "[Parallel(n_jobs=-1)]: Done 870 tasks      | elapsed: 13.5min\n",
      "[Parallel(n_jobs=-1)]: Done 1189 tasks      | elapsed: 18.5min\n"
     ]
    }
   ],
   "source": [
    "parametros = {'n_neighbors' : range(5,100,5),'weights':['uniform','distance'],\n",
    "              'algorithm':['auto','kd_tree','brute'],'p':[1,2]}\n",
    "\n",
    "knn = KNeighborsClassifier()\n",
    "clf = GridSearchCV(knn, parametros,n_jobs =-1,verbose = 4, scoring = 'roc_auc', cv= 10)\n",
    "\n",
    "clf.fit(X_train,y_train)\n",
    "print(classification_report(y_test,clf.predict(X_test)))\n",
    "clf.best_params_"
   ]
  },
  {
   "cell_type": "markdown",
   "id": "7cee6c20",
   "metadata": {},
   "source": [
    "Como podemos ver nuestro primer modelo clasifica correctamente la mitad de las personas con poder adquisitivo alto, sin embargo logra separar bastante bien a las personas con bajo poder adquisitivo, clasificando la gran mayoría correctamente."
   ]
  },
  {
   "cell_type": "code",
   "execution_count": null,
   "id": "31490130",
   "metadata": {},
   "outputs": [],
   "source": [
    "knn_todos_los_features = KNeighborsClassifier(algorithm = 'auto', n_neighbors = 40, p = 1, weights = 'uniform')\n",
    "\n",
    "knn_todos_los_features.fit(X_train,y_train)\n",
    "metricas(y_test,knn_todos_los_features.predict(X_test),X_test,knn_todos_los_features)"
   ]
  },
  {
   "cell_type": "markdown",
   "id": "f9c7ef05",
   "metadata": {},
   "source": [
    "## Otro preprocesamiento (PCA)\n",
    "\n",
    "El objetivo es utilizar una herramienta de reducción de dimensionalidad para intentar mejorar nuestros resultados. Inicialmente hacemos PCA utilizando todo el dataset y luego seleccionando las variables, que por lo visto en la parte uno, son más relevantes para la clasificación."
   ]
  },
  {
   "cell_type": "code",
   "execution_count": null,
   "id": "9db2951f",
   "metadata": {},
   "outputs": [],
   "source": [
    "from preprocesamiento import preprocesar_df_min_max_scaler\n",
    "from preprocesamiento import preprocesar_df_pca\n",
    "\n",
    "df = obtenerDFTraining()\n",
    "X, y = preprocesar_data_frame(df)\n",
    "X = preprocesar_df_min_max_scaler(X)\n",
    "X = preprocesar_df_pca(X, 30)\n",
    "x_train, x_test, y_train, y_test = train_test_split(X, y, test_size=0.25, random_state=RANDOM_STATE)"
   ]
  },
  {
   "cell_type": "code",
   "execution_count": null,
   "id": "51ee596a",
   "metadata": {},
   "outputs": [],
   "source": [
    "parametros = {'n_neighbors' : range(5,100,5),'weights':['uniform','distance'],\n",
    "              'algorithm':['auto','kd_tree','brute'],'p':[1,2]}\n",
    "\n",
    "knn_pca_todos_los_features = KNeighborsClassifier()\n",
    "clf = GridSearchCV(knn, parametros,n_jobs =-1,verbose = 4, scoring = 'roc_auc', cv= 10)\n",
    "\n",
    "knn_pca_todos_los_features.fit(x_train,y_train)\n",
    "print(classification_report(y_test,knn_pca_todos_los_features.predict(x_test)))\n",
    "knn_pca_todos_los_features.best_params_"
   ]
  },
  {
   "cell_type": "code",
   "execution_count": null,
   "id": "702bef00",
   "metadata": {},
   "outputs": [],
   "source": [
    "metricas(y_test,knn_pca_todos_los_features.predict(x_test),x_test,knn_pca_todos_los_features)"
   ]
  },
  {
   "cell_type": "markdown",
   "id": "ebd5cc49",
   "metadata": {},
   "source": [
    "Como podemos ver nuestro nuevo modelo pierde precisión pero aumento su recall para clasificar los unos.\n",
    "\n",
    "Ahora por último haremos PCA pero sobre un dataset reducido con los mismos features que en el primer modelo."
   ]
  },
  {
   "cell_type": "code",
   "execution_count": null,
   "id": "eb947a20",
   "metadata": {},
   "outputs": [],
   "source": [
    "df = obtenerDFTraining()\n",
    "X, y = preprocesar_data_frame(df)\n",
    "X = preprocesar_df_min_max_scaler(X[['ganancia_perdida_declarada_bolsa_argentina','trabajo',\n",
    "                          'estado_marital','genero',\"anios_estudiados\",\"tiene_alto_valor_adquisitivo\"]])\n",
    "X = preprocesar_df_pca(X, 18)\n",
    "\n",
    "x_train, x_test, y_train, y_test = train_test_split(X, y, test_size=0.25, random_state=RANDOM_STATE)\n",
    "\n",
    "parametros = {'n_neighbors' : range(5,100,5),'weights':['uniform','distance'],\n",
    "              'algorithm':['auto','kd_tree','brute'],'p':[1,2]}\n",
    "\n",
    "knn_pca_algunos_features = KNeighborsClassifier()\n",
    "clf = GridSearchCV(knn, parametros,n_jobs =-1,verbose = 4, scoring = 'roc_auc', cv= 10)\n",
    "\n",
    "clf.fit(x_train,y_train)\n",
    "print(classification_report(y_test,knn_pca_algunos_features.predict(x_test)))\n",
    "knn_pca_algunos_features.best_params_"
   ]
  },
  {
   "cell_type": "markdown",
   "id": "79a0a3e6",
   "metadata": {},
   "source": [
    "Como podemos notar mejorar las métricas con respecto a los demás posibles modelos. De modo que decidimos presentarlo como modelo final de KNN."
   ]
  },
  {
   "cell_type": "code",
   "execution_count": null,
   "id": "4da1d4a3",
   "metadata": {},
   "outputs": [],
   "source": [
    "metricas(y_test,knn_pca_algunos_features.predict(x_test),x_test,knn_pca_algunos_features)"
   ]
  },
  {
   "cell_type": "markdown",
   "id": "f95dd883",
   "metadata": {},
   "source": [
    "### Prediccion sobre el Holdout"
   ]
  },
  {
   "cell_type": "code",
   "execution_count": null,
   "id": "96951572",
   "metadata": {},
   "outputs": [],
   "source": [
    "holdout = obtenerDFHoldout()\n",
    "\n",
    "ids = np.array(holdout['id'])\n",
    "holdout = preprocesar_df_min_max_scaler(holdout[['ganancia_perdida_declarada_bolsa_argentina','trabajo',\n",
    "                          'estado_marital','genero',\"anios_estudiados\",\"tiene_alto_valor_adquisitivo\"]])\n",
    "holdout = preprocesar_df_pca(holdout,18)\n",
    "\n",
    "predicciones_holdout = knn_pca_algunos_features.predict(holdout)\n",
    "escribir_predicciones_a_archivo(predicciones_holdout,\"KNN\",ids)"
   ]
  }
 ],
 "metadata": {
  "kernelspec": {
   "display_name": "Python 3",
   "language": "python",
   "name": "python3"
  },
  "language_info": {
   "codemirror_mode": {
    "name": "ipython",
    "version": 3
   },
   "file_extension": ".py",
   "mimetype": "text/x-python",
   "name": "python",
   "nbconvert_exporter": "python",
   "pygments_lexer": "ipython3",
   "version": "3.8.10"
  }
 },
 "nbformat": 4,
 "nbformat_minor": 5
}
