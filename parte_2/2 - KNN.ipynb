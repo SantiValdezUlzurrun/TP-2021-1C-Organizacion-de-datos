{
 "cells": [
  {
   "cell_type": "markdown",
   "id": "d37dee83",
   "metadata": {},
   "source": [
    "# KNN"
   ]
  },
  {
   "cell_type": "code",
   "execution_count": 2,
   "id": "66547282",
   "metadata": {},
   "outputs": [],
   "source": [
    "from sklearn.datasets import load_iris\n",
    "from sklearn.model_selection import train_test_split\n",
    "from sklearn import preprocessing\n",
    "import pandas as pd\n",
    "import numpy as np\n",
    "import seaborn as sns\n",
    "import matplotlib.pyplot as plt\n",
    "\n",
    "RANDOM_STATE = 19 * 103785"
   ]
  },
  {
   "cell_type": "code",
   "execution_count": 3,
   "id": "3315fb08",
   "metadata": {},
   "outputs": [],
   "source": [
    "from preprocesamiento import feature_engineering\n",
    "from preprocesamiento import obtenerDFHoldout, obtenerDFTraining\n",
    "from preprocesamiento import preprocesar_data_frame\n",
    "from sklearn.model_selection import KFold\n",
    "from sklearn import svm\n",
    "from sklearn.metrics import roc_auc_score\n",
    "from sklearn.metrics import recall_score\n",
    "from sklearn.metrics import precision_score\n",
    "from sklearn.metrics import accuracy_score\n",
    "from sklearn.metrics import classification_report"
   ]
  },
  {
   "cell_type": "markdown",
   "id": "49e95a33",
   "metadata": {},
   "source": [
    "## Trabajo Práctico 2: KNN\n",
    "\n",
    "La idea de este modelo es dado una nueva instancia devuelve la clase mayoritaria dada una cantidad de vecinos fijo(K). Para buscar los mejores hiperparametro utilizaremos GridSearch con un k-fold de 10.\n",
    "\n",
    "+ n_neighbors: La cantidad de vecinos mas cercanos que debe ser tomados en cuanta para predecir la nueva instancia.\n",
    "\n",
    "+ weights : La importancia que se le debe dar a cada vecino. Si es 'distance' su importancia es la inversa de su disancia a la instancia a predecir y si es 'uniform' todas valen lo mismo.\n",
    "\n",
    "+ algorithm : Utilizado para calcular los vecinos más cercanos\n",
    "\n",
    "+ p : Cuando p = 1, esto equivale a usar manhattan_distance (l1) y euclidean_distance (l2) para p = 2."
   ]
  },
  {
   "cell_type": "code",
   "execution_count": 41,
   "id": "a58f2bf1",
   "metadata": {},
   "outputs": [],
   "source": [
    "from sklearn.preprocessing import StandardScaler\n",
    "from sklearn.preprocessing import MinMaxScaler\n",
    "\n",
    "from sklearn.model_selection import GridSearchCV\n",
    "from sklearn.decomposition import PCA\n",
    "\n",
    "\n",
    "# Imprime las metricas Recall, Precision, Accuracy, Roc-auc y muestra la matriz de confuncion.\n",
    "def metricas(y_real, y_pred, x_test, modelo):\n",
    "\n",
    "    data = {'y_real': y_real,\n",
    "            'y_pred': y_pred}\n",
    "\n",
    "    df_metricas = pd.DataFrame(data, columns=['y_real','y_pred'])\n",
    "    confusion_matrix = pd.crosstab(df_metricas['y_real'], df_metricas['y_pred'], rownames=['Real'], colnames=['Predicho'])\n",
    "    sns.heatmap(confusion_matrix, annot=True, fmt=\"d\")\n",
    "    plt.show()\n",
    "\n",
    "    print(\"Recall: {}\".format(recall_score(y_real, y_pred).round(2)))\n",
    "    print(\"Precision: {}\".format(precision_score(y_real, y_pred).round(2)))\n",
    "    print(\"Acc: {}\".format(accuracy_score(y_real, y_pred).round(2)))\n",
    "    print(\"Roc: {}\".format(roc_auc_score(y_real, modelo.predict_proba(x_test)[:, 1]).round(2)))\n",
    "    \n",
    "    \n",
    "def preprocesar_standar_scaler(X : pd.DataFrame):\n",
    "    scaler = StandardScaler()\n",
    "    scaler.fit(X)\n",
    "    return scaler.transform(X)\n",
    "\n",
    "def prepros_dummies_KNN(data):\n",
    "    data_prepos = pd.get_dummies(data[['ganancia_perdida_declarada_bolsa_argentina','trabajo',\n",
    "                                      'estado_marital','genero',\"anios_estudiados\",\"edad\"]])\n",
    "    \n",
    "    data_prepos = data_prepos.drop(['trabajo_No contesto'],axis = 1)\n",
    "    data_prepos = data_prepos.drop(['genero_mujer'],axis = 1)\n",
    "    data_prepos = data_prepos.drop(['estado_marital_divorciado'],axis = 1)\n",
    "    \n",
    "    data_prepos = preprocesar_standar_scaler(data_prepos)\n",
    "\n",
    "    return data_prepos"
   ]
  },
  {
   "cell_type": "markdown",
   "id": "dda60b1f",
   "metadata": {},
   "source": [
    "Inicialmente preprocesamos el dataset seleccionamos las variables más relevantes y aplicamos a \"ganacia_declarada_en_bolsa\" una estandarización ya que es una variable con mucha varianza."
   ]
  },
  {
   "cell_type": "code",
   "execution_count": 17,
   "id": "56562c76",
   "metadata": {},
   "outputs": [],
   "source": [
    "df = obtenerDFTraining()\n",
    "(X,y) = preprocesar_data_frame(df)\n",
    "X_prepos= prepros_dummies_KNN(X)\n",
    "\n",
    "X_train, X_test, y_train, y_test = train_test_split(X_prepos, y, test_size=0.25, random_state=RANDOM_STATE)"
   ]
  },
  {
   "cell_type": "code",
   "execution_count": 19,
   "id": "aefbe239",
   "metadata": {},
   "outputs": [
    {
     "name": "stdout",
     "output_type": "stream",
     "text": [
      "Fitting 10 folds for each of 228 candidates, totalling 2280 fits\n"
     ]
    },
    {
     "name": "stderr",
     "output_type": "stream",
     "text": [
      "[Parallel(n_jobs=-1)]: Using backend LokyBackend with 4 concurrent workers.\n",
      "[Parallel(n_jobs=-1)]: Done  17 tasks      | elapsed:   35.0s\n",
      "[Parallel(n_jobs=-1)]: Done  90 tasks      | elapsed:  2.5min\n",
      "[Parallel(n_jobs=-1)]: Done 213 tasks      | elapsed:  5.8min\n",
      "[Parallel(n_jobs=-1)]: Done 384 tasks      | elapsed: 10.6min\n",
      "[Parallel(n_jobs=-1)]: Done 605 tasks      | elapsed: 17.1min\n",
      "[Parallel(n_jobs=-1)]: Done 874 tasks      | elapsed: 24.8min\n",
      "[Parallel(n_jobs=-1)]: Done 1193 tasks      | elapsed: 33.7min\n",
      "[Parallel(n_jobs=-1)]: Done 1560 tasks      | elapsed: 49.4min\n",
      "[Parallel(n_jobs=-1)]: Done 1977 tasks      | elapsed: 57.6min\n",
      "[Parallel(n_jobs=-1)]: Done 2280 out of 2280 | elapsed: 63.0min finished\n"
     ]
    },
    {
     "name": "stdout",
     "output_type": "stream",
     "text": [
      "              precision    recall  f1-score   support\n",
      "\n",
      "           0       0.86      0.93      0.89      6196\n",
      "           1       0.70      0.50      0.58      1936\n",
      "\n",
      "    accuracy                           0.83      8132\n",
      "   macro avg       0.78      0.72      0.74      8132\n",
      "weighted avg       0.82      0.83      0.82      8132\n",
      "\n"
     ]
    },
    {
     "data": {
      "text/plain": [
       "{'algorithm': 'auto', 'n_neighbors': 40, 'p': 1, 'weights': 'uniform'}"
      ]
     },
     "execution_count": 19,
     "metadata": {},
     "output_type": "execute_result"
    }
   ],
   "source": [
    "parametros = {'n_neighbors' : range(5,100,5),'weights':['uniform','distance'],\n",
    "              'algorithm':['auto','kd_tree','brute'],'p':[1,2]}\n",
    "\n",
    "knn = KNeighborsClassifier()\n",
    "clf = GridSearchCV(knn, parametros,n_jobs =-1,verbose = 4, scoring = 'roc_auc', cv= 10)\n",
    "\n",
    "clf.fit(X_train,y_train)\n",
    "print(classification_report(y_test,clf.predict(X_test)))\n",
    "clf.best_params_"
   ]
  },
  {
   "cell_type": "markdown",
   "id": "7724973d",
   "metadata": {},
   "source": [
    "Como podemos ver nuestro primer modelo clasifica correctamente la mitad de las personas con poder adquisitivo alto, sin embargo logra separar bastante bien a las personas con bajo poder adquisitivo, clasificando la gran mayoría correctamente."
   ]
  },
  {
   "cell_type": "code",
   "execution_count": 39,
   "id": "74b0243b",
   "metadata": {},
   "outputs": [
    {
     "data": {
      "image/png": "[encoded data removed]",
      "text/plain": [
       "<Figure size 432x288 with 2 Axes>"
      ]
     },
     "metadata": {
      "needs_background": "light"
     },
     "output_type": "display_data"
    },
    {
     "name": "stdout",
     "output_type": "stream",
     "text": [
      "Recall: 0.5\n",
      "Precision: 0.7\n",
      "Acc: 0.83\n",
      "Roc: 0.88\n"
     ]
    }
   ],
   "source": [
    "knn = KNeighborsClassifier(algorithm = 'auto', n_neighbors = 40, p = 1, weights = 'uniform')\n",
    "\n",
    "knn.fit(X_train,y_train)\n",
    "metricas(y_test,knn.predict(X_test),X_test,knn)"
   ]
  },
  {
   "cell_type": "markdown",
   "id": "98af8620",
   "metadata": {},
   "source": [
    "## Otro preprocesamiento (PCA)\n",
    "\n",
    "El objetivo es utilizar una herramienta de reducción de dimensionalidad para intentar mejorar nuestros resultados. Inicialmente hacemos PCA utilizando todo el dataset y luego seleccionando las variables, que por lo visto en la parte uno, son más relevantes para la clasificación."
   ]
  },
  {
   "cell_type": "code",
   "execution_count": 42,
   "id": "99b932cc",
   "metadata": {},
   "outputs": [],
   "source": [
    "def preprocesar_df_min_max_scaler(X : pd.DataFrame):\n",
    "    X = pd.get_dummies(X)\n",
    "    scaler = MinMaxScaler()\n",
    "    scaler.fit(X)\n",
    "    return scaler.transform(X)\n",
    "\n",
    "def preprocesar_df_pca(df , dim):\n",
    "    Y = df['tiene_alto_valor_adquisitivo']\n",
    "    X = df.drop(columns=['tiene_alto_valor_adquisitivo'])\n",
    "    X = preprocesar_df_min_max_scaler(X)\n",
    "    \n",
    "    x_train, x_test, y_train, y_test = train_test_split(X, Y, test_size=0.25, random_state=RANDOM_STATE)\n",
    "    \n",
    "    pca = PCA(dim)\n",
    "    x_train_pca = pd.DataFrame(pca.fit_transform(x_train))\n",
    "    x_test_pca = pca.transform(x_test)\n",
    "    \n",
    "    return (x_train_pca,x_test_pca,y_train,y_test)\n",
    "\n",
    "df = obtenerDFTraining()\n",
    "x_train, x_test, y_train, y_test  = preprocesar_df_pca(df,30)"
   ]
  },
  {
   "cell_type": "code",
   "execution_count": 44,
   "id": "be23d450",
   "metadata": {},
   "outputs": [
    {
     "name": "stdout",
     "output_type": "stream",
     "text": [
      "Fitting 10 folds for each of 228 candidates, totalling 2280 fits\n"
     ]
    },
    {
     "name": "stderr",
     "output_type": "stream",
     "text": [
      "[Parallel(n_jobs=-1)]: Using backend LokyBackend with 4 concurrent workers.\n",
      "[Parallel(n_jobs=-1)]: Done  17 tasks      | elapsed:   22.2s\n",
      "[Parallel(n_jobs=-1)]: Done  90 tasks      | elapsed:  1.2min\n",
      "[Parallel(n_jobs=-1)]: Done 213 tasks      | elapsed:  2.7min\n",
      "[Parallel(n_jobs=-1)]: Done 384 tasks      | elapsed:  5.4min\n",
      "[Parallel(n_jobs=-1)]: Done 605 tasks      | elapsed:  9.6min\n",
      "[Parallel(n_jobs=-1)]: Done 874 tasks      | elapsed: 13.9min\n",
      "[Parallel(n_jobs=-1)]: Done 1193 tasks      | elapsed: 18.7min\n",
      "[Parallel(n_jobs=-1)]: Done 1560 tasks      | elapsed: 27.2min\n",
      "[Parallel(n_jobs=-1)]: Done 1977 tasks      | elapsed: 33.6min\n",
      "[Parallel(n_jobs=-1)]: Done 2280 out of 2280 | elapsed: 38.1min finished\n"
     ]
    },
    {
     "name": "stdout",
     "output_type": "stream",
     "text": [
      "              precision    recall  f1-score   support\n",
      "\n",
      "           0       0.87      0.91      0.89      6196\n",
      "           1       0.67      0.56      0.61      1945\n",
      "\n",
      "    accuracy                           0.83      8141\n",
      "   macro avg       0.77      0.74      0.75      8141\n",
      "weighted avg       0.82      0.83      0.82      8141\n",
      "\n"
     ]
    },
    {
     "data": {
      "text/plain": [
       "{'algorithm': 'brute', 'n_neighbors': 50, 'p': 1, 'weights': 'uniform'}"
      ]
     },
     "execution_count": 44,
     "metadata": {},
     "output_type": "execute_result"
    }
   ],
   "source": [
    "parametros = {'n_neighbors' : range(5,100,5),'weights':['uniform','distance'],\n",
    "              'algorithm':['auto','kd_tree','brute'],'p':[1,2]}\n",
    "\n",
    "knn = KNeighborsClassifier()\n",
    "clf = GridSearchCV(knn, parametros,n_jobs =-1,verbose = 4, scoring = 'roc_auc', cv= 10)\n",
    "\n",
    "clf.fit(x_train,y_train)\n",
    "print(classification_report(y_test,clf.predict(x_test)))\n",
    "clf.best_params_"
   ]
  },
  {
   "cell_type": "markdown",
   "id": "ee089646",
   "metadata": {},
   "source": [
    "Como podemos ver nuestro nuevo modelo pierde precisión pero aumento su recall para clasificar los unos.\n",
    "\n",
    "Ahora por último haremos PCA pero sobre un dataset reducido con los mismos features que en el primer modelo."
   ]
  },
  {
   "cell_type": "code",
   "execution_count": 47,
   "id": "2146de70",
   "metadata": {},
   "outputs": [
    {
     "name": "stdout",
     "output_type": "stream",
     "text": [
      "Fitting 10 folds for each of 228 candidates, totalling 2280 fits\n"
     ]
    },
    {
     "name": "stderr",
     "output_type": "stream",
     "text": [
      "[Parallel(n_jobs=-1)]: Using backend LokyBackend with 4 concurrent workers.\n",
      "[Parallel(n_jobs=-1)]: Done  17 tasks      | elapsed:   13.7s\n",
      "[Parallel(n_jobs=-1)]: Done  90 tasks      | elapsed:   17.4s\n",
      "[Parallel(n_jobs=-1)]: Done 213 tasks      | elapsed:   24.9s\n",
      "[Parallel(n_jobs=-1)]: Done 384 tasks      | elapsed:   37.2s\n",
      "[Parallel(n_jobs=-1)]: Done 605 tasks      | elapsed:   57.9s\n",
      "[Parallel(n_jobs=-1)]: Done 874 tasks      | elapsed:  1.4min\n",
      "[Parallel(n_jobs=-1)]: Done 1193 tasks      | elapsed:  1.8min\n",
      "[Parallel(n_jobs=-1)]: Done 1560 tasks      | elapsed:  2.8min\n",
      "[Parallel(n_jobs=-1)]: Done 1977 tasks      | elapsed:  8.0min\n",
      "[Parallel(n_jobs=-1)]: Done 2280 out of 2280 | elapsed: 11.7min finished\n"
     ]
    },
    {
     "name": "stdout",
     "output_type": "stream",
     "text": [
      "              precision    recall  f1-score   support\n",
      "\n",
      "           0       0.87      0.94      0.90      6196\n",
      "           1       0.73      0.56      0.63      1945\n",
      "\n",
      "    accuracy                           0.85      8141\n",
      "   macro avg       0.80      0.75      0.77      8141\n",
      "weighted avg       0.84      0.85      0.84      8141\n",
      "\n"
     ]
    },
    {
     "data": {
      "text/plain": [
       "{'algorithm': 'brute', 'n_neighbors': 85, 'p': 1, 'weights': 'distance'}"
      ]
     },
     "execution_count": 47,
     "metadata": {},
     "output_type": "execute_result"
    }
   ],
   "source": [
    "df = obtenerDFTraining()\n",
    "x_train, x_test, y_train, y_test  = preprocesar_df_pca(df[['ganancia_perdida_declarada_bolsa_argentina','trabajo',\n",
    "                                      'estado_marital','genero',\"anios_estudiados\",\"tiene_alto_valor_adquisitivo\"]],18)\n",
    "\n",
    "parametros = {'n_neighbors' : range(5,100,5),'weights':['uniform','distance'],\n",
    "              'algorithm':['auto','kd_tree','brute'],'p':[1,2]}\n",
    "\n",
    "knn = KNeighborsClassifier()\n",
    "clf = GridSearchCV(knn, parametros,n_jobs =-1,verbose = 4, scoring = 'roc_auc', cv= 10)\n",
    "\n",
    "clf.fit(x_train,y_train)\n",
    "print(classification_report(y_test,clf.predict(x_test)))\n",
    "clf.best_params_"
   ]
  },
  {
   "cell_type": "markdown",
   "id": "99c2555a",
   "metadata": {},
   "source": [
    "Como podemos notar mejorar las métricas con respecto a los demás posibles modelos. De modo que decidimos presentarlo como modelo final de KNN."
   ]
  },
  {
   "cell_type": "code",
   "execution_count": 49,
   "id": "723c2762",
   "metadata": {},
   "outputs": [
    {
     "data": {
      "image/png": "[encoded data removed]",
      "text/plain": [
       "<Figure size 432x288 with 2 Axes>"
      ]
     },
     "metadata": {
      "needs_background": "light"
     },
     "output_type": "display_data"
    },
    {
     "name": "stdout",
     "output_type": "stream",
     "text": [
      "Recall: 0.54\n",
      "Precision: 0.75\n",
      "Acc: 0.85\n",
      "Roc: 0.88\n"
     ]
    }
   ],
   "source": [
    "df = obtenerDFTraining()\n",
    "x_train, x_test, y_train, y_test  = preprocesar_df_pca(df[['ganancia_perdida_declarada_bolsa_argentina','trabajo',\n",
    "                                      'estado_marital','genero',\"anios_estudiados\",\"tiene_alto_valor_adquisitivo\"]],18)\n",
    "\n",
    "knn = KNeighborsClassifier( algorithm = 'brute', n_neighbors = 85, p = 1, weights = 'distance')\n",
    "\n",
    "knn.fit(x_train,y_train)\n",
    "\n",
    "metricas(y_test,knn.predict(x_test),x_test,knn)"
   ]
  }
 ],
 "metadata": {
  "kernelspec": {
   "display_name": "Python 3",
   "language": "python",
   "name": "python3"
  },
  "language_info": {
   "codemirror_mode": {
    "name": "ipython",
    "version": 3
   },
   "file_extension": ".py",
   "mimetype": "text/x-python",
   "name": "python",
   "nbconvert_exporter": "python",
   "pygments_lexer": "ipython3",
   "version": "3.8.10"
  }
 },
 "nbformat": 4,
 "nbformat_minor": 5
}
