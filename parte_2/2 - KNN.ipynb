{
 "cells": [
  {
   "cell_type": "markdown",
   "id": "b578627e",
   "metadata": {},
   "source": [
    "# Trabajo Práctico 2: KNN\n",
    "\n",
    "La idea de este modelo es dado una nueva instancia devuelve la clase mayoritaria dada una cantidad de vecinos fijo(K). Para buscar los mejores hiperparametro utilizaremos GridSearch con un k-fold de 10.\n",
    "\n",
    "+ n_neighbors: La cantidad de vecinos mas cercanos que debe ser tomados en cuanta para predecir la nueva instancia.\n",
    "\n",
    "+ weights : La importancia que se le debe dar a cada vecino. Si es 'distance' su importancia es la inversa de su disancia a la instancia a predecir y si es 'uniform' todas valen lo mismo.\n",
    "\n",
    "+ algorithm : Utilizado para calcular los vecinos más cercanos\n",
    "\n",
    "+ p : Cuando p = 1, esto equivale a usar manhattan_distance (l1) y euclidean_distance (l2) para p = 2."
   ]
  },
  {
   "cell_type": "code",
   "execution_count": 1,
   "id": "b0a7cce1",
   "metadata": {},
   "outputs": [],
   "source": [
    "from sklearn.model_selection import train_test_split\n",
    "from sklearn import preprocessing\n",
    "import pandas as pd\n",
    "import numpy as np\n",
    "import seaborn as sns\n",
    "import matplotlib.pyplot as plt\n",
    "\n",
    "from preprocesamiento import feature_engineering\n",
    "from preprocesamiento import obtenerDFHoldout, obtenerDFTraining\n",
    "from preprocesamiento import preprocesar_data_frame\n",
    "\n",
    "from sklearn.neighbors import KNeighborsClassifier\n",
    "from sklearn import svm\n",
    "from sklearn.metrics import roc_auc_score\n",
    "from sklearn.metrics import recall_score\n",
    "from sklearn.metrics import precision_score\n",
    "from sklearn.metrics import accuracy_score\n",
    "from sklearn.metrics import classification_report\n",
    "\n",
    "from sklearn.preprocessing import StandardScaler\n",
    "from sklearn.preprocessing import MinMaxScaler\n",
    "\n",
    "from sklearn.model_selection import GridSearchCV\n",
    "from sklearn.decomposition import PCA\n",
    "RANDOM_STATE = 19 * 103785"
   ]
  },
  {
   "cell_type": "code",
   "execution_count": 2,
   "id": "2795baff",
   "metadata": {},
   "outputs": [],
   "source": [
    "from preprocesamiento import metricas\n",
    "from preprocesamiento import prepros_dummies\n",
    "from preprocesamiento import preprocesar_standar_scaler"
   ]
  },
  {
   "cell_type": "markdown",
   "id": "d2229d73",
   "metadata": {},
   "source": [
    "Inicialmente preprocesamos el dataset seleccionamos las variables más relevantes y aplicamos a \"ganacia_declarada_en_bolsa\" una estandarización ya que es una variable con mucha varianza."
   ]
  },
  {
   "cell_type": "code",
   "execution_count": 3,
   "id": "174ec89b",
   "metadata": {},
   "outputs": [],
   "source": [
    "df = obtenerDFTraining()\n",
    "(X,y) = preprocesar_data_frame(df)\n",
    "X_prepos = prepros_dummies(X[['ganancia_perdida_declarada_bolsa_argentina','trabajo',\n",
    "                              'estado_marital','genero',\"anios_estudiados\",\"edad\"]])\n",
    "X_prepos = preprocesar_standar_scaler(X_prepos)\n",
    "\n",
    "X_train, X_test, y_train, y_test = train_test_split(X_prepos, y, test_size=0.25, random_state=RANDOM_STATE)"
   ]
  },
  {
   "cell_type": "code",
   "execution_count": 4,
   "id": "b8e09ad8",
   "metadata": {},
   "outputs": [
    {
     "name": "stdout",
     "output_type": "stream",
     "text": [
      "Fitting 10 folds for each of 228 candidates, totalling 2280 fits\n"
     ]
    },
    {
     "name": "stderr",
     "output_type": "stream",
     "text": [
      "[Parallel(n_jobs=-1)]: Using backend LokyBackend with 4 concurrent workers.\n",
      "[Parallel(n_jobs=-1)]: Done  17 tasks      | elapsed:   34.8s\n",
      "[Parallel(n_jobs=-1)]: Done  90 tasks      | elapsed:  2.6min\n",
      "[Parallel(n_jobs=-1)]: Done 213 tasks      | elapsed:  6.1min\n",
      "[Parallel(n_jobs=-1)]: Done 384 tasks      | elapsed: 11.2min\n",
      "[Parallel(n_jobs=-1)]: Done 605 tasks      | elapsed: 17.7min\n",
      "[Parallel(n_jobs=-1)]: Done 874 tasks      | elapsed: 25.6min\n",
      "[Parallel(n_jobs=-1)]: Done 1193 tasks      | elapsed: 35.0min\n",
      "[Parallel(n_jobs=-1)]: Done 1560 tasks      | elapsed: 46.3min\n",
      "[Parallel(n_jobs=-1)]: Done 1977 tasks      | elapsed: 52.1min\n",
      "[Parallel(n_jobs=-1)]: Done 2280 out of 2280 | elapsed: 56.1min finished\n"
     ]
    },
    {
     "name": "stdout",
     "output_type": "stream",
     "text": [
      "              precision    recall  f1-score   support\n",
      "\n",
      "           0       0.86      0.93      0.89      6196\n",
      "           1       0.70      0.50      0.58      1936\n",
      "\n",
      "    accuracy                           0.83      8132\n",
      "   macro avg       0.78      0.72      0.74      8132\n",
      "weighted avg       0.82      0.83      0.82      8132\n",
      "\n"
     ]
    },
    {
     "data": {
      "text/plain": [
       "{'algorithm': 'auto', 'n_neighbors': 40, 'p': 1, 'weights': 'uniform'}"
      ]
     },
     "execution_count": 4,
     "metadata": {},
     "output_type": "execute_result"
    }
   ],
   "source": [
    "parametros = {'n_neighbors' : range(5,100,5),'weights':['uniform','distance'],\n",
    "              'algorithm':['auto','kd_tree','brute'],'p':[1,2]}\n",
    "\n",
    "knn = KNeighborsClassifier()\n",
    "clf = GridSearchCV(knn, parametros,n_jobs =-1,verbose = 4, scoring = 'roc_auc', cv= 10)\n",
    "\n",
    "clf.fit(X_train,y_train)\n",
    "print(classification_report(y_test,clf.predict(X_test)))\n",
    "clf.best_params_"
   ]
  },
  {
   "cell_type": "markdown",
   "id": "40596ce0",
   "metadata": {},
   "source": [
    "Como podemos ver nuestro primer modelo clasifica correctamente la mitad de las personas con poder adquisitivo alto, sin embargo logra separar bastante bien a las personas con bajo poder adquisitivo, clasificando la gran mayoría correctamente."
   ]
  },
  {
   "cell_type": "code",
   "execution_count": 5,
   "id": "0160c77d",
   "metadata": {},
   "outputs": [
    {
     "data": {
      "image/png": "[encoded data removed]",
      "text/plain": [
       "<Figure size 432x288 with 2 Axes>"
      ]
     },
     "metadata": {
      "needs_background": "light"
     },
     "output_type": "display_data"
    },
    {
     "name": "stdout",
     "output_type": "stream",
     "text": [
      "Recall: 0.5\n",
      "Precision: 0.7\n",
      "Acc: 0.83\n",
      "Roc: 0.88\n"
     ]
    }
   ],
   "source": [
    "knn_todos_los_features = KNeighborsClassifier(algorithm = 'auto', n_neighbors = 40, p = 1, weights = 'uniform')\n",
    "\n",
    "knn_todos_los_features.fit(X_train,y_train)\n",
    "metricas(y_test,knn_todos_los_features.predict(X_test),X_test,knn_todos_los_features)"
   ]
  },
  {
   "cell_type": "markdown",
   "id": "77329758",
   "metadata": {},
   "source": [
    "## Otro preprocesamiento (PCA)\n",
    "\n",
    "El objetivo es utilizar una herramienta de reducción de dimensionalidad para intentar mejorar nuestros resultados. Inicialmente hacemos PCA utilizando todo el dataset y luego seleccionando las variables, que por lo visto en la parte uno, son más relevantes para la clasificación."
   ]
  },
  {
   "cell_type": "code",
   "execution_count": 6,
   "id": "baf6c748",
   "metadata": {},
   "outputs": [],
   "source": [
    "from preprocesamiento import preprocesar_df_min_max_scaler\n",
    "from preprocesamiento import preprocesar_df_pca\n",
    "\n",
    "df = obtenerDFTraining()\n",
    "X, y = preprocesar_data_frame(df)\n",
    "X = preprocesar_df_min_max_scaler(X)\n",
    "X = preprocesar_df_pca(X, 30)\n",
    "x_train, x_test, y_train, y_test = train_test_split(X, y, test_size=0.25, random_state=RANDOM_STATE)"
   ]
  },
  {
   "cell_type": "code",
   "execution_count": 9,
   "id": "d1181f62",
   "metadata": {},
   "outputs": [
    {
     "name": "stdout",
     "output_type": "stream",
     "text": [
      "Fitting 10 folds for each of 228 candidates, totalling 2280 fits\n"
     ]
    },
    {
     "name": "stderr",
     "output_type": "stream",
     "text": [
      "[Parallel(n_jobs=-1)]: Using backend LokyBackend with 4 concurrent workers.\n",
      "[Parallel(n_jobs=-1)]: Done  17 tasks      | elapsed:   16.8s\n",
      "[Parallel(n_jobs=-1)]: Done  90 tasks      | elapsed:   46.7s\n",
      "[Parallel(n_jobs=-1)]: Done 213 tasks      | elapsed:  2.3min\n",
      "[Parallel(n_jobs=-1)]: Done 384 tasks      | elapsed:  5.0min\n",
      "[Parallel(n_jobs=-1)]: Done 605 tasks      | elapsed:  8.0min\n",
      "[Parallel(n_jobs=-1)]: Done 874 tasks      | elapsed: 11.5min\n",
      "[Parallel(n_jobs=-1)]: Done 1193 tasks      | elapsed: 16.0min\n",
      "[Parallel(n_jobs=-1)]: Done 1560 tasks      | elapsed: 22.7min\n",
      "[Parallel(n_jobs=-1)]: Done 1977 tasks      | elapsed: 30.6min\n",
      "[Parallel(n_jobs=-1)]: Done 2280 out of 2280 | elapsed: 36.5min finished\n"
     ]
    },
    {
     "name": "stdout",
     "output_type": "stream",
     "text": [
      "              precision    recall  f1-score   support\n",
      "\n",
      "           0       0.86      0.91      0.89      6196\n",
      "           1       0.66      0.52      0.58      1936\n",
      "\n",
      "    accuracy                           0.82      8132\n",
      "   macro avg       0.76      0.72      0.74      8132\n",
      "weighted avg       0.81      0.82      0.81      8132\n",
      "\n"
     ]
    },
    {
     "data": {
      "text/plain": [
       "{'algorithm': 'brute', 'n_neighbors': 50, 'p': 2, 'weights': 'uniform'}"
      ]
     },
     "execution_count": 9,
     "metadata": {},
     "output_type": "execute_result"
    }
   ],
   "source": [
    "parametros = {'n_neighbors' : range(5,100,5),'weights':['uniform','distance'],\n",
    "              'algorithm':['auto','kd_tree','brute'],'p':[1,2]}\n",
    "\n",
    "knn = KNeighborsClassifier()\n",
    "knn_pca_todos_los_features = GridSearchCV(knn, parametros,n_jobs =-1,verbose = 4, scoring = 'roc_auc', cv= 10)\n",
    "\n",
    "knn_pca_todos_los_features.fit(x_train,y_train)\n",
    "print(classification_report(y_test,knn_pca_todos_los_features.predict(x_test)))\n",
    "knn_pca_todos_los_features.best_params_"
   ]
  },
  {
   "cell_type": "code",
   "execution_count": 10,
   "id": "18b08b74",
   "metadata": {},
   "outputs": [
    {
     "data": {
      "image/png": "[encoded data removed]",
      "text/plain": [
       "<Figure size 432x288 with 2 Axes>"
      ]
     },
     "metadata": {
      "needs_background": "light"
     },
     "output_type": "display_data"
    },
    {
     "name": "stdout",
     "output_type": "stream",
     "text": [
      "Recall: 0.52\n",
      "Precision: 0.66\n",
      "Acc: 0.82\n",
      "Roc: 0.87\n"
     ]
    }
   ],
   "source": [
    "metricas(y_test,knn_pca_todos_los_features.predict(x_test),x_test,knn_pca_todos_los_features)"
   ]
  },
  {
   "cell_type": "markdown",
   "id": "7af8f008",
   "metadata": {},
   "source": [
    "Como podemos ver nuestro nuevo modelo pierde precisión pero aumento su recall para clasificar los unos.\n",
    "\n",
    "Ahora por último haremos PCA pero sobre un dataset reducido con los mismos features que en el primer modelo."
   ]
  },
  {
   "cell_type": "code",
   "execution_count": 13,
   "id": "5c457402",
   "metadata": {},
   "outputs": [
    {
     "name": "stdout",
     "output_type": "stream",
     "text": [
      "Fitting 10 folds for each of 228 candidates, totalling 2280 fits\n"
     ]
    },
    {
     "name": "stderr",
     "output_type": "stream",
     "text": [
      "[Parallel(n_jobs=-1)]: Using backend LokyBackend with 4 concurrent workers.\n",
      "[Parallel(n_jobs=-1)]: Done  17 tasks      | elapsed:   12.5s\n",
      "[Parallel(n_jobs=-1)]: Done  90 tasks      | elapsed:   17.6s\n",
      "[Parallel(n_jobs=-1)]: Done 213 tasks      | elapsed:   27.4s\n",
      "[Parallel(n_jobs=-1)]: Done 384 tasks      | elapsed:   43.8s\n",
      "[Parallel(n_jobs=-1)]: Done 605 tasks      | elapsed:  1.2min\n",
      "[Parallel(n_jobs=-1)]: Done 874 tasks      | elapsed:  1.8min\n",
      "[Parallel(n_jobs=-1)]: Done 1193 tasks      | elapsed:  2.3min\n",
      "[Parallel(n_jobs=-1)]: Done 1560 tasks      | elapsed:  3.8min\n",
      "[Parallel(n_jobs=-1)]: Done 1977 tasks      | elapsed: 10.5min\n",
      "[Parallel(n_jobs=-1)]: Done 2280 out of 2280 | elapsed: 15.2min finished\n"
     ]
    },
    {
     "name": "stdout",
     "output_type": "stream",
     "text": [
      "              precision    recall  f1-score   support\n",
      "\n",
      "           0       0.86      0.94      0.90      6196\n",
      "           1       0.73      0.52      0.61      1936\n",
      "\n",
      "    accuracy                           0.84      8132\n",
      "   macro avg       0.80      0.73      0.75      8132\n",
      "weighted avg       0.83      0.84      0.83      8132\n",
      "\n"
     ]
    },
    {
     "data": {
      "text/plain": [
       "{'algorithm': 'auto', 'n_neighbors': 75, 'p': 1, 'weights': 'distance'}"
      ]
     },
     "execution_count": 13,
     "metadata": {},
     "output_type": "execute_result"
    }
   ],
   "source": [
    "df = obtenerDFTraining()\n",
    "X, y = preprocesar_data_frame(df)\n",
    "X = preprocesar_df_min_max_scaler(X[['ganancia_perdida_declarada_bolsa_argentina','trabajo',\n",
    "                          'estado_marital','genero',\"anios_estudiados\"]])\n",
    "X = preprocesar_df_pca(X, 18)\n",
    "\n",
    "x_train, x_test, y_train, y_test = train_test_split(X, y, test_size=0.25, random_state=RANDOM_STATE)\n",
    "\n",
    "parametros = {'n_neighbors' : range(5,100,5),'weights':['uniform','distance'],\n",
    "              'algorithm':['auto','kd_tree','brute'],'p':[1,2]}\n",
    "\n",
    "knn = KNeighborsClassifier()\n",
    "knn_pca_algunos_features = GridSearchCV(knn, parametros,n_jobs =-1,verbose = 4, scoring = 'roc_auc', cv= 10)\n",
    "\n",
    "knn_pca_algunos_features.fit(x_train,y_train)\n",
    "print(classification_report(y_test,knn_pca_algunos_features.predict(x_test)))\n",
    "knn_pca_algunos_features.best_params_"
   ]
  },
  {
   "cell_type": "markdown",
   "id": "61c3b2d7",
   "metadata": {},
   "source": [
    "Como podemos notar mejorar las métricas con respecto a los demás posibles modelos. De modo que decidimos presentarlo como modelo final de KNN."
   ]
  },
  {
   "cell_type": "code",
   "execution_count": 14,
   "id": "ced09982",
   "metadata": {},
   "outputs": [
    {
     "data": {
      "image/png": "[encoded data removed]",
      "text/plain": [
       "<Figure size 432x288 with 2 Axes>"
      ]
     },
     "metadata": {
      "needs_background": "light"
     },
     "output_type": "display_data"
    },
    {
     "name": "stdout",
     "output_type": "stream",
     "text": [
      "Recall: 0.52\n",
      "Precision: 0.73\n",
      "Acc: 0.84\n",
      "Roc: 0.88\n"
     ]
    }
   ],
   "source": [
    "metricas(y_test,knn_pca_algunos_features.predict(x_test),x_test,knn_pca_algunos_features)"
   ]
  },
  {
   "cell_type": "markdown",
   "id": "a9481c72",
   "metadata": {},
   "source": [
    "### Prediccion sobre el Holdout"
   ]
  },
  {
   "cell_type": "code",
   "execution_count": 17,
   "id": "6f882397",
   "metadata": {},
   "outputs": [],
   "source": [
    "from preprocesamiento import escribir_predicciones_a_archivo\n",
    "\n",
    "holdout = obtenerDFHoldout()\n",
    "\n",
    "ids = np.array(holdout['id'])\n",
    "holdout = preprocesar_df_min_max_scaler(holdout[['ganancia_perdida_declarada_bolsa_argentina','trabajo',\n",
    "                          'estado_marital','genero',\"anios_estudiados\"]])\n",
    "holdout = preprocesar_df_pca(holdout,18)\n",
    "\n",
    "predicciones_holdout = knn_pca_algunos_features.predict(holdout)\n",
    "escribir_predicciones_a_archivo(predicciones_holdout,\"KNN\",ids)"
   ]
  }
 ],
 "metadata": {
  "kernelspec": {
   "display_name": "Python 3",
   "language": "python",
   "name": "python3"
  },
  "language_info": {
   "codemirror_mode": {
    "name": "ipython",
    "version": 3
   },
   "file_extension": ".py",
   "mimetype": "text/x-python",
   "name": "python",
   "nbconvert_exporter": "python",
   "pygments_lexer": "ipython3",
   "version": "3.8.10"
  }
 },
 "nbformat": 4,
 "nbformat_minor": 5
}
