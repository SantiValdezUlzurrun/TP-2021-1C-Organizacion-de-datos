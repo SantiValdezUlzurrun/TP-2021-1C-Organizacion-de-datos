{
 "cells": [
  {
   "cell_type": "markdown",
   "id": "744dd2e1",
   "metadata": {},
   "source": [
    "## Feature Engineering"
   ]
  },
  {
   "cell_type": "code",
   "execution_count": 1,
   "id": "a8b2f4db",
   "metadata": {},
   "outputs": [],
   "source": [
    "import pandas as pd\n",
    "GSPREADHSEET_DOWNLOAD_URL = (\n",
    "    \"https://docs.google.com/spreadsheets/d/{gid}/export?format=csv&id={gid}\".format\n",
    ")\n",
    "\n",
    "FIUFIP_GID = '1-DWTP8uwVS-dZY402-dm0F9ICw_6PNqDGLmH0u8Eqa0'\n",
    "\n",
    "df = pd.read_csv(GSPREADHSEET_DOWNLOAD_URL(gid=FIUFIP_GID), skiprows=0)"
   ]
  },
  {
   "cell_type": "markdown",
   "id": "c94462bc",
   "metadata": {},
   "source": [
    "Buscamos las intancias con NaN's o con campos que se contradicen.\n",
    "\n",
    "\n",
    "Primero buscamos las personas que indican no tener trabajo pero marca tener horas de trabajo registradas mayores de 0."
   ]
  },
  {
   "cell_type": "code",
   "execution_count": 2,
   "id": "1bee602e",
   "metadata": {},
   "outputs": [
    {
     "data": {
      "text/html": [
       "<div>\n",
       "<style scoped>\n",
       "    .dataframe tbody tr th:only-of-type {\n",
       "        vertical-align: middle;\n",
       "    }\n",
       "\n",
       "    .dataframe tbody tr th {\n",
       "        vertical-align: top;\n",
       "    }\n",
       "\n",
       "    .dataframe thead th {\n",
       "        text-align: right;\n",
       "    }\n",
       "</style>\n",
       "<table border=\"1\" class=\"dataframe\">\n",
       "  <thead>\n",
       "    <tr style=\"text-align: right;\">\n",
       "      <th></th>\n",
       "      <th>anios_estudiados</th>\n",
       "      <th>barrio</th>\n",
       "      <th>categoria_de_trabajo</th>\n",
       "      <th>edad</th>\n",
       "      <th>educacion_alcanzada</th>\n",
       "      <th>estado_marital</th>\n",
       "      <th>ganancia_perdida_declarada_bolsa_argentina</th>\n",
       "      <th>genero</th>\n",
       "      <th>horas_trabajo_registradas</th>\n",
       "      <th>religion</th>\n",
       "      <th>rol_familiar_registrado</th>\n",
       "      <th>tiene_alto_valor_adquisitivo</th>\n",
       "      <th>trabajo</th>\n",
       "    </tr>\n",
       "  </thead>\n",
       "  <tbody>\n",
       "    <tr>\n",
       "      <th>5361</th>\n",
       "      <td>10</td>\n",
       "      <td>Palermo</td>\n",
       "      <td>sin_trabajo</td>\n",
       "      <td>18</td>\n",
       "      <td>1_anio</td>\n",
       "      <td>sin_matrimonio</td>\n",
       "      <td>0</td>\n",
       "      <td>hombre</td>\n",
       "      <td>40</td>\n",
       "      <td>cristianismo</td>\n",
       "      <td>con_hijos</td>\n",
       "      <td>0</td>\n",
       "      <td>NaN</td>\n",
       "    </tr>\n",
       "    <tr>\n",
       "      <th>10845</th>\n",
       "      <td>8</td>\n",
       "      <td>Palermo</td>\n",
       "      <td>sin_trabajo</td>\n",
       "      <td>23</td>\n",
       "      <td>7-8_grado</td>\n",
       "      <td>divorciado</td>\n",
       "      <td>0</td>\n",
       "      <td>hombre</td>\n",
       "      <td>35</td>\n",
       "      <td>cristianismo</td>\n",
       "      <td>sin_familia</td>\n",
       "      <td>0</td>\n",
       "      <td>NaN</td>\n",
       "    </tr>\n",
       "    <tr>\n",
       "      <th>14772</th>\n",
       "      <td>10</td>\n",
       "      <td>Palermo</td>\n",
       "      <td>sin_trabajo</td>\n",
       "      <td>17</td>\n",
       "      <td>1_anio</td>\n",
       "      <td>sin_matrimonio</td>\n",
       "      <td>0</td>\n",
       "      <td>hombre</td>\n",
       "      <td>30</td>\n",
       "      <td>cristianismo</td>\n",
       "      <td>con_hijos</td>\n",
       "      <td>0</td>\n",
       "      <td>NaN</td>\n",
       "    </tr>\n",
       "    <tr>\n",
       "      <th>20337</th>\n",
       "      <td>11</td>\n",
       "      <td>Palermo</td>\n",
       "      <td>sin_trabajo</td>\n",
       "      <td>18</td>\n",
       "      <td>2_anio</td>\n",
       "      <td>sin_matrimonio</td>\n",
       "      <td>0</td>\n",
       "      <td>mujer</td>\n",
       "      <td>10</td>\n",
       "      <td>cristianismo</td>\n",
       "      <td>con_hijos</td>\n",
       "      <td>0</td>\n",
       "      <td>NaN</td>\n",
       "    </tr>\n",
       "    <tr>\n",
       "      <th>23232</th>\n",
       "      <td>14</td>\n",
       "      <td>Palermo</td>\n",
       "      <td>sin_trabajo</td>\n",
       "      <td>20</td>\n",
       "      <td>5_anio</td>\n",
       "      <td>sin_matrimonio</td>\n",
       "      <td>0</td>\n",
       "      <td>hombre</td>\n",
       "      <td>40</td>\n",
       "      <td>judaismo</td>\n",
       "      <td>con_hijos</td>\n",
       "      <td>0</td>\n",
       "      <td>NaN</td>\n",
       "    </tr>\n",
       "    <tr>\n",
       "      <th>32304</th>\n",
       "      <td>13</td>\n",
       "      <td>Palermo</td>\n",
       "      <td>sin_trabajo</td>\n",
       "      <td>30</td>\n",
       "      <td>4_anio</td>\n",
       "      <td>matrimonio_civil</td>\n",
       "      <td>0</td>\n",
       "      <td>mujer</td>\n",
       "      <td>40</td>\n",
       "      <td>judaismo</td>\n",
       "      <td>casada</td>\n",
       "      <td>0</td>\n",
       "      <td>NaN</td>\n",
       "    </tr>\n",
       "    <tr>\n",
       "      <th>32314</th>\n",
       "      <td>14</td>\n",
       "      <td>Palermo</td>\n",
       "      <td>sin_trabajo</td>\n",
       "      <td>18</td>\n",
       "      <td>5_anio</td>\n",
       "      <td>sin_matrimonio</td>\n",
       "      <td>0</td>\n",
       "      <td>hombre</td>\n",
       "      <td>4</td>\n",
       "      <td>cristianismo</td>\n",
       "      <td>con_hijos</td>\n",
       "      <td>0</td>\n",
       "      <td>NaN</td>\n",
       "    </tr>\n",
       "  </tbody>\n",
       "</table>\n",
       "</div>"
      ],
      "text/plain": [
       "       anios_estudiados   barrio categoria_de_trabajo  edad  \\\n",
       "5361                 10  Palermo          sin_trabajo    18   \n",
       "10845                 8  Palermo          sin_trabajo    23   \n",
       "14772                10  Palermo          sin_trabajo    17   \n",
       "20337                11  Palermo          sin_trabajo    18   \n",
       "23232                14  Palermo          sin_trabajo    20   \n",
       "32304                13  Palermo          sin_trabajo    30   \n",
       "32314                14  Palermo          sin_trabajo    18   \n",
       "\n",
       "      educacion_alcanzada    estado_marital  \\\n",
       "5361               1_anio    sin_matrimonio   \n",
       "10845           7-8_grado        divorciado   \n",
       "14772              1_anio    sin_matrimonio   \n",
       "20337              2_anio    sin_matrimonio   \n",
       "23232              5_anio    sin_matrimonio   \n",
       "32304              4_anio  matrimonio_civil   \n",
       "32314              5_anio    sin_matrimonio   \n",
       "\n",
       "       ganancia_perdida_declarada_bolsa_argentina  genero  \\\n",
       "5361                                            0  hombre   \n",
       "10845                                           0  hombre   \n",
       "14772                                           0  hombre   \n",
       "20337                                           0   mujer   \n",
       "23232                                           0  hombre   \n",
       "32304                                           0   mujer   \n",
       "32314                                           0  hombre   \n",
       "\n",
       "       horas_trabajo_registradas      religion rol_familiar_registrado  \\\n",
       "5361                          40  cristianismo               con_hijos   \n",
       "10845                         35  cristianismo             sin_familia   \n",
       "14772                         30  cristianismo               con_hijos   \n",
       "20337                         10  cristianismo               con_hijos   \n",
       "23232                         40      judaismo               con_hijos   \n",
       "32304                         40      judaismo                  casada   \n",
       "32314                          4  cristianismo               con_hijos   \n",
       "\n",
       "       tiene_alto_valor_adquisitivo trabajo  \n",
       "5361                              0     NaN  \n",
       "10845                             0     NaN  \n",
       "14772                             0     NaN  \n",
       "20337                             0     NaN  \n",
       "23232                             0     NaN  \n",
       "32304                             0     NaN  \n",
       "32314                             0     NaN  "
      ]
     },
     "execution_count": 2,
     "metadata": {},
     "output_type": "execute_result"
    }
   ],
   "source": [
    "df_gente_sin_trabajo_con_horas_registradas = df[(df['categoria_de_trabajo'] == 'sin_trabajo') & (df['horas_trabajo_registradas'] > 0)]\n",
    "df_gente_sin_trabajo_con_horas_registradas"
   ]
  },
  {
   "cell_type": "markdown",
   "id": "cf52c482",
   "metadata": {},
   "source": [
    "Estas 7 instancia tiene horas de trabajo registradas apesar de que indicaron que estan sin trabajo. Elejimos descartarlas por ser contradictorias y no estimar su tipo de trabajo mediante alguna indicador estadistico."
   ]
  },
  {
   "cell_type": "code",
   "execution_count": 3,
   "id": "8d9054b3",
   "metadata": {},
   "outputs": [],
   "source": [
    "df.drop(df_gente_sin_trabajo_con_horas_registradas.index, inplace = True)"
   ]
  },
  {
   "cell_type": "markdown",
   "id": "eb62f5c8",
   "metadata": {},
   "source": [
    "\n",
    "Los siguientes son las instancias con mas datos no ingresados del dataframe y devido a que son muy poco decidimos eliminarlos antes que estimar sus datos invalidos."
   ]
  },
  {
   "cell_type": "code",
   "execution_count": 4,
   "id": "b25c1c37",
   "metadata": {},
   "outputs": [
    {
     "data": {
      "text/plain": [
       "anios_estudiados                               0\n",
       "barrio                                        27\n",
       "categoria_de_trabajo                          27\n",
       "edad                                           0\n",
       "educacion_alcanzada                            0\n",
       "estado_marital                                 0\n",
       "ganancia_perdida_declarada_bolsa_argentina     0\n",
       "genero                                         0\n",
       "horas_trabajo_registradas                      0\n",
       "religion                                       0\n",
       "rol_familiar_registrado                        0\n",
       "tiene_alto_valor_adquisitivo                   0\n",
       "trabajo                                       27\n",
       "dtype: int64"
      ]
     },
     "execution_count": 4,
     "metadata": {},
     "output_type": "execute_result"
    }
   ],
   "source": [
    "import numpy as np\n",
    "def tiene_n_missings(x, n):\n",
    "    acum = 0\n",
    "    for i in range(len(x)):\n",
    "        if x[i]:\n",
    "            acum += 1\n",
    "    return n <= acum\n",
    "\n",
    "\n",
    "lista_de_missings = [tiene_n_missings(x, 3) for x in df.isna().to_numpy()]\n",
    "\n",
    "df_3_missings = df.reset_index()[lista_de_missings].set_index('index')\n",
    "df_3_missings.isnull().sum()"
   ]
  },
  {
   "cell_type": "code",
   "execution_count": 5,
   "id": "fb43969c",
   "metadata": {},
   "outputs": [
    {
     "data": {
      "text/plain": [
       "tiene_tres_missing\n",
       "Sin missing    32527\n",
       "Con missing       27\n",
       "dtype: int64"
      ]
     },
     "execution_count": 5,
     "metadata": {},
     "output_type": "execute_result"
    }
   ],
   "source": [
    "def f(x,y,z):\n",
    "  return not x and not y and not z\n",
    "\n",
    "  \n",
    "df_tiene_3_missing = df[['barrio', 'categoria_de_trabajo','tiene_alto_valor_adquisitivo','trabajo']].copy()\n",
    "lista = df[['barrio', 'categoria_de_trabajo','trabajo']].notnull().values.tolist()\n",
    "df_tiene_3_missing['tiene_tres_missing'] = ['Con missing' if f(x[0],x[1],x[2]) else 'Sin missing' for x in lista]\n",
    "df_tiene_3_missing.value_counts('tiene_tres_missing')"
   ]
  },
  {
   "cell_type": "code",
   "execution_count": 6,
   "id": "dc882282",
   "metadata": {},
   "outputs": [
    {
     "data": {
      "image/png": "[encoded data removed]",
      "text/plain": [
       "<Figure size 600x400 with 1 Axes>"
      ]
     },
     "metadata": {
      "needs_background": "light"
     },
     "output_type": "display_data"
    }
   ],
   "source": [
    "#Real devs dont use for\n",
    "from functools import reduce\n",
    "from matplotlib import pyplot as plt\n",
    "import matplotlib\n",
    "import seaborn as sns\n",
    "\n",
    "plt.figure(dpi=100)\n",
    "\n",
    "ax = sns.barplot(\n",
    "    data=df_tiene_3_missing,\n",
    "    x='tiene_tres_missing',\n",
    "    y='tiene_alto_valor_adquisitivo')\n",
    "\n",
    "plt.ylabel(\"Tiene alto valor adquisitivo\")\n",
    "plt.xlabel(\"Hay tres missings\")\n",
    "plt.title('Relación entre los que tienen 3 missings y el poder adquisitivo')\n",
    "prom = df['tiene_alto_valor_adquisitivo'].mean()\n",
    "plt.axhline(prom, color=\"darkred\", label=\"Promedio de personas con alto VA\")\n",
    "plt.legend()\n",
    "plt.show()\n"
   ]
  },
  {
   "cell_type": "markdown",
   "id": "997c116b",
   "metadata": {},
   "source": [
    "Como podemos ver el grupo que presenta 3 missing (en las categorias de barrio, categoria de trabajo y trabajo) no presenta informacion significativa que nos permita determinar el alto valor adquisitivo devido a su gran varianza. Es por ello que decidimos eliminarlos..."
   ]
  },
  {
   "cell_type": "code",
   "execution_count": 7,
   "id": "5e269eb9",
   "metadata": {},
   "outputs": [
    {
     "data": {
      "text/html": [
       "<div>\n",
       "<style scoped>\n",
       "    .dataframe tbody tr th:only-of-type {\n",
       "        vertical-align: middle;\n",
       "    }\n",
       "\n",
       "    .dataframe tbody tr th {\n",
       "        vertical-align: top;\n",
       "    }\n",
       "\n",
       "    .dataframe thead th {\n",
       "        text-align: right;\n",
       "    }\n",
       "</style>\n",
       "<table border=\"1\" class=\"dataframe\">\n",
       "  <thead>\n",
       "    <tr style=\"text-align: right;\">\n",
       "      <th></th>\n",
       "      <th>anios_estudiados</th>\n",
       "      <th>barrio</th>\n",
       "      <th>categoria_de_trabajo</th>\n",
       "      <th>edad</th>\n",
       "      <th>educacion_alcanzada</th>\n",
       "      <th>estado_marital</th>\n",
       "      <th>ganancia_perdida_declarada_bolsa_argentina</th>\n",
       "      <th>genero</th>\n",
       "      <th>horas_trabajo_registradas</th>\n",
       "      <th>religion</th>\n",
       "      <th>rol_familiar_registrado</th>\n",
       "      <th>tiene_alto_valor_adquisitivo</th>\n",
       "      <th>trabajo</th>\n",
       "    </tr>\n",
       "  </thead>\n",
       "  <tbody>\n",
       "    <tr>\n",
       "      <th>0</th>\n",
       "      <td>17</td>\n",
       "      <td>Palermo</td>\n",
       "      <td>empleado_provincial</td>\n",
       "      <td>39</td>\n",
       "      <td>universidad_3_anio</td>\n",
       "      <td>sin_matrimonio</td>\n",
       "      <td>2174</td>\n",
       "      <td>hombre</td>\n",
       "      <td>40</td>\n",
       "      <td>cristianismo</td>\n",
       "      <td>sin_familia</td>\n",
       "      <td>0</td>\n",
       "      <td>entretenimiento</td>\n",
       "    </tr>\n",
       "    <tr>\n",
       "      <th>1</th>\n",
       "      <td>17</td>\n",
       "      <td>Palermo</td>\n",
       "      <td>monotibutista</td>\n",
       "      <td>50</td>\n",
       "      <td>universidad_3_anio</td>\n",
       "      <td>matrimonio_civil</td>\n",
       "      <td>0</td>\n",
       "      <td>hombre</td>\n",
       "      <td>13</td>\n",
       "      <td>cristianismo</td>\n",
       "      <td>casado</td>\n",
       "      <td>0</td>\n",
       "      <td>directivo_gerente</td>\n",
       "    </tr>\n",
       "    <tr>\n",
       "      <th>2</th>\n",
       "      <td>13</td>\n",
       "      <td>Palermo</td>\n",
       "      <td>relacion_de_dependencia</td>\n",
       "      <td>38</td>\n",
       "      <td>4_anio</td>\n",
       "      <td>divorciado</td>\n",
       "      <td>0</td>\n",
       "      <td>hombre</td>\n",
       "      <td>40</td>\n",
       "      <td>cristianismo</td>\n",
       "      <td>sin_familia</td>\n",
       "      <td>0</td>\n",
       "      <td>limpiador</td>\n",
       "    </tr>\n",
       "    <tr>\n",
       "      <th>3</th>\n",
       "      <td>11</td>\n",
       "      <td>Palermo</td>\n",
       "      <td>relacion_de_dependencia</td>\n",
       "      <td>53</td>\n",
       "      <td>2_anio</td>\n",
       "      <td>matrimonio_civil</td>\n",
       "      <td>0</td>\n",
       "      <td>hombre</td>\n",
       "      <td>40</td>\n",
       "      <td>judaismo</td>\n",
       "      <td>casado</td>\n",
       "      <td>0</td>\n",
       "      <td>limpiador</td>\n",
       "    </tr>\n",
       "    <tr>\n",
       "      <th>4</th>\n",
       "      <td>17</td>\n",
       "      <td>Balvanera</td>\n",
       "      <td>relacion_de_dependencia</td>\n",
       "      <td>28</td>\n",
       "      <td>universidad_3_anio</td>\n",
       "      <td>matrimonio_civil</td>\n",
       "      <td>0</td>\n",
       "      <td>mujer</td>\n",
       "      <td>40</td>\n",
       "      <td>judaismo</td>\n",
       "      <td>casada</td>\n",
       "      <td>0</td>\n",
       "      <td>profesional_especializado</td>\n",
       "    </tr>\n",
       "    <tr>\n",
       "      <th>...</th>\n",
       "      <td>...</td>\n",
       "      <td>...</td>\n",
       "      <td>...</td>\n",
       "      <td>...</td>\n",
       "      <td>...</td>\n",
       "      <td>...</td>\n",
       "      <td>...</td>\n",
       "      <td>...</td>\n",
       "      <td>...</td>\n",
       "      <td>...</td>\n",
       "      <td>...</td>\n",
       "      <td>...</td>\n",
       "      <td>...</td>\n",
       "    </tr>\n",
       "    <tr>\n",
       "      <th>32556</th>\n",
       "      <td>16</td>\n",
       "      <td>Palermo</td>\n",
       "      <td>relacion_de_dependencia</td>\n",
       "      <td>27</td>\n",
       "      <td>universidad_2_anio</td>\n",
       "      <td>matrimonio_civil</td>\n",
       "      <td>0</td>\n",
       "      <td>mujer</td>\n",
       "      <td>38</td>\n",
       "      <td>cristianismo</td>\n",
       "      <td>casada</td>\n",
       "      <td>0</td>\n",
       "      <td>soporte_tecnico</td>\n",
       "    </tr>\n",
       "    <tr>\n",
       "      <th>32557</th>\n",
       "      <td>13</td>\n",
       "      <td>Palermo</td>\n",
       "      <td>relacion_de_dependencia</td>\n",
       "      <td>40</td>\n",
       "      <td>4_anio</td>\n",
       "      <td>matrimonio_civil</td>\n",
       "      <td>0</td>\n",
       "      <td>hombre</td>\n",
       "      <td>40</td>\n",
       "      <td>cristianismo</td>\n",
       "      <td>casado</td>\n",
       "      <td>1</td>\n",
       "      <td>inspector</td>\n",
       "    </tr>\n",
       "    <tr>\n",
       "      <th>32558</th>\n",
       "      <td>13</td>\n",
       "      <td>Palermo</td>\n",
       "      <td>relacion_de_dependencia</td>\n",
       "      <td>58</td>\n",
       "      <td>4_anio</td>\n",
       "      <td>viudo_a</td>\n",
       "      <td>0</td>\n",
       "      <td>mujer</td>\n",
       "      <td>40</td>\n",
       "      <td>cristianismo</td>\n",
       "      <td>soltero_a</td>\n",
       "      <td>0</td>\n",
       "      <td>entretenimiento</td>\n",
       "    </tr>\n",
       "    <tr>\n",
       "      <th>32559</th>\n",
       "      <td>13</td>\n",
       "      <td>Palermo</td>\n",
       "      <td>relacion_de_dependencia</td>\n",
       "      <td>22</td>\n",
       "      <td>4_anio</td>\n",
       "      <td>sin_matrimonio</td>\n",
       "      <td>0</td>\n",
       "      <td>hombre</td>\n",
       "      <td>20</td>\n",
       "      <td>cristianismo</td>\n",
       "      <td>con_hijos</td>\n",
       "      <td>0</td>\n",
       "      <td>entretenimiento</td>\n",
       "    </tr>\n",
       "    <tr>\n",
       "      <th>32560</th>\n",
       "      <td>13</td>\n",
       "      <td>Palermo</td>\n",
       "      <td>responsable_inscripto</td>\n",
       "      <td>52</td>\n",
       "      <td>4_anio</td>\n",
       "      <td>matrimonio_civil</td>\n",
       "      <td>15024</td>\n",
       "      <td>mujer</td>\n",
       "      <td>40</td>\n",
       "      <td>cristianismo</td>\n",
       "      <td>casada</td>\n",
       "      <td>1</td>\n",
       "      <td>directivo_gerente</td>\n",
       "    </tr>\n",
       "  </tbody>\n",
       "</table>\n",
       "<p>32527 rows × 13 columns</p>\n",
       "</div>"
      ],
      "text/plain": [
       "       anios_estudiados     barrio     categoria_de_trabajo  edad  \\\n",
       "0                    17    Palermo      empleado_provincial    39   \n",
       "1                    17    Palermo            monotibutista    50   \n",
       "2                    13    Palermo  relacion_de_dependencia    38   \n",
       "3                    11    Palermo  relacion_de_dependencia    53   \n",
       "4                    17  Balvanera  relacion_de_dependencia    28   \n",
       "...                 ...        ...                      ...   ...   \n",
       "32556                16    Palermo  relacion_de_dependencia    27   \n",
       "32557                13    Palermo  relacion_de_dependencia    40   \n",
       "32558                13    Palermo  relacion_de_dependencia    58   \n",
       "32559                13    Palermo  relacion_de_dependencia    22   \n",
       "32560                13    Palermo    responsable_inscripto    52   \n",
       "\n",
       "      educacion_alcanzada    estado_marital  \\\n",
       "0      universidad_3_anio    sin_matrimonio   \n",
       "1      universidad_3_anio  matrimonio_civil   \n",
       "2                  4_anio        divorciado   \n",
       "3                  2_anio  matrimonio_civil   \n",
       "4      universidad_3_anio  matrimonio_civil   \n",
       "...                   ...               ...   \n",
       "32556  universidad_2_anio  matrimonio_civil   \n",
       "32557              4_anio  matrimonio_civil   \n",
       "32558              4_anio           viudo_a   \n",
       "32559              4_anio    sin_matrimonio   \n",
       "32560              4_anio  matrimonio_civil   \n",
       "\n",
       "       ganancia_perdida_declarada_bolsa_argentina  genero  \\\n",
       "0                                            2174  hombre   \n",
       "1                                               0  hombre   \n",
       "2                                               0  hombre   \n",
       "3                                               0  hombre   \n",
       "4                                               0   mujer   \n",
       "...                                           ...     ...   \n",
       "32556                                           0   mujer   \n",
       "32557                                           0  hombre   \n",
       "32558                                           0   mujer   \n",
       "32559                                           0  hombre   \n",
       "32560                                       15024   mujer   \n",
       "\n",
       "       horas_trabajo_registradas      religion rol_familiar_registrado  \\\n",
       "0                             40  cristianismo             sin_familia   \n",
       "1                             13  cristianismo                  casado   \n",
       "2                             40  cristianismo             sin_familia   \n",
       "3                             40      judaismo                  casado   \n",
       "4                             40      judaismo                  casada   \n",
       "...                          ...           ...                     ...   \n",
       "32556                         38  cristianismo                  casada   \n",
       "32557                         40  cristianismo                  casado   \n",
       "32558                         40  cristianismo               soltero_a   \n",
       "32559                         20  cristianismo               con_hijos   \n",
       "32560                         40  cristianismo                  casada   \n",
       "\n",
       "       tiene_alto_valor_adquisitivo                    trabajo  \n",
       "0                                 0            entretenimiento  \n",
       "1                                 0          directivo_gerente  \n",
       "2                                 0                  limpiador  \n",
       "3                                 0                  limpiador  \n",
       "4                                 0  profesional_especializado  \n",
       "...                             ...                        ...  \n",
       "32556                             0            soporte_tecnico  \n",
       "32557                             1                  inspector  \n",
       "32558                             0            entretenimiento  \n",
       "32559                             0            entretenimiento  \n",
       "32560                             1          directivo_gerente  \n",
       "\n",
       "[32527 rows x 13 columns]"
      ]
     },
     "execution_count": 7,
     "metadata": {},
     "output_type": "execute_result"
    }
   ],
   "source": [
    "df.drop(df_3_missings.index, inplace = True)\n",
    "df"
   ]
  },
  {
   "cell_type": "markdown",
   "id": "389dcbfb",
   "metadata": {},
   "source": [
    "Vemos que los missings de trabajo se corresponden con los de categoria de trabajo"
   ]
  },
  {
   "cell_type": "code",
   "execution_count": 8,
   "id": "60a69919",
   "metadata": {},
   "outputs": [
    {
     "data": {
      "text/plain": [
       "anios_estudiados                                 0\n",
       "barrio                                         556\n",
       "categoria_de_trabajo                          1809\n",
       "edad                                             0\n",
       "educacion_alcanzada                              0\n",
       "estado_marital                                   0\n",
       "ganancia_perdida_declarada_bolsa_argentina       0\n",
       "genero                                           0\n",
       "horas_trabajo_registradas                        0\n",
       "religion                                         0\n",
       "rol_familiar_registrado                          0\n",
       "tiene_alto_valor_adquisitivo                     0\n",
       "trabajo                                       1809\n",
       "dtype: int64"
      ]
     },
     "execution_count": 8,
     "metadata": {},
     "output_type": "execute_result"
    }
   ],
   "source": [
    "df.isnull().sum()"
   ]
  },
  {
   "cell_type": "code",
   "execution_count": 9,
   "id": "5d4e35ae",
   "metadata": {},
   "outputs": [
    {
     "data": {
      "image/png": "[encoded data removed]",
      "text/plain": [
       "<Figure size 600x400 with 1 Axes>"
      ]
     },
     "metadata": {
      "needs_background": "light"
     },
     "output_type": "display_data"
    }
   ],
   "source": [
    "df_con_trabajo = df[['categoria_de_trabajo','tiene_alto_valor_adquisitivo','trabajo']].copy()\n",
    "lista = df[['categoria_de_trabajo','trabajo']].notnull().values.tolist()\n",
    "df_con_trabajo['contesto_trabajo'] = ['No contesto' if not x[0] and not x[1] else 'Si contesto' for x in lista]\n",
    "\n",
    "plt.figure(dpi=100)\n",
    "\n",
    "ax = sns.barplot(\n",
    "    data=df_con_trabajo,\n",
    "    x='contesto_trabajo',\n",
    "     y='tiene_alto_valor_adquisitivo')\n",
    "\n",
    "plt.ylabel(\"Tiene alto valor adquisitivo\")\n",
    "plt.xlabel(\"Contesto trabajo\")\n",
    "plt.title('Relación entre si contesto trabajo y poder adquisitivo')\n",
    "prom = df['tiene_alto_valor_adquisitivo'].mean()\n",
    "plt.axhline(prom, color=\"darkred\", label=\"Promedio de personas con alto VA\")\n",
    "plt.legend()\n",
    "plt.show()"
   ]
  },
  {
   "cell_type": "markdown",
   "id": "5d889545",
   "metadata": {},
   "source": [
    "Como podemos ver con el grafico todos las persona que no contestaron tiene una tendencia a poseer menor poder adquisitivo. De modo que genera un impacto en nuetros datos, lo mas conveniente es crear una nueva categoria (No contesto) y englobar todas estar persona en este nuevo campo."
   ]
  },
  {
   "cell_type": "code",
   "execution_count": 10,
   "id": "61ee3e9b",
   "metadata": {},
   "outputs": [
    {
     "data": {
      "image/png": "[encoded data removed]",
      "text/plain": [
       "<Figure size 600x400 with 1 Axes>"
      ]
     },
     "metadata": {
      "needs_background": "light"
     },
     "output_type": "display_data"
    }
   ],
   "source": [
    "df_tiene_categoria_de_trabajo = df[['categoria_de_trabajo', 'tiene_alto_valor_adquisitivo']].copy()\n",
    "df_tiene_categoria_de_trabajo['categoria_de_trabajo'] = df['categoria_de_trabajo'].notnull().apply(lambda x: 'Contesto' if x else 'No contesto')\n",
    "\n",
    "plt.figure(dpi=100)\n",
    "\n",
    "ax = sns.barplot(\n",
    "    data=df_tiene_categoria_de_trabajo,\n",
    "    x='categoria_de_trabajo',\n",
    "     y='tiene_alto_valor_adquisitivo')\n",
    "\n",
    "plt.ylabel(\"Tiene alto valor adquisitivo\")\n",
    "plt.xlabel(\"Tipo de categoria\")\n",
    "plt.title('Relación entre la categoriade trabajo y poder adquisitivo')\n",
    "prom = df['tiene_alto_valor_adquisitivo'].mean()\n",
    "plt.axhline(prom, color=\"darkred\", label=\"Promedio de personas con alto VA\")\n",
    "plt.legend()\n",
    "plt.show()"
   ]
  },
  {
   "cell_type": "code",
   "execution_count": 11,
   "id": "a8132ad9",
   "metadata": {},
   "outputs": [
    {
     "data": {
      "text/plain": [
       "False"
      ]
     },
     "execution_count": 11,
     "metadata": {},
     "output_type": "execute_result"
    }
   ],
   "source": [
    "df = df.replace({'trabajo': np.nan, 'categoria_de_trabajo': np.nan},'No contesto')\n",
    "df['trabajo'].isna().any() "
   ]
  },
  {
   "cell_type": "markdown",
   "id": "1986c84f",
   "metadata": {},
   "source": [
    "Tambien podemos notar que eduacion alzancada y anios estudidados nos aportan la misma informacion.(Luego ponder el mapeo)"
   ]
  },
  {
   "cell_type": "code",
   "execution_count": 12,
   "id": "667909df",
   "metadata": {},
   "outputs": [],
   "source": [
    "df = df.drop(['educacion_alcanzada'],axis=1)"
   ]
  },
  {
   "cell_type": "markdown",
   "id": "d234a3e4",
   "metadata": {},
   "source": [
    "Nos fijamos si siguen habiendo missings"
   ]
  },
  {
   "cell_type": "code",
   "execution_count": 13,
   "id": "5da9d1bc",
   "metadata": {},
   "outputs": [
    {
     "data": {
      "text/plain": [
       "anios_estudiados                                0\n",
       "barrio                                        556\n",
       "categoria_de_trabajo                            0\n",
       "edad                                            0\n",
       "estado_marital                                  0\n",
       "ganancia_perdida_declarada_bolsa_argentina      0\n",
       "genero                                          0\n",
       "horas_trabajo_registradas                       0\n",
       "religion                                        0\n",
       "rol_familiar_registrado                         0\n",
       "tiene_alto_valor_adquisitivo                    0\n",
       "trabajo                                         0\n",
       "dtype: int64"
      ]
     },
     "execution_count": 13,
     "metadata": {},
     "output_type": "execute_result"
    }
   ],
   "source": [
    "df.isnull().sum()"
   ]
  },
  {
   "cell_type": "code",
   "execution_count": 14,
   "id": "8157911b",
   "metadata": {},
   "outputs": [
    {
     "data": {
      "image/png": "[encoded data removed]",
      "text/plain": [
       "<Figure size 600x400 with 1 Axes>"
      ]
     },
     "metadata": {
      "needs_background": "light"
     },
     "output_type": "display_data"
    }
   ],
   "source": [
    "df_con_barrio = df[['barrio','tiene_alto_valor_adquisitivo']].copy()\n",
    "lista = df['barrio'].notnull().values.tolist()\n",
    "df_con_barrio['contesto_barrio'] = ['No contesto' if not x else 'Si contesto' for x in lista]\n",
    "\n",
    "plt.figure(dpi=100)\n",
    "\n",
    "ax = sns.barplot(\n",
    "    data=df_con_barrio,\n",
    "    x='contesto_barrio',\n",
    "    y='tiene_alto_valor_adquisitivo')\n",
    "\n",
    "plt.ylabel(\"Tiene alto valor adquisitivo\")\n",
    "plt.xlabel(\"Contesto barrio\")\n",
    "plt.title('Relación entre si contesto barrio y poder adquisitivo')\n",
    "prom = df['tiene_alto_valor_adquisitivo'].mean()\n",
    "plt.axhline(prom, color=\"darkred\", label=\"Promedio de personas con alto VA\")\n",
    "plt.legend()\n",
    "plt.show()"
   ]
  },
  {
   "cell_type": "markdown",
   "id": "78047268",
   "metadata": {},
   "source": [
    "Como se puede observar son similares, es por ello que se decide remplazar por la media en este caso"
   ]
  },
  {
   "cell_type": "code",
   "execution_count": 15,
   "id": "0ac35ecb",
   "metadata": {},
   "outputs": [],
   "source": [
    "df = df.replace({'barrio': np.nan},'Palermo')"
   ]
  },
  {
   "cell_type": "code",
   "execution_count": 16,
   "id": "08e7741c",
   "metadata": {},
   "outputs": [
    {
     "data": {
      "text/plain": [
       "anios_estudiados                              0\n",
       "barrio                                        0\n",
       "categoria_de_trabajo                          0\n",
       "edad                                          0\n",
       "estado_marital                                0\n",
       "ganancia_perdida_declarada_bolsa_argentina    0\n",
       "genero                                        0\n",
       "horas_trabajo_registradas                     0\n",
       "religion                                      0\n",
       "rol_familiar_registrado                       0\n",
       "tiene_alto_valor_adquisitivo                  0\n",
       "trabajo                                       0\n",
       "dtype: int64"
      ]
     },
     "execution_count": 16,
     "metadata": {},
     "output_type": "execute_result"
    }
   ],
   "source": [
    "df.isnull().sum()"
   ]
  },
  {
   "cell_type": "code",
   "execution_count": 17,
   "id": "28842847",
   "metadata": {},
   "outputs": [],
   "source": [
    "mapa = {'Palermo' : 'C14',\n",
    "'Belgrano' : 'C13',\n",
    "'San Isidro' : 'San Isidro',\n",
    "'Villa Urquiza' : 'C12',\n",
    "'Recoleta' : 'C2',\n",
    "'La Boca' : 'C4',\n",
    "'Agronomia' : 'C15',\n",
    "'Almagro' : 'C5',\n",
    "'Balvanera' : 'C3',\n",
    "'Puerto Madero' : 'C1',\n",
    "'Caballito' : 'C6',\n",
    "'Boedo' : 'C5',\n",
    "'Barracas' : 'C4',\n",
    "'Chacarita' : 'C15',\n",
    "'Coghland' : 'C12',\n",
    "'Floresta' : 'C10',\n",
    "'Constitucion' : 'C1',\n",
    "'Colegiales' : 'C13',\n",
    "'Flores' : 'C7',\n",
    "'Liniers' : 'C9',\n",
    "'Monte Castro' : 'C10',\n",
    "'Mataderos' : 'C9',\n",
    "'Nueva Pompeya' : 'C4',\n",
    "'Monserrat' : 'C1',\n",
    "'nuñez' : 'C13',\n",
    "'Parque Chacabuco' : 'C7',\n",
    "'Parque Avellaneda' : 'C9',\n",
    "'Villa Luro' : 'C10',\n",
    "'Parque Chas' : 'C15',\n",
    "'La Paternal' : 'C15',\n",
    "'Retiro' : 'C1',\n",
    "'Villa Devoto' : 'C11',\n",
    "'Villa Soldati' : 'C8',\n",
    "'San Telmo' : 'C1',\n",
    "'Villa Real' : 'C10',\n",
    "'Santa Rita' : 'C11',\n",
    "'Villa General Mitre' : 'C11',\n",
    "'Versalles' : 'C10',\n",
    "'Velez Sarsfield' : 'C10',\n",
    "'Villa Pueyrredon' : 'C12',\n",
    "'Cilla Riachuelo' : 'C8'}\n",
    "\n",
    "df['comuna'] = df['barrio'].apply(lambda x: mapa.get(x))"
   ]
  }
 ],
 "metadata": {
  "kernelspec": {
   "display_name": "Python 3",
   "language": "python",
   "name": "python3"
  },
  "language_info": {
   "codemirror_mode": {
    "name": "ipython",
    "version": 3
   },
   "file_extension": ".py",
   "mimetype": "text/x-python",
   "name": "python",
   "nbconvert_exporter": "python",
   "pygments_lexer": "ipython3",
   "version": "3.8.5"
  }
 },
 "nbformat": 4,
 "nbformat_minor": 5
}
