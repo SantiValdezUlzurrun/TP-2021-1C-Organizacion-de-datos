{
 "cells": [
  {
   "cell_type": "markdown",
   "id": "0cf3aaa5",
   "metadata": {},
   "source": [
    "# 2021-1C TP FIUFIP: Que No Se Escape Nadie\n",
    "\n",
    "## Consideraciones iniciales\n",
    "\n",
    "Inicialmente se clasificaron a las variables en influyentes o no, segun consideraciones a priori\n",
    "\n",
    "#### Influye en altos o bajos ingresos\n",
    "\n",
    "- años estudiados\n",
    "- categoria de trabajo\n",
    "- edad (Ya sea por experiencia o falta de estudio)\n",
    "- estado marital\n",
    "- horas_de_trabajo_registradas\n",
    "- trabajo\n",
    "\n",
    "#### No deberia influir\n",
    "\n",
    "- Genero\n",
    "- Barrio\n",
    "- Religion\n",
    "\n",
    "#### Primeras observaciones\n",
    "\n",
    "Ademas de anotarse observaciones interesantes\n",
    "\n",
    "- Barrio mas del 90% es de Palermo\n",
    "- Anios estudiados es un mapa de educacion alcanzada\n",
    "- ganancia_perdida_declarada_bolsa_argentina el 87% es cero\n",
    "- El 85% le gusta Jesus\n",
    "- Probablemente rol_familiar y estado_marital esten relacionadas\n"
   ]
  },
  {
   "cell_type": "markdown",
   "id": "918c2b84",
   "metadata": {},
   "source": [
    "## Feature Engineering"
   ]
  },
  {
   "cell_type": "code",
   "execution_count": null,
   "id": "2b8c9a96",
   "metadata": {},
   "outputs": [],
   "source": [
    "%run Secciones/feature_engineering.ipynb"
   ]
  },
  {
   "cell_type": "markdown",
   "id": "b839c416",
   "metadata": {},
   "source": [
    "# Analisis de las consideraciones iniciales"
   ]
  },
  {
   "cell_type": "markdown",
   "id": "bc5239b8",
   "metadata": {},
   "source": [
    "### edad\n"
   ]
  },
  {
   "cell_type": "code",
   "execution_count": null,
   "id": "42c1268a",
   "metadata": {},
   "outputs": [],
   "source": [
    "%run Variables/edad.ipynb"
   ]
  },
  {
   "cell_type": "markdown",
   "id": "62938cb0",
   "metadata": {},
   "source": [
    "### anios_estudiados"
   ]
  },
  {
   "cell_type": "code",
   "execution_count": null,
   "id": "cec168fb",
   "metadata": {},
   "outputs": [],
   "source": [
    "%run \"Variables/anios_estudiados.ipynb\""
   ]
  },
  {
   "cell_type": "markdown",
   "id": "b4188bdf",
   "metadata": {},
   "source": [
    "### horas_de_trabajo"
   ]
  },
  {
   "cell_type": "code",
   "execution_count": null,
   "id": "4a61098a",
   "metadata": {},
   "outputs": [],
   "source": [
    "%run Variables/horas_de_trabajo.ipynb"
   ]
  },
  {
   "cell_type": "markdown",
   "id": "8225dbbe",
   "metadata": {},
   "source": [
    "### Estado Marital y rol familiar"
   ]
  },
  {
   "cell_type": "code",
   "execution_count": null,
   "id": "ecf7ebae",
   "metadata": {},
   "outputs": [],
   "source": [
    "%run Variables/estado_marital.ipynb"
   ]
  },
  {
   "cell_type": "markdown",
   "id": "df8fa8bc",
   "metadata": {},
   "source": [
    "### Barrio"
   ]
  },
  {
   "cell_type": "code",
   "execution_count": null,
   "id": "44009598",
   "metadata": {},
   "outputs": [],
   "source": [
    "%run Variables/barrio.ipynb"
   ]
  },
  {
   "cell_type": "markdown",
   "id": "beb16fa7",
   "metadata": {},
   "source": [
    "### Religion"
   ]
  },
  {
   "cell_type": "code",
   "execution_count": null,
   "id": "9a852dcc",
   "metadata": {},
   "outputs": [],
   "source": [
    "%run Variables/religion.ipynb"
   ]
  },
  {
   "cell_type": "markdown",
   "id": "e8a58f69",
   "metadata": {},
   "source": [
    "### Genero"
   ]
  },
  {
   "cell_type": "code",
   "execution_count": null,
   "id": "98267ab8",
   "metadata": {},
   "outputs": [],
   "source": [
    "%run Variables/genero.ipynb"
   ]
  },
  {
   "cell_type": "markdown",
   "id": "f50062a0",
   "metadata": {},
   "source": [
    "### "
   ]
  },
  {
   "cell_type": "code",
   "execution_count": null,
   "id": "9cdc92dc",
   "metadata": {},
   "outputs": [],
   "source": []
  }
 ],
 "metadata": {
  "kernelspec": {
   "display_name": "Python 3",
   "language": "python",
   "name": "python3"
  },
  "language_info": {
   "codemirror_mode": {
    "name": "ipython",
    "version": 3
   },
   "file_extension": ".py",
   "mimetype": "text/x-python",
   "name": "python",
   "nbconvert_exporter": "python",
   "pygments_lexer": "ipython3",
   "version": "3.8.5"
  }
 },
 "nbformat": 4,
 "nbformat_minor": 5
}
