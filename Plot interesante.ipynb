{
 "cells": [
  {
   "cell_type": "code",
   "execution_count": 1,
   "id": "e2b46fc2",
   "metadata": {},
   "outputs": [
    {
     "ename": "NameError",
     "evalue": "name 'plt' is not defined",
     "output_type": "error",
     "traceback": [
      "\u001b[0;31m---------------------------------------------------------------------------\u001b[0m",
      "\u001b[0;31mNameError\u001b[0m                                 Traceback (most recent call last)",
      "\u001b[0;32m<ipython-input-1-5ed7220c90b5>\u001b[0m in \u001b[0;36m<module>\u001b[0;34m\u001b[0m\n\u001b[0;32m----> 1\u001b[0;31m \u001b[0mfig\u001b[0m\u001b[0;34m,\u001b[0m \u001b[0maxes\u001b[0m \u001b[0;34m=\u001b[0m \u001b[0mplt\u001b[0m\u001b[0;34m.\u001b[0m\u001b[0msubplots\u001b[0m\u001b[0;34m(\u001b[0m\u001b[0mnrows\u001b[0m\u001b[0;34m=\u001b[0m\u001b[0;36m1\u001b[0m\u001b[0;34m,\u001b[0m \u001b[0mncols\u001b[0m\u001b[0;34m=\u001b[0m\u001b[0;36m2\u001b[0m\u001b[0;34m,\u001b[0m \u001b[0mfigsize\u001b[0m\u001b[0;34m=\u001b[0m\u001b[0;34m[\u001b[0m\u001b[0;36m6.4\u001b[0m \u001b[0;34m*\u001b[0m \u001b[0;36m2\u001b[0m\u001b[0;34m,\u001b[0m \u001b[0;36m4.8\u001b[0m\u001b[0;34m]\u001b[0m\u001b[0;34m,\u001b[0m \u001b[0mdpi\u001b[0m\u001b[0;34m=\u001b[0m\u001b[0;36m100\u001b[0m\u001b[0;34m)\u001b[0m\u001b[0;34m\u001b[0m\u001b[0;34m\u001b[0m\u001b[0m\n\u001b[0m\u001b[1;32m      2\u001b[0m \u001b[0;34m\u001b[0m\u001b[0m\n\u001b[1;32m      3\u001b[0m \u001b[0mdf_temp\u001b[0m \u001b[0;34m=\u001b[0m \u001b[0mdf\u001b[0m\u001b[0;34m.\u001b[0m\u001b[0mcopy\u001b[0m\u001b[0;34m(\u001b[0m\u001b[0;34m)\u001b[0m\u001b[0;34m\u001b[0m\u001b[0;34m\u001b[0m\u001b[0m\n\u001b[1;32m      4\u001b[0m \u001b[0;34m\u001b[0m\u001b[0m\n\u001b[1;32m      5\u001b[0m \u001b[0mdf_temp\u001b[0m\u001b[0;34m[\u001b[0m\u001b[0;34m'unos'\u001b[0m\u001b[0;34m]\u001b[0m \u001b[0;34m=\u001b[0m \u001b[0;34m[\u001b[0m\u001b[0;36m1\u001b[0m\u001b[0;34m]\u001b[0m \u001b[0;34m*\u001b[0m \u001b[0;36m32527\u001b[0m\u001b[0;34m\u001b[0m\u001b[0;34m\u001b[0m\u001b[0m\n",
      "\u001b[0;31mNameError\u001b[0m: name 'plt' is not defined"
     ]
    }
   ],
   "source": [
    "fig, axes = plt.subplots(nrows=1, ncols=2, figsize=[6.4 * 2, 4.8], dpi=100)\n",
    "\n",
    "df_temp = df.copy()\n",
    "\n",
    "df_temp['unos'] = [1] * 32527\n",
    "df_estado_marital= pd.pivot_table(\n",
    "    df_temp,\n",
    "    'unos',\n",
    "    'estado_marital',\n",
    "    'trabajo',\n",
    "    'count',\n",
    "    total.sort_values('tiene_alto_valor_adquisitivo', ascending = False)['trabajo']\n",
    ").sort_index()\n",
    "#Elimino intersecciones nulas\n",
    "df_estado_marital = df_estado_marital.replace({np.nan: 0})\n",
    "\n",
    "\n",
    "\n",
    "sns.heatmap(df_estado_marital, square=True, cmap=\"Wistia\", ax = axes[0])\n",
    "axes[0].set(xlabel='Trabajo', ylabel='Estado Marital', title='Correlacion entre Trabajo y Estado marital')\n",
    "\n",
    "\n",
    "df_matrimonio = df[df['estado_marital'] 1= 'matrimonio']\n",
    "\n",
    "total = df_matrimonio.groupby('trabajo')['tiene_alto_valor_adquisitivo'].sum().reset_index()\n",
    "alto_valor = df_matrimonio[df_matrimonio.tiene_alto_valor_adquisitivo == 1].groupby('trabajo')['tiene_alto_valor_adquisitivo'].sum().reset_index()\n",
    "\n",
    "alto_valor['tiene_alto_valor_adquisitivo'] = df_matrimonio[df_matrimonio.tiene_alto_valor_adquisitivo == 1].groupby('trabajo')['tiene_alto_valor_adquisitivo'].sum().reset_index()['tiene_alto_valor_adquisitivo'].tolist()\n",
    "total['tiene_alto_valor_adquisitivo'] = df_matrimonio.groupby('trabajo')['anios_estudiados'].apply(lambda x: len(x)).tolist()\n",
    "\n",
    "\n",
    "bar1 = sns.barplot(y=\"tiene_alto_valor_adquisitivo\",  \n",
    "                   x=\"trabajo\", data=total, \n",
    "                   color='#D17049', \n",
    "                   order = total.sort_values('tiene_alto_valor_adquisitivo', ascending = False)['trabajo'],\n",
    "                   ax = axes[1])\n",
    "\n",
    "bar2 = sns.barplot(y=\"tiene_alto_valor_adquisitivo\", \n",
    "                   x=\"trabajo\", data=alto_valor, \n",
    "                   color='#89D15E', \n",
    "                   order = total.sort_values('tiene_alto_valor_adquisitivo', ascending = False)['trabajo'],\n",
    "                   ax = axes[1])\n",
    "\n",
    "top_bar = mpatches.Patch(color='#D17049', label='No')\n",
    "bottom_bar = mpatches.Patch(color='#89D15E', label='Si')\n",
    "axes[1].legend(handles=[top_bar, bottom_bar])\n",
    "axes[1].set(xlabel = 'Trabajo', ylabel= 'Cantidad de personas', title = 'Cantidad de personas casadas por trabajo')\n",
    "bar1.set_xticklabels(bar1.get_xticklabels(),rotation=90)\n",
    "bar2.set_xticklabels(bar2.get_xticklabels(),rotation=90)\n",
    "\n",
    "plt.show()"
   ]
  }
 ],
 "metadata": {
  "kernelspec": {
   "display_name": "Python 3",
   "language": "python",
   "name": "python3"
  },
  "language_info": {
   "codemirror_mode": {
    "name": "ipython",
    "version": 3
   },
   "file_extension": ".py",
   "mimetype": "text/x-python",
   "name": "python",
   "nbconvert_exporter": "python",
   "pygments_lexer": "ipython3",
   "version": "3.8.5"
  }
 },
 "nbformat": 4,
 "nbformat_minor": 5
}
