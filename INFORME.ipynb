{
 "cells": [
  {
   "cell_type": "markdown",
   "id": "6000835c",
   "metadata": {},
   "source": [
    "# Trabajo Practico 1 - Que No Se Escape Nadie (?)"
   ]
  },
  {
   "cell_type": "markdown",
   "id": "9947d333",
   "metadata": {},
   "source": [
    "# Introduccion:"
   ]
  },
  {
   "cell_type": "markdown",
   "id": "b8318877",
   "metadata": {},
   "source": [
    "En el presente trabajo se analizara una base de datos de la empresa FIUBAFIP con el objetivo de entender la informacion que fue recolectada y poder predecir aquellas personas que tiene alto o bajo poder adquisitivo. \n",
    "\n",
    "### Objetivos:\n",
    "\n",
    "- Entender la base de datos.\n",
    "- Ver cómo los datos se relacionan entre si.\n",
    "- Poder sacar alguna conclusión o descubrir un patrón a partir de estos.\n",
    "- Indicar cuáles son los factores más importantes que determinan el poder adquisitivo de una persona.\n",
    "- Poder llegar a armar un baseline"
   ]
  },
  {
   "cell_type": "markdown",
   "id": "70a85642",
   "metadata": {},
   "source": [
    "## Bibliotecas utilizadas:"
   ]
  },
  {
   "cell_type": "code",
   "execution_count": 1,
   "id": "b735d6e2",
   "metadata": {},
   "outputs": [],
   "source": [
    "import numpy as np\n",
    "import pandas as pd\n",
    "import matplotlib\n",
    "import seaborn as sns\n",
    "from matplotlib import pyplot as plt"
   ]
  },
  {
   "cell_type": "markdown",
   "id": "836757ce",
   "metadata": {},
   "source": [
    "## Feature enginner:"
   ]
  },
  {
   "cell_type": "code",
   "execution_count": 2,
   "id": "06c6eb6a",
   "metadata": {},
   "outputs": [],
   "source": [
    "GSPREADHSEET_DOWNLOAD_URL = (\"https://docs.google.com/spreadsheets/d/{gid}/export?format=csv&id={gid}\".format)\n",
    "FIUFIP_GID = '1-DWTP8uwVS-dZY402-dm0F9ICw_6PNqDGLmH0u8Eqa0'\n",
    "df = pd.read_csv(GSPREADHSEET_DOWNLOAD_URL(gid=FIUFIP_GID), skiprows=0)"
   ]
  },
  {
   "cell_type": "markdown",
   "id": "bf5a6d83",
   "metadata": {},
   "source": [
    "Antes de iniciar una analisis sobre unos datos, debemos verificar que no contiene informacion invalida o que no sea util para el analisis.\n",
    "\n",
    "Inicialmente buscaremos missings (atributos que no fueron cargados)."
   ]
  },
  {
   "cell_type": "code",
   "execution_count": 3,
   "id": "f2e04f3d",
   "metadata": {},
   "outputs": [
    {
     "data": {
      "text/plain": [
       "anios_estudiados                              False\n",
       "barrio                                         True\n",
       "categoria_de_trabajo                           True\n",
       "edad                                          False\n",
       "educacion_alcanzada                           False\n",
       "estado_marital                                False\n",
       "ganancia_perdida_declarada_bolsa_argentina    False\n",
       "genero                                        False\n",
       "horas_trabajo_registradas                     False\n",
       "religion                                      False\n",
       "rol_familiar_registrado                       False\n",
       "tiene_alto_valor_adquisitivo                  False\n",
       "trabajo                                        True\n",
       "dtype: bool"
      ]
     },
     "execution_count": 3,
     "metadata": {},
     "output_type": "execute_result"
    }
   ],
   "source": [
    "df.isna().any()"
   ]
  },
  {
   "cell_type": "markdown",
   "id": "8f7a625d",
   "metadata": {},
   "source": [
    "Como podemos ver existen 3 campos en donde no tenemos la informacion de todas las instancias. Por lo que ahora deberemos analizar cada situacion y tomar un criterio para decidir que hacer con estos instancias con valores invalidos.\n",
    "\n",
    "Con este script podemos ver cuantas instancias tiene nulos y en que campos. De esta manera vemos que existe 27 personas que no completar las columans barrio, categoria_de_trabajo y trabajo. Al ser un grupo pequeño y tener valores invalidos en categoria que a priori parecen ser relevantes (categoria_de_trabajo y trabajo) decidimos descartalos."
   ]
  },
  {
   "cell_type": "code",
   "execution_count": 4,
   "id": "911b19a0",
   "metadata": {},
   "outputs": [
    {
     "data": {
      "text/plain": [
       "anios_estudiados                               0\n",
       "barrio                                        27\n",
       "categoria_de_trabajo                          27\n",
       "edad                                           0\n",
       "educacion_alcanzada                            0\n",
       "estado_marital                                 0\n",
       "ganancia_perdida_declarada_bolsa_argentina     0\n",
       "genero                                         0\n",
       "horas_trabajo_registradas                      0\n",
       "religion                                       0\n",
       "rol_familiar_registrado                        0\n",
       "tiene_alto_valor_adquisitivo                   0\n",
       "trabajo                                       27\n",
       "dtype: int64"
      ]
     },
     "execution_count": 4,
     "metadata": {},
     "output_type": "execute_result"
    }
   ],
   "source": [
    "def tiene_n_missings(x, n):\n",
    "    acum = 0\n",
    "    for i in range(len(x)):\n",
    "        if x[i]:\n",
    "            acum += 1\n",
    "    return n <= acum\n",
    "\n",
    "\n",
    "lista_de_missings = [tiene_n_missings(x, 3) for x in df.isna().to_numpy()]\n",
    "\n",
    "df_3_missings = df.reset_index()[lista_de_missings].set_index('index')\n",
    "df_3_missings.isnull().sum()"
   ]
  },
  {
   "cell_type": "code",
   "execution_count": 5,
   "id": "89cc9f25",
   "metadata": {},
   "outputs": [],
   "source": [
    "df.drop(df_3_missings.index, inplace = True)"
   ]
  },
  {
   "cell_type": "markdown",
   "id": "099a7eb8",
   "metadata": {},
   "source": [
    "Luego hacemos la misma logica para analizar a las personas con 2 campos nulos "
   ]
  },
  {
   "cell_type": "code",
   "execution_count": 6,
   "id": "1967f88a",
   "metadata": {},
   "outputs": [
    {
     "data": {
      "text/plain": [
       "anios_estudiados                                 0\n",
       "barrio                                           0\n",
       "categoria_de_trabajo                          1809\n",
       "edad                                             0\n",
       "educacion_alcanzada                              0\n",
       "estado_marital                                   0\n",
       "ganancia_perdida_declarada_bolsa_argentina       0\n",
       "genero                                           0\n",
       "horas_trabajo_registradas                        0\n",
       "religion                                         0\n",
       "rol_familiar_registrado                          0\n",
       "tiene_alto_valor_adquisitivo                     0\n",
       "trabajo                                       1809\n",
       "dtype: int64"
      ]
     },
     "execution_count": 6,
     "metadata": {},
     "output_type": "execute_result"
    }
   ],
   "source": [
    "lista_de_missings = [tiene_n_missings(x, 2) for x in df.isna().to_numpy()]\n",
    "\n",
    "df_2_missings = df.reset_index()[lista_de_missings].set_index('index')\n",
    "df_2_missings.isnull().sum()"
   ]
  },
  {
   "cell_type": "markdown",
   "id": "1eec20dc",
   "metadata": {},
   "source": [
    "Podemos notar que existen una gran cantidad de personas que no contesto cual es su trabajo. Como inicialmente el campo trabajo es una valor a tener en cuenta para poder decidir el valor adquisitivo decidimos crear un nuevo campo \"No contesto\" para no tener que descartar todos estos datos."
   ]
  },
  {
   "cell_type": "code",
   "execution_count": 7,
   "id": "a13b5144",
   "metadata": {},
   "outputs": [
    {
     "data": {
      "text/plain": [
       "False"
      ]
     },
     "execution_count": 7,
     "metadata": {},
     "output_type": "execute_result"
    }
   ],
   "source": [
    "df = df.replace({'trabajo': np.nan, 'categoria_de_trabajo': np.nan},'No contesto')\n",
    "df['trabajo'].isna().any() "
   ]
  },
  {
   "cell_type": "markdown",
   "id": "1a14cb5a",
   "metadata": {},
   "source": [
    "Por ultimo nos queda analizar cuantas son las instancias con un Nan. \n",
    "\n",
    "Como podemos ver existen 556 personas que no completaron su barrio. En esta ocasion decidimos analizar la cantidad de personas que viven en todos los barrios. Podemos notar que mas de un 90% vive en Palermo por lo que nos resulto correcto incluir a estas instancias en este barrio."
   ]
  },
  {
   "cell_type": "code",
   "execution_count": 8,
   "id": "df6dea24",
   "metadata": {},
   "outputs": [
    {
     "data": {
      "text/plain": [
       "anios_estudiados                                0\n",
       "barrio                                        556\n",
       "categoria_de_trabajo                            0\n",
       "edad                                            0\n",
       "educacion_alcanzada                             0\n",
       "estado_marital                                  0\n",
       "ganancia_perdida_declarada_bolsa_argentina      0\n",
       "genero                                          0\n",
       "horas_trabajo_registradas                       0\n",
       "religion                                        0\n",
       "rol_familiar_registrado                         0\n",
       "tiene_alto_valor_adquisitivo                    0\n",
       "trabajo                                         0\n",
       "dtype: int64"
      ]
     },
     "execution_count": 8,
     "metadata": {},
     "output_type": "execute_result"
    }
   ],
   "source": [
    "lista_de_missings = [tiene_n_missings(x, 1) for x in df.isna().to_numpy()]\n",
    "\n",
    "df_missing = df.reset_index()[lista_de_missings].set_index('index')\n",
    "df_missing.isnull().sum()"
   ]
  },
  {
   "cell_type": "code",
   "execution_count": 9,
   "id": "b478bcc5",
   "metadata": {},
   "outputs": [
    {
     "data": {
      "text/plain": [
       "Palermo                0.912190\n",
       "Belgrano               0.020108\n",
       "San Isidro             0.006192\n",
       "Villa Urquiza          0.004284\n",
       "Recoleta               0.003784\n",
       "La Boca                0.003565\n",
       "Agronomia              0.003315\n",
       "Almagro                0.003127\n",
       "Balvanera              0.002971\n",
       "Puerto Madero          0.002814\n",
       "Caballito              0.002533\n",
       "Boedo                  0.002502\n",
       "Barracas               0.002345\n",
       "Chacarita              0.002283\n",
       "Coghland               0.002189\n",
       "Floresta               0.002095\n",
       "Constitucion           0.002001\n",
       "Colegiales             0.001939\n",
       "Flores                 0.001876\n",
       "Liniers                0.001845\n",
       "Monte Castro           0.001595\n",
       "Mataderos              0.001376\n",
       "Nueva Pompeya          0.001345\n",
       "Monserrat              0.001157\n",
       "nuñez                  0.001063\n",
       "Parque Chacabuco       0.000969\n",
       "Parque Avellaneda      0.000907\n",
       "Villa Luro             0.000907\n",
       "Parque Chas            0.000876\n",
       "La Paternal            0.000751\n",
       "Retiro                 0.000625\n",
       "Villa Devoto           0.000594\n",
       "Villa Soldati          0.000594\n",
       "San Telmo              0.000563\n",
       "Villa Real             0.000563\n",
       "Santa Rita             0.000500\n",
       "Villa General Mitre    0.000438\n",
       "Versalles              0.000407\n",
       "Velez Sarsfield        0.000407\n",
       "Villa Pueyrredon       0.000375\n",
       "Cilla Riachuelo        0.000031\n",
       "Name: barrio, dtype: float64"
      ]
     },
     "execution_count": 9,
     "metadata": {},
     "output_type": "execute_result"
    }
   ],
   "source": [
    "df['barrio'].value_counts(normalize = True)"
   ]
  },
  {
   "cell_type": "code",
   "execution_count": 10,
   "id": "9ecd80a7",
   "metadata": {},
   "outputs": [],
   "source": [
    "df = df.replace({'barrio': np.nan},'Palermo')"
   ]
  },
  {
   "cell_type": "markdown",
   "id": "2c5469b4",
   "metadata": {},
   "source": [
    "Al hacer este analsis notamos la gran cardinalidad de la variable barrio. Para poder analizar mas facilmente esta variable decidimos agrupar a los disintos barrios por sus comunas."
   ]
  },
  {
   "cell_type": "code",
   "execution_count": 11,
   "id": "ce8eec6b",
   "metadata": {},
   "outputs": [],
   "source": [
    "mapa = {'Palermo' : 'C14','Belgrano' : 'C13','San Isidro' : 'San Isidro','Villa Urquiza' : 'C12','Recoleta' : 'C2','La Boca' : 'C4','Agronomia' : 'C15','Almagro' : 'C5','Balvanera' : 'C3','Puerto Madero' : 'C1','Caballito' : 'C6','Boedo' : 'C5','Barracas' : 'C4','Chacarita' : 'C15','Coghland' : 'C12','Floresta' : 'C10','Constitucion' : 'C1','Colegiales' : 'C13','Flores' : 'C7','Liniers' : 'C9','Monte Castro' : 'C10','Mataderos' : 'C9','Nueva Pompeya' : 'C4','Monserrat' : 'C1','nuñez' : 'C13','Parque Chacabuco' : 'C7','Parque Avellaneda' : 'C9','Villa Luro' : 'C10','Parque Chas' : 'C15','La Paternal' : 'C15','Retiro' : 'C1','Villa Devoto' : 'C11','Villa Soldati' : 'C8','San Telmo' : 'C1','Villa Real' : 'C10','Santa Rita' : 'C11','Villa General Mitre' : 'C11','Versalles' : 'C10','Velez Sarsfield' : 'C10','Villa Pueyrredon' : 'C12','Cilla Riachuelo' : 'C8'}\n",
    "df['comuna'] = df['barrio'].apply(lambda x: mapa.get(x))"
   ]
  },
  {
   "cell_type": "markdown",
   "id": "b3eb02ed",
   "metadata": {},
   "source": [
    "Notamos que existe un grupo de gente que apesar de figurar como sin trabajo tiene un numero mayor a cero de horas_de_trabajo_registrada. Decidimos descartarlas por ser instancias con informacion contradictoria."
   ]
  },
  {
   "cell_type": "code",
   "execution_count": 12,
   "id": "7b123241",
   "metadata": {},
   "outputs": [],
   "source": [
    "df_gente_sin_trabajo_con_horas_registradas = df[(df['categoria_de_trabajo'] == 'sin_trabajo') & (df['horas_trabajo_registradas'] > 0)]\n",
    "df.drop(df_gente_sin_trabajo_con_horas_registradas.index, inplace = True)"
   ]
  },
  {
   "cell_type": "markdown",
   "id": "b2a17911",
   "metadata": {},
   "source": [
    "Luego analizando las variables por separadado encontramos que para dos variables distintas existen dos categorias similares, las cueles presentan la misma distribucion pero una de ellas con una varianza mayor debido a tener pocas muestras."
   ]
  },
  {
   "cell_type": "code",
   "execution_count": 13,
   "id": "37e2c919",
   "metadata": {},
   "outputs": [
    {
     "data": {
      "image/png": "[encoded data removed]",
      "text/plain": [
       "<Figure size 1280x480 with 2 Axes>"
      ]
     },
     "metadata": {
      "needs_background": "light"
     },
     "output_type": "display_data"
    }
   ],
   "source": [
    "fig, axes = plt.subplots(nrows=1, ncols=2, figsize=[6.4 * 2, 4.8], dpi=100)\n",
    "sns.barplot(\n",
    "    data=df[(df['estado_marital'] == 'matrimonio_civil') | (df['estado_marital'] == 'matrimonio_militar')],\n",
    "    y='tiene_alto_valor_adquisitivo',\n",
    "    x='estado_marital', ax=axes[0])\n",
    "\n",
    "axes[0].set_title(\"Estado marital - Matrimonios\")\n",
    "axes[0].set_ylabel(\"estado marital\")\n",
    "\n",
    "sns.barplot(\n",
    "    data=df[(df['rol_familiar_registrado'] == 'casado') | (df['rol_familiar_registrado'] == 'casada')],\n",
    "    y='tiene_alto_valor_adquisitivo',\n",
    "    x='rol_familiar_registrado', ax=axes[1])\n",
    "\n",
    "axes[1].set_title(\"Rol familiar - casados\")\n",
    "axes[1].set_ylabel(\"estado marital\")\n",
    "\n",
    "plt.show()"
   ]
  },
  {
   "cell_type": "markdown",
   "id": "df25a06d",
   "metadata": {},
   "source": [
    "Como podemos observar en los graficos la informacion que aporta para estimar a la funcion target, el matrimonio civil y el militar es exactamente la misma (lo mismo ocurre para cadao y casada). Es por ello que decidimos combinarlas en una misma categoria."
   ]
  },
  {
   "cell_type": "code",
   "execution_count": 14,
   "id": "1c224b97",
   "metadata": {},
   "outputs": [],
   "source": [
    "df['rol_familiar_registrado'] = df['rol_familiar_registrado'].apply(lambda x: 'casado' if x == 'casada' else x)\n",
    "df['estado_marital'] = df['estado_marital'].apply(lambda x: 'matrimonio' if x == 'matrimonio_civil' or x == 'matrimonio_militar' else x)"
   ]
  },
  {
   "cell_type": "markdown",
   "id": "c48548cb",
   "metadata": {},
   "source": [
    "## Analisis de los datos:\n"
   ]
  },
  {
   "cell_type": "markdown",
   "id": "4cd91a88",
   "metadata": {},
   "source": [
    "## Observaciones:"
   ]
  },
  {
   "cell_type": "markdown",
   "id": "3eca498d",
   "metadata": {},
   "source": [
    "## Conclusion:"
   ]
  },
  {
   "cell_type": "markdown",
   "id": "da3f0d64",
   "metadata": {},
   "source": [
    "## Baseline:"
   ]
  }
 ],
 "metadata": {
  "kernelspec": {
   "display_name": "Python 3",
   "language": "python",
   "name": "python3"
  },
  "language_info": {
   "codemirror_mode": {
    "name": "ipython",
    "version": 3
   },
   "file_extension": ".py",
   "mimetype": "text/x-python",
   "name": "python",
   "nbconvert_exporter": "python",
   "pygments_lexer": "ipython3",
   "version": "3.8.5"
  }
 },
 "nbformat": 4,
 "nbformat_minor": 5
}
