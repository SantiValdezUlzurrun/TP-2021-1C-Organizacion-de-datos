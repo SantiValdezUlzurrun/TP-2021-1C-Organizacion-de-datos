{
 "cells": [
  {
   "cell_type": "markdown",
   "id": "e7c08d58",
   "metadata": {},
   "source": [
    "# Trabajo Practico 1 - Que No Se Escape Nadie (?)"
   ]
  },
  {
   "cell_type": "markdown",
   "id": "0948da30",
   "metadata": {},
   "source": [
    "## Introduccion:"
   ]
  },
  {
   "cell_type": "markdown",
   "id": "b91df983",
   "metadata": {},
   "source": [
    "En el presente trabajo se analizara una base de datos de la empresa FIUBAFIP con el objetivo de entender la informacion que fue recolectada y poder predecir aquellas personas que tiene alto o bajo poder adquisitivo. \n",
    "\n",
    "### Objetivos:\n",
    "\n",
    "- Entender la base de datos.\n",
    "- Ver cómo los datos se relacionan entre si.\n",
    "- Poder sacar alguna conclusión o descubrir un patrón a partir de estos.\n",
    "- Indicar cuáles son los factores más importantes que determinan el poder adquisitivo de una persona.\n",
    "- Poder llegar a armar un baseline"
   ]
  },
  {
   "cell_type": "markdown",
   "id": "a603c876",
   "metadata": {},
   "source": [
    "### Bibliotecas utilizadas:"
   ]
  },
  {
   "cell_type": "code",
   "execution_count": 1,
   "id": "33d40e57",
   "metadata": {},
   "outputs": [],
   "source": [
    "import numpy as np\n",
    "import pandas as pd\n",
    "import seaborn as sns\n",
    "from matplotlib import pyplot as plt\n",
    "import matplotlib.patches as mpatches"
   ]
  },
  {
   "cell_type": "markdown",
   "id": "bfd3a2dd",
   "metadata": {},
   "source": [
    "## Feature enginnering:"
   ]
  },
  {
   "cell_type": "code",
   "execution_count": 2,
   "id": "b9165873",
   "metadata": {},
   "outputs": [],
   "source": [
    "GSPREADHSEET_DOWNLOAD_URL = (\"https://docs.google.com/spreadsheets/d/{gid}/export?format=csv&id={gid}\".format)\n",
    "FIUFIP_GID = '1-DWTP8uwVS-dZY402-dm0F9ICw_6PNqDGLmH0u8Eqa0'\n",
    "df = pd.read_csv(GSPREADHSEET_DOWNLOAD_URL(gid=FIUFIP_GID), skiprows=0)"
   ]
  },
  {
   "cell_type": "markdown",
   "id": "e3badd7b",
   "metadata": {},
   "source": [
    "Antes de iniciar una analisis sobre unos datos, debemos verificar que no contiene informacion invalida o que no sea util para el analisis.\n",
    "\n",
    "Inicialmente buscaremos missings (atributos que no fueron cargados)."
   ]
  },
  {
   "cell_type": "code",
   "execution_count": 3,
   "id": "806d20b3",
   "metadata": {},
   "outputs": [
    {
     "data": {
      "text/plain": [
       "anios_estudiados                              False\n",
       "barrio                                         True\n",
       "categoria_de_trabajo                           True\n",
       "edad                                          False\n",
       "educacion_alcanzada                           False\n",
       "estado_marital                                False\n",
       "ganancia_perdida_declarada_bolsa_argentina    False\n",
       "genero                                        False\n",
       "horas_trabajo_registradas                     False\n",
       "religion                                      False\n",
       "rol_familiar_registrado                       False\n",
       "tiene_alto_valor_adquisitivo                  False\n",
       "trabajo                                        True\n",
       "dtype: bool"
      ]
     },
     "execution_count": 3,
     "metadata": {},
     "output_type": "execute_result"
    }
   ],
   "source": [
    "df.isna().any()"
   ]
  },
  {
   "cell_type": "markdown",
   "id": "98674e25",
   "metadata": {},
   "source": [
    "Como podemos ver existen 3 campos en donde no tenemos la informacion de todas las instancias. Por lo que ahora deberemos analizar cada situacion y tomar un criterio para decidir que hacer con estos instancias con valores invalidos.\n",
    "\n",
    "Con este script podemos ver cuantas instancias tiene nulos y en que campos. De esta manera vemos que existe 27 personas que no completar las columans barrio, categoria_de_trabajo y trabajo. Al ser un grupo pequeño y tener valores invalidos en categoria que a priori parecen ser relevantes (categoria_de_trabajo y trabajo) decidimos descartalos."
   ]
  },
  {
   "cell_type": "code",
   "execution_count": 4,
   "id": "5db6845f",
   "metadata": {},
   "outputs": [
    {
     "data": {
      "text/plain": [
       "anios_estudiados                               0\n",
       "barrio                                        27\n",
       "categoria_de_trabajo                          27\n",
       "edad                                           0\n",
       "educacion_alcanzada                            0\n",
       "estado_marital                                 0\n",
       "ganancia_perdida_declarada_bolsa_argentina     0\n",
       "genero                                         0\n",
       "horas_trabajo_registradas                      0\n",
       "religion                                       0\n",
       "rol_familiar_registrado                        0\n",
       "tiene_alto_valor_adquisitivo                   0\n",
       "trabajo                                       27\n",
       "dtype: int64"
      ]
     },
     "execution_count": 4,
     "metadata": {},
     "output_type": "execute_result"
    }
   ],
   "source": [
    "def tiene_n_missings(x, n):\n",
    "    acum = 0\n",
    "    for i in range(len(x)):\n",
    "        if x[i]:\n",
    "            acum += 1\n",
    "    return n <= acum\n",
    "\n",
    "\n",
    "lista_de_missings = [tiene_n_missings(x, 3) for x in df.isna().to_numpy()]\n",
    "\n",
    "df_3_missings = df.reset_index()[lista_de_missings].set_index('index')\n",
    "df_3_missings.isnull().sum()"
   ]
  },
  {
   "cell_type": "code",
   "execution_count": 5,
   "id": "da9b0da5",
   "metadata": {},
   "outputs": [],
   "source": [
    "df.drop(df_3_missings.index, inplace = True)"
   ]
  },
  {
   "cell_type": "markdown",
   "id": "30d37ed0",
   "metadata": {},
   "source": [
    "Luego hacemos la misma logica para analizar a las personas con 2 campos nulos "
   ]
  },
  {
   "cell_type": "code",
   "execution_count": 6,
   "id": "85a4702e",
   "metadata": {},
   "outputs": [
    {
     "data": {
      "text/plain": [
       "anios_estudiados                                 0\n",
       "barrio                                           0\n",
       "categoria_de_trabajo                          1809\n",
       "edad                                             0\n",
       "educacion_alcanzada                              0\n",
       "estado_marital                                   0\n",
       "ganancia_perdida_declarada_bolsa_argentina       0\n",
       "genero                                           0\n",
       "horas_trabajo_registradas                        0\n",
       "religion                                         0\n",
       "rol_familiar_registrado                          0\n",
       "tiene_alto_valor_adquisitivo                     0\n",
       "trabajo                                       1809\n",
       "dtype: int64"
      ]
     },
     "execution_count": 6,
     "metadata": {},
     "output_type": "execute_result"
    }
   ],
   "source": [
    "lista_de_missings = [tiene_n_missings(x, 2) for x in df.isna().to_numpy()]\n",
    "\n",
    "df_2_missings = df.reset_index()[lista_de_missings].set_index('index')\n",
    "df_2_missings.isnull().sum()"
   ]
  },
  {
   "cell_type": "markdown",
   "id": "260210df",
   "metadata": {},
   "source": [
    "Podemos notar que existen una gran cantidad de personas que no contesto cual es su trabajo. Como inicialmente el campo trabajo es una valor a tener en cuenta para poder decidir el valor adquisitivo decidimos crear un nuevo campo \"No contesto\" para no tener que descartar todos estos datos."
   ]
  },
  {
   "cell_type": "code",
   "execution_count": 7,
   "id": "ca3ae93f",
   "metadata": {},
   "outputs": [
    {
     "data": {
      "text/plain": [
       "False"
      ]
     },
     "execution_count": 7,
     "metadata": {},
     "output_type": "execute_result"
    }
   ],
   "source": [
    "df = df.replace({'trabajo': np.nan, 'categoria_de_trabajo': np.nan},'No contesto')\n",
    "df['trabajo'].isna().any() "
   ]
  },
  {
   "cell_type": "markdown",
   "id": "ff666808",
   "metadata": {},
   "source": [
    "Por ultimo nos queda analizar cuantas son las instancias con un Nan. \n",
    "\n",
    "Como podemos ver existen 556 personas que no completaron su barrio. En esta ocasion decidimos analizar la cantidad de personas que viven en todos los barrios. Podemos notar que mas de un 90% vive en Palermo por lo que nos resulto correcto incluir a estas instancias en este barrio."
   ]
  },
  {
   "cell_type": "code",
   "execution_count": 8,
   "id": "b977f874",
   "metadata": {},
   "outputs": [
    {
     "data": {
      "text/plain": [
       "anios_estudiados                                0\n",
       "barrio                                        556\n",
       "categoria_de_trabajo                            0\n",
       "edad                                            0\n",
       "educacion_alcanzada                             0\n",
       "estado_marital                                  0\n",
       "ganancia_perdida_declarada_bolsa_argentina      0\n",
       "genero                                          0\n",
       "horas_trabajo_registradas                       0\n",
       "religion                                        0\n",
       "rol_familiar_registrado                         0\n",
       "tiene_alto_valor_adquisitivo                    0\n",
       "trabajo                                         0\n",
       "dtype: int64"
      ]
     },
     "execution_count": 8,
     "metadata": {},
     "output_type": "execute_result"
    }
   ],
   "source": [
    "lista_de_missings = [tiene_n_missings(x, 1) for x in df.isna().to_numpy()]\n",
    "\n",
    "df_missing = df.reset_index()[lista_de_missings].set_index('index')\n",
    "df_missing.isnull().sum()"
   ]
  },
  {
   "cell_type": "code",
   "execution_count": 9,
   "id": "229e60c5",
   "metadata": {},
   "outputs": [
    {
     "data": {
      "text/plain": [
       "Palermo                0.912190\n",
       "Belgrano               0.020108\n",
       "San Isidro             0.006192\n",
       "Villa Urquiza          0.004284\n",
       "Recoleta               0.003784\n",
       "La Boca                0.003565\n",
       "Agronomia              0.003315\n",
       "Almagro                0.003127\n",
       "Balvanera              0.002971\n",
       "Puerto Madero          0.002814\n",
       "Caballito              0.002533\n",
       "Boedo                  0.002502\n",
       "Barracas               0.002345\n",
       "Chacarita              0.002283\n",
       "Coghland               0.002189\n",
       "Floresta               0.002095\n",
       "Constitucion           0.002001\n",
       "Colegiales             0.001939\n",
       "Flores                 0.001876\n",
       "Liniers                0.001845\n",
       "Monte Castro           0.001595\n",
       "Mataderos              0.001376\n",
       "Nueva Pompeya          0.001345\n",
       "Monserrat              0.001157\n",
       "nuñez                  0.001063\n",
       "Parque Chacabuco       0.000969\n",
       "Parque Avellaneda      0.000907\n",
       "Villa Luro             0.000907\n",
       "Parque Chas            0.000876\n",
       "La Paternal            0.000751\n",
       "Retiro                 0.000625\n",
       "Villa Devoto           0.000594\n",
       "Villa Soldati          0.000594\n",
       "Villa Real             0.000563\n",
       "San Telmo              0.000563\n",
       "Santa Rita             0.000500\n",
       "Villa General Mitre    0.000438\n",
       "Versalles              0.000407\n",
       "Velez Sarsfield        0.000407\n",
       "Villa Pueyrredon       0.000375\n",
       "Cilla Riachuelo        0.000031\n",
       "Name: barrio, dtype: float64"
      ]
     },
     "execution_count": 9,
     "metadata": {},
     "output_type": "execute_result"
    }
   ],
   "source": [
    "df['barrio'].value_counts(normalize = True)"
   ]
  },
  {
   "cell_type": "code",
   "execution_count": 10,
   "id": "9cd822b6",
   "metadata": {},
   "outputs": [],
   "source": [
    "df = df.replace({'barrio': np.nan},'Palermo')"
   ]
  },
  {
   "cell_type": "markdown",
   "id": "8d77c6b6",
   "metadata": {},
   "source": [
    "Al hacer este analsis notamos la gran cardinalidad de la variable barrio. Para poder analizar mas facilmente esta variable decidimos agrupar a los disintos barrios por sus comunas."
   ]
  },
  {
   "cell_type": "code",
   "execution_count": 11,
   "id": "fb5a6480",
   "metadata": {},
   "outputs": [],
   "source": [
    "mapa = {'Palermo' : 'C14','Belgrano' : 'C13','San Isidro' : 'San Isidro','Villa Urquiza' : 'C12','Recoleta' : 'C2','La Boca' : 'C4','Agronomia' : 'C15','Almagro' : 'C5','Balvanera' : 'C3','Puerto Madero' : 'C1','Caballito' : 'C6','Boedo' : 'C5','Barracas' : 'C4','Chacarita' : 'C15','Coghland' : 'C12','Floresta' : 'C10','Constitucion' : 'C1','Colegiales' : 'C13','Flores' : 'C7','Liniers' : 'C9','Monte Castro' : 'C10','Mataderos' : 'C9','Nueva Pompeya' : 'C4','Monserrat' : 'C1','nuñez' : 'C13','Parque Chacabuco' : 'C7','Parque Avellaneda' : 'C9','Villa Luro' : 'C10','Parque Chas' : 'C15','La Paternal' : 'C15','Retiro' : 'C1','Villa Devoto' : 'C11','Villa Soldati' : 'C8','San Telmo' : 'C1','Villa Real' : 'C10','Santa Rita' : 'C11','Villa General Mitre' : 'C11','Versalles' : 'C10','Velez Sarsfield' : 'C10','Villa Pueyrredon' : 'C12','Cilla Riachuelo' : 'C8'}\n",
    "df['comuna'] = df['barrio'].apply(lambda x: mapa.get(x))"
   ]
  },
  {
   "cell_type": "markdown",
   "id": "802286a4",
   "metadata": {},
   "source": [
    "Notamos que existe un grupo de gente que apesar de figurar como sin trabajo tiene un numero mayor a cero de horas_de_trabajo_registrada. Decidimos descartarlas por ser instancias con informacion contradictoria."
   ]
  },
  {
   "cell_type": "code",
   "execution_count": 12,
   "id": "756483ba",
   "metadata": {},
   "outputs": [],
   "source": [
    "df_gente_sin_trabajo_con_horas_registradas = df[(df['categoria_de_trabajo'] == 'sin_trabajo') & (df['horas_trabajo_registradas'] > 0)]\n",
    "df.drop(df_gente_sin_trabajo_con_horas_registradas.index, inplace = True)"
   ]
  },
  {
   "cell_type": "markdown",
   "id": "56efd24d",
   "metadata": {},
   "source": [
    "Luego analizando las variables por separadado encontramos que para dos variables distintas existen dos categorias similares, las cueles presentan la misma distribucion pero una de ellas con una varianza mayor debido a tener pocas muestras."
   ]
  },
  {
   "cell_type": "code",
   "execution_count": 13,
   "id": "d05b7aad",
   "metadata": {},
   "outputs": [
    {
     "data": {
      "image/png": "[encoded data removed]",
      "text/plain": [
       "<Figure size 1280x480 with 2 Axes>"
      ]
     },
     "metadata": {
      "needs_background": "light"
     },
     "output_type": "display_data"
    }
   ],
   "source": [
    "fig, axes = plt.subplots(nrows=1, ncols=2, figsize=[6.4 * 2, 4.8], dpi=100)\n",
    "sns.barplot(\n",
    "    data=df[(df['estado_marital'] == 'matrimonio_civil') | (df['estado_marital'] == 'matrimonio_militar')],\n",
    "    y='tiene_alto_valor_adquisitivo',\n",
    "    x='estado_marital', ax=axes[0])\n",
    "\n",
    "axes[0].set_title(\"Estado marital - Matrimonios\")\n",
    "axes[0].set_ylabel(\"estado marital\")\n",
    "\n",
    "sns.barplot(\n",
    "    data=df[(df['rol_familiar_registrado'] == 'casado') | (df['rol_familiar_registrado'] == 'casada')],\n",
    "    y='tiene_alto_valor_adquisitivo',\n",
    "    x='rol_familiar_registrado', ax=axes[1])\n",
    "\n",
    "axes[1].set_title(\"Rol familiar - casados\")\n",
    "axes[1].set_ylabel(\"estado marital\")\n",
    "\n",
    "plt.show()"
   ]
  },
  {
   "cell_type": "markdown",
   "id": "963760be",
   "metadata": {},
   "source": [
    "Como podemos observar en los graficos la informacion que aporta para estimar a la funcion target, el matrimonio civil y el militar es exactamente la misma (lo mismo ocurre para cadao y casada). Es por ello que decidimos combinarlas en una misma categoria."
   ]
  },
  {
   "cell_type": "code",
   "execution_count": 14,
   "id": "6034fdee",
   "metadata": {},
   "outputs": [],
   "source": [
    "df['rol_familiar_registrado'] = df['rol_familiar_registrado'].apply(lambda x: 'casado' if x == 'casada' else x)\n",
    "df['estado_marital'] = df['estado_marital'].apply(lambda x: 'matrimonio' if x == 'matrimonio_civil' or x == 'matrimonio_militar' else x)"
   ]
  },
  {
   "cell_type": "markdown",
   "id": "abb460a4",
   "metadata": {},
   "source": [
    "Tambien podemos notar que eduacion alzancada y años estudidados nos aportan la misma informacion. Una es una simple categorizacion de la otra como se puede observar:"
   ]
  },
  {
   "cell_type": "code",
   "execution_count": 15,
   "id": "46cff552",
   "metadata": {},
   "outputs": [
    {
     "data": {
      "text/plain": [
       "True"
      ]
     },
     "execution_count": 15,
     "metadata": {},
     "output_type": "execute_result"
    }
   ],
   "source": [
    "mapa = {'preescolar': 1,\n",
    "        '1-4_grado': 4,\n",
    "        '5-6_grado': 6,\n",
    "        '7-8_grado': 8,\n",
    "        '9_grado': 9,\n",
    "        '1_anio': 10,\n",
    "        '2_anio': 11,\n",
    "        '3_anio': 12,\n",
    "        '4_anio': 13,\n",
    "        '5_anio': 14,\n",
    "        'universidad_1_anio': 15,\n",
    "        'universidad_2_anio': 16,\n",
    "        'universidad_3_anio': 17,\n",
    "        'universidad_4_anio': 18,\n",
    "        'universiada_5_anio' : 19,\n",
    "        'universiada_6_anio' : 20}\n",
    "educacion_alcanzada = df['educacion_alcanzada'].apply(lambda x: mapa.get(x))\n",
    "df['anios_estudiados'].equals(educacion_alcanzada)"
   ]
  },
  {
   "cell_type": "markdown",
   "id": "4630cd54",
   "metadata": {},
   "source": [
    "Por lo tanto como no se pierde informacion y para poder reducir la dimensionalidad se decide eliminar esta columna redundante"
   ]
  },
  {
   "cell_type": "code",
   "execution_count": 16,
   "id": "d5ce0215",
   "metadata": {},
   "outputs": [],
   "source": [
    "df = df.drop(['educacion_alcanzada'],axis=1)"
   ]
  },
  {
   "cell_type": "markdown",
   "id": "ef2ca7fc",
   "metadata": {},
   "source": [
    "## Analisis de los datos:"
   ]
  },
  {
   "cell_type": "markdown",
   "id": "45007143",
   "metadata": {},
   "source": [
    "Para el análisis empezamos haciendonos algunas preguntas, y en cada caso al surgir alguna nueva pregunta interesante se continuara su desarrollo en esa sección.\n",
    "\n",
    "- ¿Que tanto influye tener una familia en el poder adquisitivo?\n",
    "- ¿Operar con la bolsa da evidencia de un inversor de mayor capital?\n",
    "- ¿Que profesiones son mas determinantes?\n",
    "- ¿Que nivel de formacion academica es necesaria?\n",
    "- ¿Es realmente influyente el domicilio legal?\n",
    "- Tomando a la edad como un indicador promedio en la experiencia laboral. ¿Que tanto peso tiene con respecto a la capacidad financiera?"
   ]
  },
  {
   "cell_type": "markdown",
   "id": "371511e8",
   "metadata": {},
   "source": [
    "#### Constantes globales\n",
    "\n",
    "Se definen las siguientes constantes para evitar repetir codigo"
   ]
  },
  {
   "cell_type": "code",
   "execution_count": 17,
   "id": "72a5f851",
   "metadata": {},
   "outputs": [],
   "source": [
    "df_alto_valor_ad = df[df.tiene_alto_valor_adquisitivo == 1]\n",
    "df_bajo_valor_ad = df[df.tiene_alto_valor_adquisitivo == 0]"
   ]
  },
  {
   "cell_type": "markdown",
   "id": "6b8f4afb",
   "metadata": {},
   "source": [
    "### ¿Que tanto influye tener una familia en el poder adquisitivo?\n",
    "\n",
    "Para responder esta pregunta inicialmente podemos hacer el siguiente grafico que muestra a los distintos estados maritales y su porcentaje de personas que poseen alto valor adquisitivo"
   ]
  },
  {
   "cell_type": "code",
   "execution_count": null,
   "id": "035a1bda",
   "metadata": {},
   "outputs": [],
   "source": [
    "#TODO Limpiar"
   ]
  },
  {
   "cell_type": "code",
   "execution_count": 21,
   "id": "f1492381",
   "metadata": {},
   "outputs": [
    {
     "data": {
      "image/png": "[encoded data removed]",
      "text/plain": [
       "<Figure size 960x720 with 1 Axes>"
      ]
     },
     "metadata": {
      "needs_background": "light"
     },
     "output_type": "display_data"
    }
   ],
   "source": [
    "plt.figure(figsize=(9.6, 7.2),  dpi=100)\n",
    "\n",
    "total = df.groupby('estado_marital')['tiene_alto_valor_adquisitivo'].sum().reset_index()\n",
    "alto_valor = df[df.tiene_alto_valor_adquisitivo == 1].groupby('estado_marital')['tiene_alto_valor_adquisitivo'].sum().reset_index()\n",
    "\n",
    "a = df[df.tiene_alto_valor_adquisitivo == 1].groupby('estado_marital')['tiene_alto_valor_adquisitivo'].sum().reset_index()['tiene_alto_valor_adquisitivo'].tolist()\n",
    "b = df.groupby('estado_marital')['anios_estudiados'].apply(lambda x: len(x)).tolist()\n",
    "\n",
    "alto_valor['tiene_alto_valor_adquisitivo'] = [i / j * 100 for i,j in zip(a, b)]\n",
    "\n",
    "total['tiene_alto_valor_adquisitivo'] = [i / j * 100 for i,j in zip(total['tiene_alto_valor_adquisitivo'], total['tiene_alto_valor_adquisitivo'])]\n",
    "\n",
    "bar1 = sns.barplot(y=\"tiene_alto_valor_adquisitivo\",  x=\"estado_marital\", data=total, color='#D17049')\n",
    "bar2 = sns.barplot(y=\"tiene_alto_valor_adquisitivo\", x=\"estado_marital\", data=alto_valor, color='#89D15E')\n",
    "\n",
    "plt.xlabel(\"Estado marital\")\n",
    "plt.ylabel(\"Promedio de alto valor adquisitivo\")\n",
    "top_bar = mpatches.Patch(color='#D17049', label='No')\n",
    "bottom_bar = mpatches.Patch(color='#89D15E', label='Si')\n",
    "plt.legend(handles=[top_bar, bottom_bar])\n",
    "plt.show()"
   ]
  },
  {
   "cell_type": "markdown",
   "id": "f8fd8dde",
   "metadata": {},
   "source": [
    "Podemos notar una marcada diferencia para las personas que tienen un matrimonio siendo el 45% de las personas en matrimonio personas con alto poder adquisitivo, en comparacion a las demas posibilidades que poseen un promedio similar de aproximadamente el 10% de personas con alto poder adquisitivo"
   ]
  },
  {
   "cell_type": "markdown",
   "id": "b9d98be7",
   "metadata": {},
   "source": [
    "#### ¿Como se relaciona con el rol familiar?"
   ]
  },
  {
   "cell_type": "markdown",
   "id": "4ab8b028",
   "metadata": {},
   "source": [
    "Para ello se nos ocurrio un heatmap que evidencie si hay correlacion entre una y la otra"
   ]
  },
  {
   "cell_type": "code",
   "execution_count": 26,
   "id": "b1fef9d3",
   "metadata": {},
   "outputs": [
    {
     "data": {
      "image/png": "[encoded data removed]",
      "text/plain": [
       "<Figure size 600x400 with 2 Axes>"
      ]
     },
     "metadata": {
      "needs_background": "light"
     },
     "output_type": "display_data"
    }
   ],
   "source": [
    "df_temp = df.copy()\n",
    "df_temp['unos'] = [1] * 32527\n",
    "df_estado_marital= pd.pivot_table(\n",
    "    df_temp,\n",
    "    'unos',\n",
    "    'rol_familiar_registrado',\n",
    "    'estado_marital',\n",
    "    'count',\n",
    ").sort_index()\n",
    "#Elimino intersecciones nulas\n",
    "df_estado_marital = df_estado_marital.replace({np.nan: 0})\n",
    "\n",
    "plt.figure(dpi=100)\n",
    "plt.ylabel(\"Cómo cr\", fontsize=9)\n",
    "ax = sns.heatmap(df_estado_marital, square=True, cmap=\"Wistia\")\n",
    "ax.set(xlabel='Estado marital', ylabel='Rol familiar', title='Correlacion entre rol familiar y Estado marital')\n",
    "plt.show()"
   ]
  },
  {
   "cell_type": "markdown",
   "id": "c1b7bb1f",
   "metadata": {},
   "source": [
    "Como era de esperarse la relacion entre estas dos variables es bastante estrecha ya que la gran mayoria de la gente que esta casada esta en un matrimonio, mientras que en el resto de variables la variacion es muy pequeña"
   ]
  },
  {
   "cell_type": "markdown",
   "id": "90024789",
   "metadata": {},
   "source": [
    "#### ¿Como se reflejan los porcentajes del primer grafico en cada uno de los grupos de poder adquisitivo?"
   ]
  },
  {
   "cell_type": "markdown",
   "id": "2435119e",
   "metadata": {},
   "source": [
    "Con el primer grafico obtuvimos los porcentajes del estado marital que tienen alto poder adquisitivo, ahora nos interesa saber que cantidad se encuentran en esos grupos, para ello, se propone dividir a la poblacion por el poder adquisitivo y observar la distribucion de la cantidad de personas en cada grupo con el siguiente plot"
   ]
  },
  {
   "cell_type": "code",
   "execution_count": 27,
   "id": "40e383ea",
   "metadata": {},
   "outputs": [
    {
     "data": {
      "image/png": "[encoded data removed]",
      "text/plain": [
       "<Figure size 1280x480 with 2 Axes>"
      ]
     },
     "metadata": {
      "needs_background": "light"
     },
     "output_type": "display_data"
    }
   ],
   "source": [
    "fig, axes = plt.subplots(nrows=1, ncols=2, figsize=[6.4 * 2, 4.8], dpi=100)\n",
    "\n",
    "df_alto_valor_ad.estado_marital.value_counts().plot(kind='bar', ax=axes[0])\n",
    "axes[0].set_title(\"Estado marital - Alto valor\")\n",
    "axes[0].set_ylabel(\"Estado marital\")\n",
    "\n",
    "df_bajo_valor_ad.estado_marital.value_counts().plot(kind='bar', ax=axes[1])\n",
    "axes[1].set_title(\"estado marital - bajo valor\")\n",
    "axes[1].set_ylabel(\"estado marital\")\n",
    "\n",
    "plt.show()"
   ]
  },
  {
   "cell_type": "markdown",
   "id": "79b23691",
   "metadata": {},
   "source": [
    "En el grafico anterior podemos observar una separacion entre la poblacion que cumple tener poder adquisitivo alto y la que no, como vemos la gran mayoria de las personas con poder adquisitivo alto estan casadas, mientras que en el caso contrario la mayoria no posee matrimonio, consideramos que esta puede ser una buena regla de decision"
   ]
  },
  {
   "cell_type": "markdown",
   "id": "01d731c3",
   "metadata": {},
   "source": [
    "### ¿Operar con la bolsa da evidencia de un inversor de mayor capital?"
   ]
  },
  {
   "cell_type": "markdown",
   "id": "b42cf390",
   "metadata": {},
   "source": [
    "A priori una pregunta trivial es preguntarse si el hecho de poder operar con la bolsa de alguna manera tiene aparejado tener poder adquisitivo alto, como el atributo de ganancia o perdida declarada bolsa argentina, esta gobernado por una gran mayoria de gente que no ha tenido perdidas ni ganancias decidimos primero categorizar esta variable en Perdida, Ganancia o Cero en caso de no haber obtenido ganancia ni perdida, para poder observar mas facilmente su relacion con el poder adquisitivo"
   ]
  },
  {
   "cell_type": "code",
   "execution_count": 30,
   "id": "f32a3b2d",
   "metadata": {},
   "outputs": [
    {
     "data": {
      "image/png": "[encoded data removed]",
      "text/plain": [
       "<Figure size 1280x480 with 2 Axes>"
      ]
     },
     "metadata": {
      "needs_background": "light"
     },
     "output_type": "display_data"
    }
   ],
   "source": [
    "def categorizar_ganancia(df, categorizar_por):\n",
    "    df_cat = df[['ganancia_perdida_declarada_bolsa_argentina','tiene_alto_valor_adquisitivo']].copy()\n",
    "    df_cat['ganancia'] = df_cat['ganancia_perdida_declarada_bolsa_argentina'].apply(categorizar_por)\n",
    "    df_cat['ganancia'].value_counts()\n",
    "    indices_cat = df_cat.groupby('ganancia')['tiene_alto_valor_adquisitivo'].aggregate(lambda x: np.mean(x))\n",
    "    return (df_cat, indices_cat)\n",
    "\n",
    "df_gan_3_cat, indices_3_cat = categorizar_ganancia(df,lambda gan: 'Cero' if gan == 0 else ('Perdida' if gan < 0 else 'Ganancia'))\n",
    "df_gan_2_cat, indices_2_cat = categorizar_ganancia(df,lambda gan: 'Cero' if gan == 0 else 'Invierte')\n",
    "\n",
    "fig, axes = plt.subplots(nrows=1, ncols=2, figsize=[6.4 * 2, 4.8], dpi=100)\n",
    "\n",
    "sns.barplot(\n",
    "    data=df_gan_3_cat,\n",
    "    x='ganancia',\n",
    "    y='tiene_alto_valor_adquisitivo',\n",
    "    order= indices_3_cat.sort_values(ascending=False).index,\n",
    "    ax=axes[0])\n",
    "axes[0].set(title=\"Ganancia categorizada en 3\",xlabel=\"Categorias ganancia\",ylabel=\"Porcentaje de alto valor adquisitivo\")\n",
    "axes[0].axhline(prom, color=\"darkred\", label=\"Promedio de personas con alto VA\")\n",
    "\n",
    "sns.barplot(\n",
    "    data=df_gan_2_cat,\n",
    "    x='ganancia',\n",
    "    y='tiene_alto_valor_adquisitivo',\n",
    "    order= indices_2_cat.sort_values(ascending=False).index,\n",
    "    ax=axes[1])\n",
    "\n",
    "axes[1].set(title=\"Ganancia categorizada en 2\",xlabel=\"Categorias ganancia\",ylabel=\"Porcentaje de alto valor adquisitivo\")\n",
    "axes[1].axhline(prom, color=\"darkred\", label=\"Promedio de personas con alto VA\")\n",
    "\n",
    "prom = df['tiene_alto_valor_adquisitivo'].mean()\n",
    "plt.show()"
   ]
  },
  {
   "cell_type": "markdown",
   "id": "0825d4be",
   "metadata": {},
   "source": [
    "Como se puede apreciar el grafico de la izquierda transmite la misma informacion que el de la derecha, en el sentido que aun teniendo perdida el accionista tiene un porcentaje comparable al que registro una ganancia, es por ello que nos parece apropiado agruparlo en una categoria llamada Invierte. Otra cosa a notar es que como era de esperarse alguien que invierte tiene mayor poder adquisitivo que la media."
   ]
  },
  {
   "cell_type": "markdown",
   "id": "700873c6",
   "metadata": {},
   "source": [
    "### ¿Que profesiones son mas determinantes?"
   ]
  },
  {
   "cell_type": "markdown",
   "id": "60b96dc3",
   "metadata": {},
   "source": [
    "Sabemos que distintas profesiones tienen distintos ingresos, por lo tanto podriamos esperar que las profesiones con mayor remuneracion tengan un mayor porcentaje con alto poder adquisitivo"
   ]
  },
  {
   "cell_type": "markdown",
   "id": "40aaa4ef",
   "metadata": {},
   "source": [
    "## Observaciones:"
   ]
  },
  {
   "cell_type": "markdown",
   "id": "132b0dc9",
   "metadata": {},
   "source": [
    "## Conclusion:"
   ]
  },
  {
   "cell_type": "markdown",
   "id": "b7dce04b",
   "metadata": {},
   "source": [
    "## Baseline:"
   ]
  }
 ],
 "metadata": {
  "kernelspec": {
   "display_name": "Python 3",
   "language": "python",
   "name": "python3"
  },
  "language_info": {
   "codemirror_mode": {
    "name": "ipython",
    "version": 3
   },
   "file_extension": ".py",
   "mimetype": "text/x-python",
   "name": "python",
   "nbconvert_exporter": "python",
   "pygments_lexer": "ipython3",
   "version": "3.8.5"
  }
 },
 "nbformat": 4,
 "nbformat_minor": 5
}
